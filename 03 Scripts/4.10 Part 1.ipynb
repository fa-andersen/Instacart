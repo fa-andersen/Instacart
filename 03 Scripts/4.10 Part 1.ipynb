{
 "cells": [
  {
   "cell_type": "markdown",
   "id": "2fb34243",
   "metadata": {},
   "source": [
    "# 4.10 Part 1: Instacart\n",
    "\n",
    "### This script contains the following points:\n",
    "#### 01. Import libraries and data (incl. security implications/PII)\n",
    "#### 02. Consistency Checks on df_ords_prods_customers and df_dep\n",
    "####       a. Merge department_wrangled.csv to df and save as df_all\n",
    "#### 03. Create & Explore Regions\n",
    "#### 04. Create Exclusion Flag for Low-Activity customers\n",
    "#### 05. Create Customer Profiles/Flags\n",
    "#### 06. Export data df_all, df_excluded, and df_low activity as pkl files"
   ]
  },
  {
   "cell_type": "markdown",
   "id": "8fe276ca",
   "metadata": {},
   "source": [
    "# 01 Import libraries & data"
   ]
  },
  {
   "cell_type": "code",
   "execution_count": 1,
   "id": "89d6ffc8",
   "metadata": {
    "ExecuteTime": {
     "end_time": "2024-03-07T20:32:37.354006Z",
     "start_time": "2024-03-07T20:32:35.131903Z"
    }
   },
   "outputs": [],
   "source": [
    "#import libraries\n",
    "import pandas as pd\n",
    "import numpy as np\n",
    "import os\n",
    "import matplotlib.pyplot as plt\n",
    "import matplotlib.ticker as ticker\n",
    "import seaborn as sns\n",
    "import scipy"
   ]
  },
  {
   "cell_type": "code",
   "execution_count": 2,
   "id": "bb85238f",
   "metadata": {
    "ExecuteTime": {
     "end_time": "2024-03-07T20:32:37.360676Z",
     "start_time": "2024-03-07T20:32:37.355098Z"
    }
   },
   "outputs": [],
   "source": [
    "#create data path\n",
    "path = r'C:\\Users\\fa_an\\OneDrive\\CareerFoundry\\Tasks\\Data Analytics Immersion\\Tasks 4.1-4.10\\02_2024 Instacart Basket Analysis'"
   ]
  },
  {
   "cell_type": "code",
   "execution_count": 3,
   "id": "0d4aeece",
   "metadata": {
    "ExecuteTime": {
     "end_time": "2024-03-07T20:32:50.125005Z",
     "start_time": "2024-03-07T20:32:37.363883Z"
    }
   },
   "outputs": [],
   "source": [
    "#import data - df_all (order_products_customers w/ revisions)\n",
    "df_ords_prods_customers = pd.read_pickle(os.path.join(path, '02 Data', 'Prepared Data', 'ords_prods_customers_rev2.pkl'))"
   ]
  },
  {
   "cell_type": "markdown",
   "id": "26931647",
   "metadata": {},
   "source": [
    "#### Security Implications already considered based on customer/PII data. First Name and Surnam not saved/not merged with ords_prods_customers_rev.pkl"
   ]
  },
  {
   "cell_type": "code",
   "execution_count": 4,
   "id": "40a333d2",
   "metadata": {
    "ExecuteTime": {
     "end_time": "2024-03-07T20:32:50.146760Z",
     "start_time": "2024-03-07T20:32:50.126127Z"
    }
   },
   "outputs": [],
   "source": [
    "#import data - departments_wrangled.csv to get dept names\n",
    "df_dep = pd.read_csv(os.path.join(path, '02 Data', 'Prepared Data', 'departments_wrangled.csv'), index_col = 0)"
   ]
  },
  {
   "cell_type": "code",
   "execution_count": 5,
   "id": "81f57a1b",
   "metadata": {
    "ExecuteTime": {
     "end_time": "2024-03-07T20:32:50.154924Z",
     "start_time": "2024-03-07T20:32:50.150790Z"
    }
   },
   "outputs": [],
   "source": [
    "pd.set_option('display.max_columns', None)"
   ]
  },
  {
   "cell_type": "markdown",
   "id": "66ec123e",
   "metadata": {},
   "source": [
    "# 02 Consistency Checks on df_all and df_dep"
   ]
  },
  {
   "cell_type": "code",
   "execution_count": 6,
   "id": "5669b8f8",
   "metadata": {
    "ExecuteTime": {
     "end_time": "2024-03-07T20:32:50.172428Z",
     "start_time": "2024-03-07T20:32:50.157957Z"
    },
    "scrolled": false
   },
   "outputs": [
    {
     "name": "stdout",
     "output_type": "stream",
     "text": [
      "<class 'pandas.core.frame.DataFrame'>\n",
      "RangeIndex: 32404859 entries, 0 to 32404858\n",
      "Data columns (total 27 columns):\n",
      " #   Column                      Dtype  \n",
      "---  ------                      -----  \n",
      " 0   order_id                    int32  \n",
      " 1   user_id                     int32  \n",
      " 2   order_number                int8   \n",
      " 3   orders_day_of_week          int8   \n",
      " 4   order_hour_of_day           int8   \n",
      " 5   days_since_prior_order      float16\n",
      " 6   product_id                  int32  \n",
      " 7   add_to_cart_order           uint8  \n",
      " 8   reordered                   int8   \n",
      " 9   product_name                object \n",
      " 10  department_id               int8   \n",
      " 11  prices                      float32\n",
      " 12  price_label                 object \n",
      " 13  busiest_days                object \n",
      " 14  max_order                   int8   \n",
      " 15  loyalty_flag                object \n",
      " 16  mean_product_price          float32\n",
      " 17  spending_flag               object \n",
      " 18  median_days_between_orders  float16\n",
      " 19  order_frequency_flag        object \n",
      " 20  Gender                      object \n",
      " 21  State                       object \n",
      " 22  Age                         int8   \n",
      " 23  total_dependants            int8   \n",
      " 24  family_status               object \n",
      " 25  income                      int32  \n",
      " 26  sum_order                   float32\n",
      "dtypes: float16(2), float32(3), int32(4), int8(8), object(9), uint8(1)\n",
      "memory usage: 3.4+ GB\n"
     ]
    }
   ],
   "source": [
    "df_ords_prods_customers.info()"
   ]
  },
  {
   "cell_type": "code",
   "execution_count": 7,
   "id": "42cf57e3",
   "metadata": {
    "ExecuteTime": {
     "end_time": "2024-03-07T20:32:50.205677Z",
     "start_time": "2024-03-07T20:32:50.173433Z"
    },
    "scrolled": false
   },
   "outputs": [
    {
     "data": {
      "text/html": [
       "<div>\n",
       "<style scoped>\n",
       "    .dataframe tbody tr th:only-of-type {\n",
       "        vertical-align: middle;\n",
       "    }\n",
       "\n",
       "    .dataframe tbody tr th {\n",
       "        vertical-align: top;\n",
       "    }\n",
       "\n",
       "    .dataframe thead th {\n",
       "        text-align: right;\n",
       "    }\n",
       "</style>\n",
       "<table border=\"1\" class=\"dataframe\">\n",
       "  <thead>\n",
       "    <tr style=\"text-align: right;\">\n",
       "      <th></th>\n",
       "      <th>order_id</th>\n",
       "      <th>user_id</th>\n",
       "      <th>order_number</th>\n",
       "      <th>orders_day_of_week</th>\n",
       "      <th>order_hour_of_day</th>\n",
       "      <th>days_since_prior_order</th>\n",
       "      <th>product_id</th>\n",
       "      <th>add_to_cart_order</th>\n",
       "      <th>reordered</th>\n",
       "      <th>product_name</th>\n",
       "      <th>department_id</th>\n",
       "      <th>prices</th>\n",
       "      <th>price_label</th>\n",
       "      <th>busiest_days</th>\n",
       "      <th>max_order</th>\n",
       "      <th>loyalty_flag</th>\n",
       "      <th>mean_product_price</th>\n",
       "      <th>spending_flag</th>\n",
       "      <th>median_days_between_orders</th>\n",
       "      <th>order_frequency_flag</th>\n",
       "      <th>Gender</th>\n",
       "      <th>State</th>\n",
       "      <th>Age</th>\n",
       "      <th>total_dependants</th>\n",
       "      <th>family_status</th>\n",
       "      <th>income</th>\n",
       "      <th>sum_order</th>\n",
       "    </tr>\n",
       "  </thead>\n",
       "  <tbody>\n",
       "    <tr>\n",
       "      <th>0</th>\n",
       "      <td>2539329</td>\n",
       "      <td>1</td>\n",
       "      <td>1</td>\n",
       "      <td>2</td>\n",
       "      <td>8</td>\n",
       "      <td>NaN</td>\n",
       "      <td>196</td>\n",
       "      <td>1</td>\n",
       "      <td>0</td>\n",
       "      <td>Soda</td>\n",
       "      <td>7</td>\n",
       "      <td>9.0</td>\n",
       "      <td>Mid-range product</td>\n",
       "      <td>Regularly busy</td>\n",
       "      <td>10</td>\n",
       "      <td>New Customer</td>\n",
       "      <td>6.367796</td>\n",
       "      <td>Low Spender</td>\n",
       "      <td>20.5</td>\n",
       "      <td>Non-frequent customer</td>\n",
       "      <td>Female</td>\n",
       "      <td>Alabama</td>\n",
       "      <td>31</td>\n",
       "      <td>3</td>\n",
       "      <td>married</td>\n",
       "      <td>40423</td>\n",
       "      <td>31.600000</td>\n",
       "    </tr>\n",
       "    <tr>\n",
       "      <th>1</th>\n",
       "      <td>2398795</td>\n",
       "      <td>1</td>\n",
       "      <td>2</td>\n",
       "      <td>3</td>\n",
       "      <td>7</td>\n",
       "      <td>15.0</td>\n",
       "      <td>196</td>\n",
       "      <td>1</td>\n",
       "      <td>1</td>\n",
       "      <td>Soda</td>\n",
       "      <td>7</td>\n",
       "      <td>9.0</td>\n",
       "      <td>Mid-range product</td>\n",
       "      <td>Slowest days</td>\n",
       "      <td>10</td>\n",
       "      <td>New Customer</td>\n",
       "      <td>6.367796</td>\n",
       "      <td>Low Spender</td>\n",
       "      <td>20.5</td>\n",
       "      <td>Non-frequent customer</td>\n",
       "      <td>Female</td>\n",
       "      <td>Alabama</td>\n",
       "      <td>31</td>\n",
       "      <td>3</td>\n",
       "      <td>married</td>\n",
       "      <td>40423</td>\n",
       "      <td>35.400002</td>\n",
       "    </tr>\n",
       "    <tr>\n",
       "      <th>2</th>\n",
       "      <td>473747</td>\n",
       "      <td>1</td>\n",
       "      <td>3</td>\n",
       "      <td>3</td>\n",
       "      <td>12</td>\n",
       "      <td>21.0</td>\n",
       "      <td>196</td>\n",
       "      <td>1</td>\n",
       "      <td>1</td>\n",
       "      <td>Soda</td>\n",
       "      <td>7</td>\n",
       "      <td>9.0</td>\n",
       "      <td>Mid-range product</td>\n",
       "      <td>Slowest days</td>\n",
       "      <td>10</td>\n",
       "      <td>New Customer</td>\n",
       "      <td>6.367796</td>\n",
       "      <td>Low Spender</td>\n",
       "      <td>20.5</td>\n",
       "      <td>Non-frequent customer</td>\n",
       "      <td>Female</td>\n",
       "      <td>Alabama</td>\n",
       "      <td>31</td>\n",
       "      <td>3</td>\n",
       "      <td>married</td>\n",
       "      <td>40423</td>\n",
       "      <td>28.200001</td>\n",
       "    </tr>\n",
       "    <tr>\n",
       "      <th>3</th>\n",
       "      <td>2254736</td>\n",
       "      <td>1</td>\n",
       "      <td>4</td>\n",
       "      <td>4</td>\n",
       "      <td>7</td>\n",
       "      <td>29.0</td>\n",
       "      <td>196</td>\n",
       "      <td>1</td>\n",
       "      <td>1</td>\n",
       "      <td>Soda</td>\n",
       "      <td>7</td>\n",
       "      <td>9.0</td>\n",
       "      <td>Mid-range product</td>\n",
       "      <td>Slowest days</td>\n",
       "      <td>10</td>\n",
       "      <td>New Customer</td>\n",
       "      <td>6.367796</td>\n",
       "      <td>Low Spender</td>\n",
       "      <td>20.5</td>\n",
       "      <td>Non-frequent customer</td>\n",
       "      <td>Female</td>\n",
       "      <td>Alabama</td>\n",
       "      <td>31</td>\n",
       "      <td>3</td>\n",
       "      <td>married</td>\n",
       "      <td>40423</td>\n",
       "      <td>26.000000</td>\n",
       "    </tr>\n",
       "    <tr>\n",
       "      <th>4</th>\n",
       "      <td>431534</td>\n",
       "      <td>1</td>\n",
       "      <td>5</td>\n",
       "      <td>4</td>\n",
       "      <td>15</td>\n",
       "      <td>28.0</td>\n",
       "      <td>196</td>\n",
       "      <td>1</td>\n",
       "      <td>1</td>\n",
       "      <td>Soda</td>\n",
       "      <td>7</td>\n",
       "      <td>9.0</td>\n",
       "      <td>Mid-range product</td>\n",
       "      <td>Slowest days</td>\n",
       "      <td>10</td>\n",
       "      <td>New Customer</td>\n",
       "      <td>6.367796</td>\n",
       "      <td>Low Spender</td>\n",
       "      <td>20.5</td>\n",
       "      <td>Non-frequent customer</td>\n",
       "      <td>Female</td>\n",
       "      <td>Alabama</td>\n",
       "      <td>31</td>\n",
       "      <td>3</td>\n",
       "      <td>married</td>\n",
       "      <td>40423</td>\n",
       "      <td>57.000000</td>\n",
       "    </tr>\n",
       "    <tr>\n",
       "      <th>5</th>\n",
       "      <td>3367565</td>\n",
       "      <td>1</td>\n",
       "      <td>6</td>\n",
       "      <td>2</td>\n",
       "      <td>7</td>\n",
       "      <td>19.0</td>\n",
       "      <td>196</td>\n",
       "      <td>1</td>\n",
       "      <td>1</td>\n",
       "      <td>Soda</td>\n",
       "      <td>7</td>\n",
       "      <td>9.0</td>\n",
       "      <td>Mid-range product</td>\n",
       "      <td>Regularly busy</td>\n",
       "      <td>10</td>\n",
       "      <td>New Customer</td>\n",
       "      <td>6.367796</td>\n",
       "      <td>Low Spender</td>\n",
       "      <td>20.5</td>\n",
       "      <td>Non-frequent customer</td>\n",
       "      <td>Female</td>\n",
       "      <td>Alabama</td>\n",
       "      <td>31</td>\n",
       "      <td>3</td>\n",
       "      <td>married</td>\n",
       "      <td>40423</td>\n",
       "      <td>25.000000</td>\n",
       "    </tr>\n",
       "    <tr>\n",
       "      <th>6</th>\n",
       "      <td>550135</td>\n",
       "      <td>1</td>\n",
       "      <td>7</td>\n",
       "      <td>1</td>\n",
       "      <td>9</td>\n",
       "      <td>20.0</td>\n",
       "      <td>196</td>\n",
       "      <td>1</td>\n",
       "      <td>1</td>\n",
       "      <td>Soda</td>\n",
       "      <td>7</td>\n",
       "      <td>9.0</td>\n",
       "      <td>Mid-range product</td>\n",
       "      <td>Busiest days</td>\n",
       "      <td>10</td>\n",
       "      <td>New Customer</td>\n",
       "      <td>6.367796</td>\n",
       "      <td>Low Spender</td>\n",
       "      <td>20.5</td>\n",
       "      <td>Non-frequent customer</td>\n",
       "      <td>Female</td>\n",
       "      <td>Alabama</td>\n",
       "      <td>31</td>\n",
       "      <td>3</td>\n",
       "      <td>married</td>\n",
       "      <td>40423</td>\n",
       "      <td>29.000000</td>\n",
       "    </tr>\n",
       "    <tr>\n",
       "      <th>7</th>\n",
       "      <td>3108588</td>\n",
       "      <td>1</td>\n",
       "      <td>8</td>\n",
       "      <td>1</td>\n",
       "      <td>14</td>\n",
       "      <td>14.0</td>\n",
       "      <td>196</td>\n",
       "      <td>2</td>\n",
       "      <td>1</td>\n",
       "      <td>Soda</td>\n",
       "      <td>7</td>\n",
       "      <td>9.0</td>\n",
       "      <td>Mid-range product</td>\n",
       "      <td>Busiest days</td>\n",
       "      <td>10</td>\n",
       "      <td>New Customer</td>\n",
       "      <td>6.367796</td>\n",
       "      <td>Low Spender</td>\n",
       "      <td>20.5</td>\n",
       "      <td>Non-frequent customer</td>\n",
       "      <td>Female</td>\n",
       "      <td>Alabama</td>\n",
       "      <td>31</td>\n",
       "      <td>3</td>\n",
       "      <td>married</td>\n",
       "      <td>40423</td>\n",
       "      <td>40.200001</td>\n",
       "    </tr>\n",
       "    <tr>\n",
       "      <th>8</th>\n",
       "      <td>2295261</td>\n",
       "      <td>1</td>\n",
       "      <td>9</td>\n",
       "      <td>1</td>\n",
       "      <td>16</td>\n",
       "      <td>0.0</td>\n",
       "      <td>196</td>\n",
       "      <td>4</td>\n",
       "      <td>1</td>\n",
       "      <td>Soda</td>\n",
       "      <td>7</td>\n",
       "      <td>9.0</td>\n",
       "      <td>Mid-range product</td>\n",
       "      <td>Busiest days</td>\n",
       "      <td>10</td>\n",
       "      <td>New Customer</td>\n",
       "      <td>6.367796</td>\n",
       "      <td>Low Spender</td>\n",
       "      <td>20.5</td>\n",
       "      <td>Non-frequent customer</td>\n",
       "      <td>Female</td>\n",
       "      <td>Alabama</td>\n",
       "      <td>31</td>\n",
       "      <td>3</td>\n",
       "      <td>married</td>\n",
       "      <td>40423</td>\n",
       "      <td>40.200001</td>\n",
       "    </tr>\n",
       "    <tr>\n",
       "      <th>9</th>\n",
       "      <td>2550362</td>\n",
       "      <td>1</td>\n",
       "      <td>10</td>\n",
       "      <td>4</td>\n",
       "      <td>8</td>\n",
       "      <td>30.0</td>\n",
       "      <td>196</td>\n",
       "      <td>1</td>\n",
       "      <td>1</td>\n",
       "      <td>Soda</td>\n",
       "      <td>7</td>\n",
       "      <td>9.0</td>\n",
       "      <td>Mid-range product</td>\n",
       "      <td>Slowest days</td>\n",
       "      <td>10</td>\n",
       "      <td>New Customer</td>\n",
       "      <td>6.367796</td>\n",
       "      <td>Low Spender</td>\n",
       "      <td>20.5</td>\n",
       "      <td>Non-frequent customer</td>\n",
       "      <td>Female</td>\n",
       "      <td>Alabama</td>\n",
       "      <td>31</td>\n",
       "      <td>3</td>\n",
       "      <td>married</td>\n",
       "      <td>40423</td>\n",
       "      <td>63.099998</td>\n",
       "    </tr>\n",
       "    <tr>\n",
       "      <th>10</th>\n",
       "      <td>2539329</td>\n",
       "      <td>1</td>\n",
       "      <td>1</td>\n",
       "      <td>2</td>\n",
       "      <td>8</td>\n",
       "      <td>NaN</td>\n",
       "      <td>14084</td>\n",
       "      <td>2</td>\n",
       "      <td>0</td>\n",
       "      <td>Organic Unsweetened Vanilla Almond Milk</td>\n",
       "      <td>16</td>\n",
       "      <td>12.5</td>\n",
       "      <td>Mid-range product</td>\n",
       "      <td>Regularly busy</td>\n",
       "      <td>10</td>\n",
       "      <td>New Customer</td>\n",
       "      <td>6.367796</td>\n",
       "      <td>Low Spender</td>\n",
       "      <td>20.5</td>\n",
       "      <td>Non-frequent customer</td>\n",
       "      <td>Female</td>\n",
       "      <td>Alabama</td>\n",
       "      <td>31</td>\n",
       "      <td>3</td>\n",
       "      <td>married</td>\n",
       "      <td>40423</td>\n",
       "      <td>31.600000</td>\n",
       "    </tr>\n",
       "    <tr>\n",
       "      <th>11</th>\n",
       "      <td>2539329</td>\n",
       "      <td>1</td>\n",
       "      <td>1</td>\n",
       "      <td>2</td>\n",
       "      <td>8</td>\n",
       "      <td>NaN</td>\n",
       "      <td>12427</td>\n",
       "      <td>3</td>\n",
       "      <td>0</td>\n",
       "      <td>Original Beef Jerky</td>\n",
       "      <td>19</td>\n",
       "      <td>4.4</td>\n",
       "      <td>Low-range product</td>\n",
       "      <td>Regularly busy</td>\n",
       "      <td>10</td>\n",
       "      <td>New Customer</td>\n",
       "      <td>6.367796</td>\n",
       "      <td>Low Spender</td>\n",
       "      <td>20.5</td>\n",
       "      <td>Non-frequent customer</td>\n",
       "      <td>Female</td>\n",
       "      <td>Alabama</td>\n",
       "      <td>31</td>\n",
       "      <td>3</td>\n",
       "      <td>married</td>\n",
       "      <td>40423</td>\n",
       "      <td>31.600000</td>\n",
       "    </tr>\n",
       "    <tr>\n",
       "      <th>12</th>\n",
       "      <td>2398795</td>\n",
       "      <td>1</td>\n",
       "      <td>2</td>\n",
       "      <td>3</td>\n",
       "      <td>7</td>\n",
       "      <td>15.0</td>\n",
       "      <td>12427</td>\n",
       "      <td>3</td>\n",
       "      <td>1</td>\n",
       "      <td>Original Beef Jerky</td>\n",
       "      <td>19</td>\n",
       "      <td>4.4</td>\n",
       "      <td>Low-range product</td>\n",
       "      <td>Slowest days</td>\n",
       "      <td>10</td>\n",
       "      <td>New Customer</td>\n",
       "      <td>6.367796</td>\n",
       "      <td>Low Spender</td>\n",
       "      <td>20.5</td>\n",
       "      <td>Non-frequent customer</td>\n",
       "      <td>Female</td>\n",
       "      <td>Alabama</td>\n",
       "      <td>31</td>\n",
       "      <td>3</td>\n",
       "      <td>married</td>\n",
       "      <td>40423</td>\n",
       "      <td>35.400002</td>\n",
       "    </tr>\n",
       "    <tr>\n",
       "      <th>13</th>\n",
       "      <td>473747</td>\n",
       "      <td>1</td>\n",
       "      <td>3</td>\n",
       "      <td>3</td>\n",
       "      <td>12</td>\n",
       "      <td>21.0</td>\n",
       "      <td>12427</td>\n",
       "      <td>2</td>\n",
       "      <td>1</td>\n",
       "      <td>Original Beef Jerky</td>\n",
       "      <td>19</td>\n",
       "      <td>4.4</td>\n",
       "      <td>Low-range product</td>\n",
       "      <td>Slowest days</td>\n",
       "      <td>10</td>\n",
       "      <td>New Customer</td>\n",
       "      <td>6.367796</td>\n",
       "      <td>Low Spender</td>\n",
       "      <td>20.5</td>\n",
       "      <td>Non-frequent customer</td>\n",
       "      <td>Female</td>\n",
       "      <td>Alabama</td>\n",
       "      <td>31</td>\n",
       "      <td>3</td>\n",
       "      <td>married</td>\n",
       "      <td>40423</td>\n",
       "      <td>28.200001</td>\n",
       "    </tr>\n",
       "    <tr>\n",
       "      <th>14</th>\n",
       "      <td>2254736</td>\n",
       "      <td>1</td>\n",
       "      <td>4</td>\n",
       "      <td>4</td>\n",
       "      <td>7</td>\n",
       "      <td>29.0</td>\n",
       "      <td>12427</td>\n",
       "      <td>2</td>\n",
       "      <td>1</td>\n",
       "      <td>Original Beef Jerky</td>\n",
       "      <td>19</td>\n",
       "      <td>4.4</td>\n",
       "      <td>Low-range product</td>\n",
       "      <td>Slowest days</td>\n",
       "      <td>10</td>\n",
       "      <td>New Customer</td>\n",
       "      <td>6.367796</td>\n",
       "      <td>Low Spender</td>\n",
       "      <td>20.5</td>\n",
       "      <td>Non-frequent customer</td>\n",
       "      <td>Female</td>\n",
       "      <td>Alabama</td>\n",
       "      <td>31</td>\n",
       "      <td>3</td>\n",
       "      <td>married</td>\n",
       "      <td>40423</td>\n",
       "      <td>26.000000</td>\n",
       "    </tr>\n",
       "    <tr>\n",
       "      <th>15</th>\n",
       "      <td>431534</td>\n",
       "      <td>1</td>\n",
       "      <td>5</td>\n",
       "      <td>4</td>\n",
       "      <td>15</td>\n",
       "      <td>28.0</td>\n",
       "      <td>12427</td>\n",
       "      <td>2</td>\n",
       "      <td>1</td>\n",
       "      <td>Original Beef Jerky</td>\n",
       "      <td>19</td>\n",
       "      <td>4.4</td>\n",
       "      <td>Low-range product</td>\n",
       "      <td>Slowest days</td>\n",
       "      <td>10</td>\n",
       "      <td>New Customer</td>\n",
       "      <td>6.367796</td>\n",
       "      <td>Low Spender</td>\n",
       "      <td>20.5</td>\n",
       "      <td>Non-frequent customer</td>\n",
       "      <td>Female</td>\n",
       "      <td>Alabama</td>\n",
       "      <td>31</td>\n",
       "      <td>3</td>\n",
       "      <td>married</td>\n",
       "      <td>40423</td>\n",
       "      <td>57.000000</td>\n",
       "    </tr>\n",
       "    <tr>\n",
       "      <th>16</th>\n",
       "      <td>3367565</td>\n",
       "      <td>1</td>\n",
       "      <td>6</td>\n",
       "      <td>2</td>\n",
       "      <td>7</td>\n",
       "      <td>19.0</td>\n",
       "      <td>12427</td>\n",
       "      <td>2</td>\n",
       "      <td>1</td>\n",
       "      <td>Original Beef Jerky</td>\n",
       "      <td>19</td>\n",
       "      <td>4.4</td>\n",
       "      <td>Low-range product</td>\n",
       "      <td>Regularly busy</td>\n",
       "      <td>10</td>\n",
       "      <td>New Customer</td>\n",
       "      <td>6.367796</td>\n",
       "      <td>Low Spender</td>\n",
       "      <td>20.5</td>\n",
       "      <td>Non-frequent customer</td>\n",
       "      <td>Female</td>\n",
       "      <td>Alabama</td>\n",
       "      <td>31</td>\n",
       "      <td>3</td>\n",
       "      <td>married</td>\n",
       "      <td>40423</td>\n",
       "      <td>25.000000</td>\n",
       "    </tr>\n",
       "    <tr>\n",
       "      <th>17</th>\n",
       "      <td>550135</td>\n",
       "      <td>1</td>\n",
       "      <td>7</td>\n",
       "      <td>1</td>\n",
       "      <td>9</td>\n",
       "      <td>20.0</td>\n",
       "      <td>12427</td>\n",
       "      <td>3</td>\n",
       "      <td>1</td>\n",
       "      <td>Original Beef Jerky</td>\n",
       "      <td>19</td>\n",
       "      <td>4.4</td>\n",
       "      <td>Low-range product</td>\n",
       "      <td>Busiest days</td>\n",
       "      <td>10</td>\n",
       "      <td>New Customer</td>\n",
       "      <td>6.367796</td>\n",
       "      <td>Low Spender</td>\n",
       "      <td>20.5</td>\n",
       "      <td>Non-frequent customer</td>\n",
       "      <td>Female</td>\n",
       "      <td>Alabama</td>\n",
       "      <td>31</td>\n",
       "      <td>3</td>\n",
       "      <td>married</td>\n",
       "      <td>40423</td>\n",
       "      <td>29.000000</td>\n",
       "    </tr>\n",
       "    <tr>\n",
       "      <th>18</th>\n",
       "      <td>3108588</td>\n",
       "      <td>1</td>\n",
       "      <td>8</td>\n",
       "      <td>1</td>\n",
       "      <td>14</td>\n",
       "      <td>14.0</td>\n",
       "      <td>12427</td>\n",
       "      <td>1</td>\n",
       "      <td>1</td>\n",
       "      <td>Original Beef Jerky</td>\n",
       "      <td>19</td>\n",
       "      <td>4.4</td>\n",
       "      <td>Low-range product</td>\n",
       "      <td>Busiest days</td>\n",
       "      <td>10</td>\n",
       "      <td>New Customer</td>\n",
       "      <td>6.367796</td>\n",
       "      <td>Low Spender</td>\n",
       "      <td>20.5</td>\n",
       "      <td>Non-frequent customer</td>\n",
       "      <td>Female</td>\n",
       "      <td>Alabama</td>\n",
       "      <td>31</td>\n",
       "      <td>3</td>\n",
       "      <td>married</td>\n",
       "      <td>40423</td>\n",
       "      <td>40.200001</td>\n",
       "    </tr>\n",
       "    <tr>\n",
       "      <th>19</th>\n",
       "      <td>2295261</td>\n",
       "      <td>1</td>\n",
       "      <td>9</td>\n",
       "      <td>1</td>\n",
       "      <td>16</td>\n",
       "      <td>0.0</td>\n",
       "      <td>12427</td>\n",
       "      <td>6</td>\n",
       "      <td>1</td>\n",
       "      <td>Original Beef Jerky</td>\n",
       "      <td>19</td>\n",
       "      <td>4.4</td>\n",
       "      <td>Low-range product</td>\n",
       "      <td>Busiest days</td>\n",
       "      <td>10</td>\n",
       "      <td>New Customer</td>\n",
       "      <td>6.367796</td>\n",
       "      <td>Low Spender</td>\n",
       "      <td>20.5</td>\n",
       "      <td>Non-frequent customer</td>\n",
       "      <td>Female</td>\n",
       "      <td>Alabama</td>\n",
       "      <td>31</td>\n",
       "      <td>3</td>\n",
       "      <td>married</td>\n",
       "      <td>40423</td>\n",
       "      <td>40.200001</td>\n",
       "    </tr>\n",
       "  </tbody>\n",
       "</table>\n",
       "</div>"
      ],
      "text/plain": [
       "    order_id  user_id  order_number  orders_day_of_week  order_hour_of_day  \\\n",
       "0    2539329        1             1                   2                  8   \n",
       "1    2398795        1             2                   3                  7   \n",
       "2     473747        1             3                   3                 12   \n",
       "3    2254736        1             4                   4                  7   \n",
       "4     431534        1             5                   4                 15   \n",
       "5    3367565        1             6                   2                  7   \n",
       "6     550135        1             7                   1                  9   \n",
       "7    3108588        1             8                   1                 14   \n",
       "8    2295261        1             9                   1                 16   \n",
       "9    2550362        1            10                   4                  8   \n",
       "10   2539329        1             1                   2                  8   \n",
       "11   2539329        1             1                   2                  8   \n",
       "12   2398795        1             2                   3                  7   \n",
       "13    473747        1             3                   3                 12   \n",
       "14   2254736        1             4                   4                  7   \n",
       "15    431534        1             5                   4                 15   \n",
       "16   3367565        1             6                   2                  7   \n",
       "17    550135        1             7                   1                  9   \n",
       "18   3108588        1             8                   1                 14   \n",
       "19   2295261        1             9                   1                 16   \n",
       "\n",
       "    days_since_prior_order  product_id  add_to_cart_order  reordered  \\\n",
       "0                      NaN         196                  1          0   \n",
       "1                     15.0         196                  1          1   \n",
       "2                     21.0         196                  1          1   \n",
       "3                     29.0         196                  1          1   \n",
       "4                     28.0         196                  1          1   \n",
       "5                     19.0         196                  1          1   \n",
       "6                     20.0         196                  1          1   \n",
       "7                     14.0         196                  2          1   \n",
       "8                      0.0         196                  4          1   \n",
       "9                     30.0         196                  1          1   \n",
       "10                     NaN       14084                  2          0   \n",
       "11                     NaN       12427                  3          0   \n",
       "12                    15.0       12427                  3          1   \n",
       "13                    21.0       12427                  2          1   \n",
       "14                    29.0       12427                  2          1   \n",
       "15                    28.0       12427                  2          1   \n",
       "16                    19.0       12427                  2          1   \n",
       "17                    20.0       12427                  3          1   \n",
       "18                    14.0       12427                  1          1   \n",
       "19                     0.0       12427                  6          1   \n",
       "\n",
       "                               product_name  department_id  prices  \\\n",
       "0                                      Soda              7     9.0   \n",
       "1                                      Soda              7     9.0   \n",
       "2                                      Soda              7     9.0   \n",
       "3                                      Soda              7     9.0   \n",
       "4                                      Soda              7     9.0   \n",
       "5                                      Soda              7     9.0   \n",
       "6                                      Soda              7     9.0   \n",
       "7                                      Soda              7     9.0   \n",
       "8                                      Soda              7     9.0   \n",
       "9                                      Soda              7     9.0   \n",
       "10  Organic Unsweetened Vanilla Almond Milk             16    12.5   \n",
       "11                      Original Beef Jerky             19     4.4   \n",
       "12                      Original Beef Jerky             19     4.4   \n",
       "13                      Original Beef Jerky             19     4.4   \n",
       "14                      Original Beef Jerky             19     4.4   \n",
       "15                      Original Beef Jerky             19     4.4   \n",
       "16                      Original Beef Jerky             19     4.4   \n",
       "17                      Original Beef Jerky             19     4.4   \n",
       "18                      Original Beef Jerky             19     4.4   \n",
       "19                      Original Beef Jerky             19     4.4   \n",
       "\n",
       "          price_label    busiest_days  max_order  loyalty_flag  \\\n",
       "0   Mid-range product  Regularly busy         10  New Customer   \n",
       "1   Mid-range product    Slowest days         10  New Customer   \n",
       "2   Mid-range product    Slowest days         10  New Customer   \n",
       "3   Mid-range product    Slowest days         10  New Customer   \n",
       "4   Mid-range product    Slowest days         10  New Customer   \n",
       "5   Mid-range product  Regularly busy         10  New Customer   \n",
       "6   Mid-range product    Busiest days         10  New Customer   \n",
       "7   Mid-range product    Busiest days         10  New Customer   \n",
       "8   Mid-range product    Busiest days         10  New Customer   \n",
       "9   Mid-range product    Slowest days         10  New Customer   \n",
       "10  Mid-range product  Regularly busy         10  New Customer   \n",
       "11  Low-range product  Regularly busy         10  New Customer   \n",
       "12  Low-range product    Slowest days         10  New Customer   \n",
       "13  Low-range product    Slowest days         10  New Customer   \n",
       "14  Low-range product    Slowest days         10  New Customer   \n",
       "15  Low-range product    Slowest days         10  New Customer   \n",
       "16  Low-range product  Regularly busy         10  New Customer   \n",
       "17  Low-range product    Busiest days         10  New Customer   \n",
       "18  Low-range product    Busiest days         10  New Customer   \n",
       "19  Low-range product    Busiest days         10  New Customer   \n",
       "\n",
       "    mean_product_price spending_flag  median_days_between_orders  \\\n",
       "0             6.367796   Low Spender                        20.5   \n",
       "1             6.367796   Low Spender                        20.5   \n",
       "2             6.367796   Low Spender                        20.5   \n",
       "3             6.367796   Low Spender                        20.5   \n",
       "4             6.367796   Low Spender                        20.5   \n",
       "5             6.367796   Low Spender                        20.5   \n",
       "6             6.367796   Low Spender                        20.5   \n",
       "7             6.367796   Low Spender                        20.5   \n",
       "8             6.367796   Low Spender                        20.5   \n",
       "9             6.367796   Low Spender                        20.5   \n",
       "10            6.367796   Low Spender                        20.5   \n",
       "11            6.367796   Low Spender                        20.5   \n",
       "12            6.367796   Low Spender                        20.5   \n",
       "13            6.367796   Low Spender                        20.5   \n",
       "14            6.367796   Low Spender                        20.5   \n",
       "15            6.367796   Low Spender                        20.5   \n",
       "16            6.367796   Low Spender                        20.5   \n",
       "17            6.367796   Low Spender                        20.5   \n",
       "18            6.367796   Low Spender                        20.5   \n",
       "19            6.367796   Low Spender                        20.5   \n",
       "\n",
       "     order_frequency_flag  Gender    State  Age  total_dependants  \\\n",
       "0   Non-frequent customer  Female  Alabama   31                 3   \n",
       "1   Non-frequent customer  Female  Alabama   31                 3   \n",
       "2   Non-frequent customer  Female  Alabama   31                 3   \n",
       "3   Non-frequent customer  Female  Alabama   31                 3   \n",
       "4   Non-frequent customer  Female  Alabama   31                 3   \n",
       "5   Non-frequent customer  Female  Alabama   31                 3   \n",
       "6   Non-frequent customer  Female  Alabama   31                 3   \n",
       "7   Non-frequent customer  Female  Alabama   31                 3   \n",
       "8   Non-frequent customer  Female  Alabama   31                 3   \n",
       "9   Non-frequent customer  Female  Alabama   31                 3   \n",
       "10  Non-frequent customer  Female  Alabama   31                 3   \n",
       "11  Non-frequent customer  Female  Alabama   31                 3   \n",
       "12  Non-frequent customer  Female  Alabama   31                 3   \n",
       "13  Non-frequent customer  Female  Alabama   31                 3   \n",
       "14  Non-frequent customer  Female  Alabama   31                 3   \n",
       "15  Non-frequent customer  Female  Alabama   31                 3   \n",
       "16  Non-frequent customer  Female  Alabama   31                 3   \n",
       "17  Non-frequent customer  Female  Alabama   31                 3   \n",
       "18  Non-frequent customer  Female  Alabama   31                 3   \n",
       "19  Non-frequent customer  Female  Alabama   31                 3   \n",
       "\n",
       "   family_status  income  sum_order  \n",
       "0        married   40423  31.600000  \n",
       "1        married   40423  35.400002  \n",
       "2        married   40423  28.200001  \n",
       "3        married   40423  26.000000  \n",
       "4        married   40423  57.000000  \n",
       "5        married   40423  25.000000  \n",
       "6        married   40423  29.000000  \n",
       "7        married   40423  40.200001  \n",
       "8        married   40423  40.200001  \n",
       "9        married   40423  63.099998  \n",
       "10       married   40423  31.600000  \n",
       "11       married   40423  31.600000  \n",
       "12       married   40423  35.400002  \n",
       "13       married   40423  28.200001  \n",
       "14       married   40423  26.000000  \n",
       "15       married   40423  57.000000  \n",
       "16       married   40423  25.000000  \n",
       "17       married   40423  29.000000  \n",
       "18       married   40423  40.200001  \n",
       "19       married   40423  40.200001  "
      ]
     },
     "execution_count": 7,
     "metadata": {},
     "output_type": "execute_result"
    }
   ],
   "source": [
    "df_ords_prods_customers.head(20)"
   ]
  },
  {
   "cell_type": "code",
   "execution_count": 8,
   "id": "48b5c2c0",
   "metadata": {
    "ExecuteTime": {
     "end_time": "2024-03-07T20:32:50.221884Z",
     "start_time": "2024-03-07T20:32:50.207762Z"
    }
   },
   "outputs": [
    {
     "data": {
      "text/html": [
       "<div>\n",
       "<style scoped>\n",
       "    .dataframe tbody tr th:only-of-type {\n",
       "        vertical-align: middle;\n",
       "    }\n",
       "\n",
       "    .dataframe tbody tr th {\n",
       "        vertical-align: top;\n",
       "    }\n",
       "\n",
       "    .dataframe thead th {\n",
       "        text-align: right;\n",
       "    }\n",
       "</style>\n",
       "<table border=\"1\" class=\"dataframe\">\n",
       "  <thead>\n",
       "    <tr style=\"text-align: right;\">\n",
       "      <th></th>\n",
       "      <th>department</th>\n",
       "    </tr>\n",
       "  </thead>\n",
       "  <tbody>\n",
       "    <tr>\n",
       "      <th>1</th>\n",
       "      <td>frozen</td>\n",
       "    </tr>\n",
       "    <tr>\n",
       "      <th>2</th>\n",
       "      <td>other</td>\n",
       "    </tr>\n",
       "    <tr>\n",
       "      <th>3</th>\n",
       "      <td>bakery</td>\n",
       "    </tr>\n",
       "    <tr>\n",
       "      <th>4</th>\n",
       "      <td>produce</td>\n",
       "    </tr>\n",
       "    <tr>\n",
       "      <th>5</th>\n",
       "      <td>alcohol</td>\n",
       "    </tr>\n",
       "    <tr>\n",
       "      <th>6</th>\n",
       "      <td>international</td>\n",
       "    </tr>\n",
       "    <tr>\n",
       "      <th>7</th>\n",
       "      <td>beverages</td>\n",
       "    </tr>\n",
       "    <tr>\n",
       "      <th>8</th>\n",
       "      <td>pets</td>\n",
       "    </tr>\n",
       "    <tr>\n",
       "      <th>9</th>\n",
       "      <td>dry goods pasta</td>\n",
       "    </tr>\n",
       "    <tr>\n",
       "      <th>10</th>\n",
       "      <td>bulk</td>\n",
       "    </tr>\n",
       "    <tr>\n",
       "      <th>11</th>\n",
       "      <td>personal care</td>\n",
       "    </tr>\n",
       "    <tr>\n",
       "      <th>12</th>\n",
       "      <td>meat seafood</td>\n",
       "    </tr>\n",
       "    <tr>\n",
       "      <th>13</th>\n",
       "      <td>pantry</td>\n",
       "    </tr>\n",
       "    <tr>\n",
       "      <th>14</th>\n",
       "      <td>breakfast</td>\n",
       "    </tr>\n",
       "    <tr>\n",
       "      <th>15</th>\n",
       "      <td>canned goods</td>\n",
       "    </tr>\n",
       "    <tr>\n",
       "      <th>16</th>\n",
       "      <td>dairy eggs</td>\n",
       "    </tr>\n",
       "    <tr>\n",
       "      <th>17</th>\n",
       "      <td>household</td>\n",
       "    </tr>\n",
       "    <tr>\n",
       "      <th>18</th>\n",
       "      <td>babies</td>\n",
       "    </tr>\n",
       "    <tr>\n",
       "      <th>19</th>\n",
       "      <td>snacks</td>\n",
       "    </tr>\n",
       "    <tr>\n",
       "      <th>20</th>\n",
       "      <td>deli</td>\n",
       "    </tr>\n",
       "    <tr>\n",
       "      <th>21</th>\n",
       "      <td>missing</td>\n",
       "    </tr>\n",
       "  </tbody>\n",
       "</table>\n",
       "</div>"
      ],
      "text/plain": [
       "         department\n",
       "1            frozen\n",
       "2             other\n",
       "3            bakery\n",
       "4           produce\n",
       "5           alcohol\n",
       "6     international\n",
       "7         beverages\n",
       "8              pets\n",
       "9   dry goods pasta\n",
       "10             bulk\n",
       "11    personal care\n",
       "12     meat seafood\n",
       "13           pantry\n",
       "14        breakfast\n",
       "15     canned goods\n",
       "16       dairy eggs\n",
       "17        household\n",
       "18           babies\n",
       "19           snacks\n",
       "20             deli\n",
       "21          missing"
      ]
     },
     "execution_count": 8,
     "metadata": {},
     "output_type": "execute_result"
    }
   ],
   "source": [
    "df_dep.head(21)"
   ]
  },
  {
   "cell_type": "code",
   "execution_count": 9,
   "id": "b84b7e4b",
   "metadata": {
    "ExecuteTime": {
     "end_time": "2024-03-07T20:32:50.229739Z",
     "start_time": "2024-03-07T20:32:50.224900Z"
    }
   },
   "outputs": [
    {
     "data": {
      "text/plain": [
       "(21, 1)"
      ]
     },
     "execution_count": 9,
     "metadata": {},
     "output_type": "execute_result"
    }
   ],
   "source": [
    "df_dep.shape"
   ]
  },
  {
   "cell_type": "markdown",
   "id": "b48e5a0e",
   "metadata": {},
   "source": [
    "# 02a Merge department_wrangled.csv to df_ords_prods_customers"
   ]
  },
  {
   "cell_type": "code",
   "execution_count": 10,
   "id": "44323f16",
   "metadata": {
    "ExecuteTime": {
     "end_time": "2024-03-07T20:33:21.193093Z",
     "start_time": "2024-03-07T20:32:50.235312Z"
    }
   },
   "outputs": [],
   "source": [
    "#merge and name as df_all\n",
    "df_all = df_ords_prods_customers.merge(df_dep, left_on='department_id', right_index=True)"
   ]
  },
  {
   "cell_type": "code",
   "execution_count": 11,
   "id": "ce05e68e",
   "metadata": {
    "ExecuteTime": {
     "end_time": "2024-03-07T20:33:21.273704Z",
     "start_time": "2024-03-07T20:33:21.213783Z"
    }
   },
   "outputs": [
    {
     "name": "stdout",
     "output_type": "stream",
     "text": [
      "<class 'pandas.core.frame.DataFrame'>\n",
      "Index: 32404859 entries, 0 to 32403040\n",
      "Data columns (total 28 columns):\n",
      " #   Column                      Dtype  \n",
      "---  ------                      -----  \n",
      " 0   order_id                    int32  \n",
      " 1   user_id                     int32  \n",
      " 2   order_number                int8   \n",
      " 3   orders_day_of_week          int8   \n",
      " 4   order_hour_of_day           int8   \n",
      " 5   days_since_prior_order      float16\n",
      " 6   product_id                  int32  \n",
      " 7   add_to_cart_order           uint8  \n",
      " 8   reordered                   int8   \n",
      " 9   product_name                object \n",
      " 10  department_id               int8   \n",
      " 11  prices                      float32\n",
      " 12  price_label                 object \n",
      " 13  busiest_days                object \n",
      " 14  max_order                   int8   \n",
      " 15  loyalty_flag                object \n",
      " 16  mean_product_price          float32\n",
      " 17  spending_flag               object \n",
      " 18  median_days_between_orders  float16\n",
      " 19  order_frequency_flag        object \n",
      " 20  Gender                      object \n",
      " 21  State                       object \n",
      " 22  Age                         int8   \n",
      " 23  total_dependants            int8   \n",
      " 24  family_status               object \n",
      " 25  income                      int32  \n",
      " 26  sum_order                   float32\n",
      " 27  department                  object \n",
      "dtypes: float16(2), float32(3), int32(4), int8(8), object(10), uint8(1)\n",
      "memory usage: 3.9+ GB\n"
     ]
    }
   ],
   "source": [
    "df_all.info()"
   ]
  },
  {
   "cell_type": "code",
   "execution_count": 12,
   "id": "986ef484",
   "metadata": {
    "ExecuteTime": {
     "end_time": "2024-03-07T20:33:21.298854Z",
     "start_time": "2024-03-07T20:33:21.273704Z"
    }
   },
   "outputs": [
    {
     "data": {
      "text/html": [
       "<div>\n",
       "<style scoped>\n",
       "    .dataframe tbody tr th:only-of-type {\n",
       "        vertical-align: middle;\n",
       "    }\n",
       "\n",
       "    .dataframe tbody tr th {\n",
       "        vertical-align: top;\n",
       "    }\n",
       "\n",
       "    .dataframe thead th {\n",
       "        text-align: right;\n",
       "    }\n",
       "</style>\n",
       "<table border=\"1\" class=\"dataframe\">\n",
       "  <thead>\n",
       "    <tr style=\"text-align: right;\">\n",
       "      <th></th>\n",
       "      <th>order_id</th>\n",
       "      <th>user_id</th>\n",
       "      <th>order_number</th>\n",
       "      <th>orders_day_of_week</th>\n",
       "      <th>order_hour_of_day</th>\n",
       "      <th>days_since_prior_order</th>\n",
       "      <th>product_id</th>\n",
       "      <th>add_to_cart_order</th>\n",
       "      <th>reordered</th>\n",
       "      <th>product_name</th>\n",
       "      <th>department_id</th>\n",
       "      <th>prices</th>\n",
       "      <th>price_label</th>\n",
       "      <th>busiest_days</th>\n",
       "      <th>max_order</th>\n",
       "      <th>loyalty_flag</th>\n",
       "      <th>mean_product_price</th>\n",
       "      <th>spending_flag</th>\n",
       "      <th>median_days_between_orders</th>\n",
       "      <th>order_frequency_flag</th>\n",
       "      <th>Gender</th>\n",
       "      <th>State</th>\n",
       "      <th>Age</th>\n",
       "      <th>total_dependants</th>\n",
       "      <th>family_status</th>\n",
       "      <th>income</th>\n",
       "      <th>sum_order</th>\n",
       "      <th>department</th>\n",
       "    </tr>\n",
       "  </thead>\n",
       "  <tbody>\n",
       "    <tr>\n",
       "      <th>0</th>\n",
       "      <td>2539329</td>\n",
       "      <td>1</td>\n",
       "      <td>1</td>\n",
       "      <td>2</td>\n",
       "      <td>8</td>\n",
       "      <td>NaN</td>\n",
       "      <td>196</td>\n",
       "      <td>1</td>\n",
       "      <td>0</td>\n",
       "      <td>Soda</td>\n",
       "      <td>7</td>\n",
       "      <td>9.0</td>\n",
       "      <td>Mid-range product</td>\n",
       "      <td>Regularly busy</td>\n",
       "      <td>10</td>\n",
       "      <td>New Customer</td>\n",
       "      <td>6.367796</td>\n",
       "      <td>Low Spender</td>\n",
       "      <td>20.5</td>\n",
       "      <td>Non-frequent customer</td>\n",
       "      <td>Female</td>\n",
       "      <td>Alabama</td>\n",
       "      <td>31</td>\n",
       "      <td>3</td>\n",
       "      <td>married</td>\n",
       "      <td>40423</td>\n",
       "      <td>31.600000</td>\n",
       "      <td>beverages</td>\n",
       "    </tr>\n",
       "    <tr>\n",
       "      <th>1</th>\n",
       "      <td>2398795</td>\n",
       "      <td>1</td>\n",
       "      <td>2</td>\n",
       "      <td>3</td>\n",
       "      <td>7</td>\n",
       "      <td>15.0</td>\n",
       "      <td>196</td>\n",
       "      <td>1</td>\n",
       "      <td>1</td>\n",
       "      <td>Soda</td>\n",
       "      <td>7</td>\n",
       "      <td>9.0</td>\n",
       "      <td>Mid-range product</td>\n",
       "      <td>Slowest days</td>\n",
       "      <td>10</td>\n",
       "      <td>New Customer</td>\n",
       "      <td>6.367796</td>\n",
       "      <td>Low Spender</td>\n",
       "      <td>20.5</td>\n",
       "      <td>Non-frequent customer</td>\n",
       "      <td>Female</td>\n",
       "      <td>Alabama</td>\n",
       "      <td>31</td>\n",
       "      <td>3</td>\n",
       "      <td>married</td>\n",
       "      <td>40423</td>\n",
       "      <td>35.400002</td>\n",
       "      <td>beverages</td>\n",
       "    </tr>\n",
       "    <tr>\n",
       "      <th>2</th>\n",
       "      <td>473747</td>\n",
       "      <td>1</td>\n",
       "      <td>3</td>\n",
       "      <td>3</td>\n",
       "      <td>12</td>\n",
       "      <td>21.0</td>\n",
       "      <td>196</td>\n",
       "      <td>1</td>\n",
       "      <td>1</td>\n",
       "      <td>Soda</td>\n",
       "      <td>7</td>\n",
       "      <td>9.0</td>\n",
       "      <td>Mid-range product</td>\n",
       "      <td>Slowest days</td>\n",
       "      <td>10</td>\n",
       "      <td>New Customer</td>\n",
       "      <td>6.367796</td>\n",
       "      <td>Low Spender</td>\n",
       "      <td>20.5</td>\n",
       "      <td>Non-frequent customer</td>\n",
       "      <td>Female</td>\n",
       "      <td>Alabama</td>\n",
       "      <td>31</td>\n",
       "      <td>3</td>\n",
       "      <td>married</td>\n",
       "      <td>40423</td>\n",
       "      <td>28.200001</td>\n",
       "      <td>beverages</td>\n",
       "    </tr>\n",
       "    <tr>\n",
       "      <th>3</th>\n",
       "      <td>2254736</td>\n",
       "      <td>1</td>\n",
       "      <td>4</td>\n",
       "      <td>4</td>\n",
       "      <td>7</td>\n",
       "      <td>29.0</td>\n",
       "      <td>196</td>\n",
       "      <td>1</td>\n",
       "      <td>1</td>\n",
       "      <td>Soda</td>\n",
       "      <td>7</td>\n",
       "      <td>9.0</td>\n",
       "      <td>Mid-range product</td>\n",
       "      <td>Slowest days</td>\n",
       "      <td>10</td>\n",
       "      <td>New Customer</td>\n",
       "      <td>6.367796</td>\n",
       "      <td>Low Spender</td>\n",
       "      <td>20.5</td>\n",
       "      <td>Non-frequent customer</td>\n",
       "      <td>Female</td>\n",
       "      <td>Alabama</td>\n",
       "      <td>31</td>\n",
       "      <td>3</td>\n",
       "      <td>married</td>\n",
       "      <td>40423</td>\n",
       "      <td>26.000000</td>\n",
       "      <td>beverages</td>\n",
       "    </tr>\n",
       "    <tr>\n",
       "      <th>4</th>\n",
       "      <td>431534</td>\n",
       "      <td>1</td>\n",
       "      <td>5</td>\n",
       "      <td>4</td>\n",
       "      <td>15</td>\n",
       "      <td>28.0</td>\n",
       "      <td>196</td>\n",
       "      <td>1</td>\n",
       "      <td>1</td>\n",
       "      <td>Soda</td>\n",
       "      <td>7</td>\n",
       "      <td>9.0</td>\n",
       "      <td>Mid-range product</td>\n",
       "      <td>Slowest days</td>\n",
       "      <td>10</td>\n",
       "      <td>New Customer</td>\n",
       "      <td>6.367796</td>\n",
       "      <td>Low Spender</td>\n",
       "      <td>20.5</td>\n",
       "      <td>Non-frequent customer</td>\n",
       "      <td>Female</td>\n",
       "      <td>Alabama</td>\n",
       "      <td>31</td>\n",
       "      <td>3</td>\n",
       "      <td>married</td>\n",
       "      <td>40423</td>\n",
       "      <td>57.000000</td>\n",
       "      <td>beverages</td>\n",
       "    </tr>\n",
       "  </tbody>\n",
       "</table>\n",
       "</div>"
      ],
      "text/plain": [
       "   order_id  user_id  order_number  orders_day_of_week  order_hour_of_day  \\\n",
       "0   2539329        1             1                   2                  8   \n",
       "1   2398795        1             2                   3                  7   \n",
       "2    473747        1             3                   3                 12   \n",
       "3   2254736        1             4                   4                  7   \n",
       "4    431534        1             5                   4                 15   \n",
       "\n",
       "   days_since_prior_order  product_id  add_to_cart_order  reordered  \\\n",
       "0                     NaN         196                  1          0   \n",
       "1                    15.0         196                  1          1   \n",
       "2                    21.0         196                  1          1   \n",
       "3                    29.0         196                  1          1   \n",
       "4                    28.0         196                  1          1   \n",
       "\n",
       "  product_name  department_id  prices        price_label    busiest_days  \\\n",
       "0         Soda              7     9.0  Mid-range product  Regularly busy   \n",
       "1         Soda              7     9.0  Mid-range product    Slowest days   \n",
       "2         Soda              7     9.0  Mid-range product    Slowest days   \n",
       "3         Soda              7     9.0  Mid-range product    Slowest days   \n",
       "4         Soda              7     9.0  Mid-range product    Slowest days   \n",
       "\n",
       "   max_order  loyalty_flag  mean_product_price spending_flag  \\\n",
       "0         10  New Customer            6.367796   Low Spender   \n",
       "1         10  New Customer            6.367796   Low Spender   \n",
       "2         10  New Customer            6.367796   Low Spender   \n",
       "3         10  New Customer            6.367796   Low Spender   \n",
       "4         10  New Customer            6.367796   Low Spender   \n",
       "\n",
       "   median_days_between_orders   order_frequency_flag  Gender    State  Age  \\\n",
       "0                        20.5  Non-frequent customer  Female  Alabama   31   \n",
       "1                        20.5  Non-frequent customer  Female  Alabama   31   \n",
       "2                        20.5  Non-frequent customer  Female  Alabama   31   \n",
       "3                        20.5  Non-frequent customer  Female  Alabama   31   \n",
       "4                        20.5  Non-frequent customer  Female  Alabama   31   \n",
       "\n",
       "   total_dependants family_status  income  sum_order department  \n",
       "0                 3       married   40423  31.600000  beverages  \n",
       "1                 3       married   40423  35.400002  beverages  \n",
       "2                 3       married   40423  28.200001  beverages  \n",
       "3                 3       married   40423  26.000000  beverages  \n",
       "4                 3       married   40423  57.000000  beverages  "
      ]
     },
     "execution_count": 12,
     "metadata": {},
     "output_type": "execute_result"
    }
   ],
   "source": [
    "df_all.head()"
   ]
  },
  {
   "cell_type": "code",
   "execution_count": 13,
   "id": "7d730d53",
   "metadata": {
    "ExecuteTime": {
     "end_time": "2024-03-07T20:33:21.305338Z",
     "start_time": "2024-03-07T20:33:21.300860Z"
    }
   },
   "outputs": [
    {
     "data": {
      "text/plain": [
       "(32404859,)"
      ]
     },
     "execution_count": 13,
     "metadata": {},
     "output_type": "execute_result"
    }
   ],
   "source": [
    "df_all['department'].shape"
   ]
  },
  {
   "cell_type": "code",
   "execution_count": 14,
   "id": "87934802",
   "metadata": {
    "ExecuteTime": {
     "end_time": "2024-03-07T20:33:23.739969Z",
     "start_time": "2024-03-07T20:33:21.307215Z"
    }
   },
   "outputs": [],
   "source": [
    "# Define the mapping of integers to day names\n",
    "day_mapping = {0: 'Saturday', 1: 'Sunday', 2: 'Monday', 3: 'Tuesday', 4: 'Wednesday', 5: 'Thursday', 6: 'Friday'}\n",
    "\n",
    "# Convert to categorical\n",
    "df_all['orders_day_of_week'] = df_all['orders_day_of_week'].map(day_mapping).astype('category')"
   ]
  },
  {
   "cell_type": "code",
   "execution_count": 15,
   "id": "378a9b34",
   "metadata": {
    "ExecuteTime": {
     "end_time": "2024-03-07T20:33:24.136114Z",
     "start_time": "2024-03-07T20:33:23.739969Z"
    }
   },
   "outputs": [
    {
     "data": {
      "text/plain": [
       "department\n",
       "produce            9479291\n",
       "dairy eggs         5398747\n",
       "snacks             2887550\n",
       "beverages          2688123\n",
       "frozen             2234743\n",
       "pantry             1875369\n",
       "bakery             1172428\n",
       "canned goods       1068058\n",
       "deli               1051249\n",
       "dry goods pasta     866627\n",
       "household           738666\n",
       "meat seafood        708927\n",
       "breakfast           703033\n",
       "personal care       447572\n",
       "babies              423802\n",
       "international       269253\n",
       "alcohol             153696\n",
       "pets                 97716\n",
       "missing              69145\n",
       "other                36291\n",
       "bulk                 34573\n",
       "Name: count, dtype: int64"
      ]
     },
     "execution_count": 15,
     "metadata": {},
     "output_type": "execute_result"
    }
   ],
   "source": [
    "df_all['department'].value_counts(dropna = False)"
   ]
  },
  {
   "cell_type": "markdown",
   "id": "a6348c81",
   "metadata": {},
   "source": [
    "# 03 Create Regions & explore data\n",
    "The Instacart officers are interested in comparing customer behavior in different geographic areas. Create a regional segmentation of the data. You’ll need to create a “Region” column based on the “State” column from your customers data set."
   ]
  },
  {
   "cell_type": "code",
   "execution_count": 16,
   "id": "e373b298",
   "metadata": {
    "ExecuteTime": {
     "end_time": "2024-03-07T20:33:24.158618Z",
     "start_time": "2024-03-07T20:33:24.136114Z"
    }
   },
   "outputs": [],
   "source": [
    "#create regions using categories\n",
    "Northeast = ['Maine', 'New Hampshire', 'Vermont', 'Massachusetts', 'Rhode Island', 'Connecticut', 'New York', 'Pennsylvania', 'New Jersey']\n",
    "Midwest = ['Wisconsin', 'Michigan', 'Illinois', 'Indiana', 'Ohio', 'North Dakota', 'South Dakota', 'Nebraska', 'Kansas', 'Minnesota', 'Iowa', 'Missouri']\n",
    "South = ['Delaware', 'Maryland', 'District of Columbia', 'Virginia', 'West Virginia', 'North Carolina', 'South Carolina', 'Georgia', 'Florida', 'Kentucky', 'Tennessee', 'Mississippi', 'Alabama', 'Oklahoma', 'Texas', 'Arkansas', 'Louisiana']\n",
    "West = ['Idaho', 'Montana', 'Wyoming', 'Nevada', 'Utah', 'Colorado', 'Arizona', 'New Mexico', 'Alaska', 'Washington', 'Oregon', 'California', 'Hawaii']"
   ]
  },
  {
   "cell_type": "code",
   "execution_count": 17,
   "id": "8c8f5c7a",
   "metadata": {
    "ExecuteTime": {
     "end_time": "2024-03-07T20:33:33.929038Z",
     "start_time": "2024-03-07T20:33:24.161144Z"
    }
   },
   "outputs": [],
   "source": [
    "#create region column and use categories\n",
    "df_all['Region'] = pd.Categorical(np.select(\n",
    "        [df_all['State'].isin(Northeast),\n",
    "         df_all['State'].isin(Midwest),\n",
    "         df_all['State'].isin(South),\n",
    "         df_all['State'].isin(West)],\n",
    "        ['Northeast', 'MidWest', 'South', 'West'],\n",
    "        default='Other'))"
   ]
  },
  {
   "cell_type": "code",
   "execution_count": 18,
   "id": "774ee2a5",
   "metadata": {
    "ExecuteTime": {
     "end_time": "2024-03-07T20:33:34.236609Z",
     "start_time": "2024-03-07T20:33:33.929038Z"
    }
   },
   "outputs": [
    {
     "data": {
      "text/html": [
       "<div>\n",
       "<style scoped>\n",
       "    .dataframe tbody tr th:only-of-type {\n",
       "        vertical-align: middle;\n",
       "    }\n",
       "\n",
       "    .dataframe tbody tr th {\n",
       "        vertical-align: top;\n",
       "    }\n",
       "\n",
       "    .dataframe thead th {\n",
       "        text-align: right;\n",
       "    }\n",
       "</style>\n",
       "<table border=\"1\" class=\"dataframe\">\n",
       "  <thead>\n",
       "    <tr style=\"text-align: right;\">\n",
       "      <th></th>\n",
       "      <th>State</th>\n",
       "      <th>Region</th>\n",
       "    </tr>\n",
       "  </thead>\n",
       "  <tbody>\n",
       "    <tr>\n",
       "      <th>0</th>\n",
       "      <td>Alabama</td>\n",
       "      <td>South</td>\n",
       "    </tr>\n",
       "    <tr>\n",
       "      <th>1</th>\n",
       "      <td>Alabama</td>\n",
       "      <td>South</td>\n",
       "    </tr>\n",
       "    <tr>\n",
       "      <th>2</th>\n",
       "      <td>Alabama</td>\n",
       "      <td>South</td>\n",
       "    </tr>\n",
       "    <tr>\n",
       "      <th>3</th>\n",
       "      <td>Alabama</td>\n",
       "      <td>South</td>\n",
       "    </tr>\n",
       "    <tr>\n",
       "      <th>4</th>\n",
       "      <td>Alabama</td>\n",
       "      <td>South</td>\n",
       "    </tr>\n",
       "    <tr>\n",
       "      <th>5</th>\n",
       "      <td>Alabama</td>\n",
       "      <td>South</td>\n",
       "    </tr>\n",
       "    <tr>\n",
       "      <th>6</th>\n",
       "      <td>Alabama</td>\n",
       "      <td>South</td>\n",
       "    </tr>\n",
       "    <tr>\n",
       "      <th>7</th>\n",
       "      <td>Alabama</td>\n",
       "      <td>South</td>\n",
       "    </tr>\n",
       "    <tr>\n",
       "      <th>8</th>\n",
       "      <td>Alabama</td>\n",
       "      <td>South</td>\n",
       "    </tr>\n",
       "    <tr>\n",
       "      <th>9</th>\n",
       "      <td>Alabama</td>\n",
       "      <td>South</td>\n",
       "    </tr>\n",
       "    <tr>\n",
       "      <th>51</th>\n",
       "      <td>Alabama</td>\n",
       "      <td>South</td>\n",
       "    </tr>\n",
       "    <tr>\n",
       "      <th>52</th>\n",
       "      <td>Alabama</td>\n",
       "      <td>South</td>\n",
       "    </tr>\n",
       "    <tr>\n",
       "      <th>53</th>\n",
       "      <td>Alabama</td>\n",
       "      <td>South</td>\n",
       "    </tr>\n",
       "    <tr>\n",
       "      <th>59</th>\n",
       "      <td>Indiana</td>\n",
       "      <td>MidWest</td>\n",
       "    </tr>\n",
       "    <tr>\n",
       "      <th>60</th>\n",
       "      <td>Indiana</td>\n",
       "      <td>MidWest</td>\n",
       "    </tr>\n",
       "  </tbody>\n",
       "</table>\n",
       "</div>"
      ],
      "text/plain": [
       "      State   Region\n",
       "0   Alabama    South\n",
       "1   Alabama    South\n",
       "2   Alabama    South\n",
       "3   Alabama    South\n",
       "4   Alabama    South\n",
       "5   Alabama    South\n",
       "6   Alabama    South\n",
       "7   Alabama    South\n",
       "8   Alabama    South\n",
       "9   Alabama    South\n",
       "51  Alabama    South\n",
       "52  Alabama    South\n",
       "53  Alabama    South\n",
       "59  Indiana  MidWest\n",
       "60  Indiana  MidWest"
      ]
     },
     "execution_count": 18,
     "metadata": {},
     "output_type": "execute_result"
    }
   ],
   "source": [
    "df_all[['State', 'Region']].head(15)"
   ]
  },
  {
   "cell_type": "code",
   "execution_count": 19,
   "id": "03e7369f",
   "metadata": {
    "ExecuteTime": {
     "end_time": "2024-03-07T20:33:34.404659Z",
     "start_time": "2024-03-07T20:33:34.240492Z"
    }
   },
   "outputs": [
    {
     "data": {
      "text/plain": [
       "Region\n",
       "South        10791885\n",
       "West          8292913\n",
       "MidWest       7597325\n",
       "Northeast     5722736\n",
       "Name: count, dtype: int64"
      ]
     },
     "execution_count": 19,
     "metadata": {},
     "output_type": "execute_result"
    }
   ],
   "source": [
    "df_all['Region'].value_counts(dropna = False)"
   ]
  },
  {
   "cell_type": "markdown",
   "id": "529aa262",
   "metadata": {},
   "source": [
    "#### By region, the majority of customers are in the South. The South does have more states in it's region. To verify, the region columns have all cells filled, and the length matches up with the rest of the dataframe."
   ]
  },
  {
   "cell_type": "code",
   "execution_count": 20,
   "id": "b298db9d",
   "metadata": {
    "ExecuteTime": {
     "end_time": "2024-03-07T20:33:34.409649Z",
     "start_time": "2024-03-07T20:33:34.406256Z"
    }
   },
   "outputs": [
    {
     "data": {
      "text/plain": [
       "(32404859,)"
      ]
     },
     "execution_count": 20,
     "metadata": {},
     "output_type": "execute_result"
    }
   ],
   "source": [
    "df_all['Region'].shape"
   ]
  },
  {
   "cell_type": "markdown",
   "id": "f063125f",
   "metadata": {},
   "source": [
    "#### Determine whether there’s a difference in spending habits between the different U.S. regions. (Hint: You can do this by crossing the variable you just created with the spending flag.)"
   ]
  },
  {
   "cell_type": "code",
   "execution_count": 21,
   "id": "1ecfeec6",
   "metadata": {
    "ExecuteTime": {
     "end_time": "2024-03-07T20:33:36.765357Z",
     "start_time": "2024-03-07T20:33:34.411284Z"
    }
   },
   "outputs": [
    {
     "name": "stderr",
     "output_type": "stream",
     "text": [
      "C:\\Users\\fa_an\\AppData\\Local\\Temp\\ipykernel_18680\\234091655.py:2: FutureWarning: The default of observed=False is deprecated and will be changed to True in a future version of pandas. Pass observed=False to retain current behavior or observed=True to adopt the future default and silence this warning.\n",
      "  df_all.groupby('Region').agg({'user_id': 'nunique'}).sort_values(by='user_id', ascending=False)\n"
     ]
    },
    {
     "data": {
      "text/html": [
       "<div>\n",
       "<style scoped>\n",
       "    .dataframe tbody tr th:only-of-type {\n",
       "        vertical-align: middle;\n",
       "    }\n",
       "\n",
       "    .dataframe tbody tr th {\n",
       "        vertical-align: top;\n",
       "    }\n",
       "\n",
       "    .dataframe thead th {\n",
       "        text-align: right;\n",
       "    }\n",
       "</style>\n",
       "<table border=\"1\" class=\"dataframe\">\n",
       "  <thead>\n",
       "    <tr style=\"text-align: right;\">\n",
       "      <th></th>\n",
       "      <th>user_id</th>\n",
       "    </tr>\n",
       "    <tr>\n",
       "      <th>Region</th>\n",
       "      <th></th>\n",
       "    </tr>\n",
       "  </thead>\n",
       "  <tbody>\n",
       "    <tr>\n",
       "      <th>South</th>\n",
       "      <td>68737</td>\n",
       "    </tr>\n",
       "    <tr>\n",
       "      <th>West</th>\n",
       "      <td>52565</td>\n",
       "    </tr>\n",
       "    <tr>\n",
       "      <th>MidWest</th>\n",
       "      <td>48519</td>\n",
       "    </tr>\n",
       "    <tr>\n",
       "      <th>Northeast</th>\n",
       "      <td>36388</td>\n",
       "    </tr>\n",
       "  </tbody>\n",
       "</table>\n",
       "</div>"
      ],
      "text/plain": [
       "           user_id\n",
       "Region            \n",
       "South        68737\n",
       "West         52565\n",
       "MidWest      48519\n",
       "Northeast    36388"
      ]
     },
     "execution_count": 21,
     "metadata": {},
     "output_type": "execute_result"
    }
   ],
   "source": [
    "#total users/customers within each region\n",
    "df_all.groupby('Region').agg({'user_id': 'nunique'}).sort_values(by='user_id', ascending=False)"
   ]
  },
  {
   "cell_type": "markdown",
   "id": "c982c84e",
   "metadata": {
    "ExecuteTime": {
     "end_time": "2024-02-23T02:09:26.975707Z",
     "start_time": "2024-02-23T02:09:26.968657Z"
    }
   },
   "source": [
    "#### As related to above, and to confirm the South has the most customers (verified by unique user_id). Total of 206,209 customers (which matches the original customers data frame)."
   ]
  },
  {
   "cell_type": "code",
   "execution_count": 22,
   "id": "2291ba48",
   "metadata": {
    "ExecuteTime": {
     "end_time": "2024-03-07T20:33:37.312036Z",
     "start_time": "2024-03-07T20:33:36.768937Z"
    }
   },
   "outputs": [
    {
     "name": "stderr",
     "output_type": "stream",
     "text": [
      "C:\\Users\\fa_an\\AppData\\Local\\Temp\\ipykernel_18680\\682799790.py:2: FutureWarning: The default of observed=False is deprecated and will be changed to True in a future version of pandas. Pass observed=False to retain current behavior or observed=True to adopt the future default and silence this warning.\n",
      "  df_all.groupby('Region').agg({'prices': ['mean', 'min', 'max']})\n"
     ]
    },
    {
     "data": {
      "text/html": [
       "<div>\n",
       "<style scoped>\n",
       "    .dataframe tbody tr th:only-of-type {\n",
       "        vertical-align: middle;\n",
       "    }\n",
       "\n",
       "    .dataframe tbody tr th {\n",
       "        vertical-align: top;\n",
       "    }\n",
       "\n",
       "    .dataframe thead tr th {\n",
       "        text-align: left;\n",
       "    }\n",
       "\n",
       "    .dataframe thead tr:last-of-type th {\n",
       "        text-align: right;\n",
       "    }\n",
       "</style>\n",
       "<table border=\"1\" class=\"dataframe\">\n",
       "  <thead>\n",
       "    <tr>\n",
       "      <th></th>\n",
       "      <th colspan=\"3\" halign=\"left\">prices</th>\n",
       "    </tr>\n",
       "    <tr>\n",
       "      <th></th>\n",
       "      <th>mean</th>\n",
       "      <th>min</th>\n",
       "      <th>max</th>\n",
       "    </tr>\n",
       "    <tr>\n",
       "      <th>Region</th>\n",
       "      <th></th>\n",
       "      <th></th>\n",
       "      <th></th>\n",
       "    </tr>\n",
       "  </thead>\n",
       "  <tbody>\n",
       "    <tr>\n",
       "      <th>MidWest</th>\n",
       "      <td>7.792584</td>\n",
       "      <td>1.0</td>\n",
       "      <td>25.0</td>\n",
       "    </tr>\n",
       "    <tr>\n",
       "      <th>Northeast</th>\n",
       "      <td>7.782409</td>\n",
       "      <td>1.0</td>\n",
       "      <td>25.0</td>\n",
       "    </tr>\n",
       "    <tr>\n",
       "      <th>South</th>\n",
       "      <td>7.794918</td>\n",
       "      <td>1.0</td>\n",
       "      <td>25.0</td>\n",
       "    </tr>\n",
       "    <tr>\n",
       "      <th>West</th>\n",
       "      <td>7.790356</td>\n",
       "      <td>1.0</td>\n",
       "      <td>25.0</td>\n",
       "    </tr>\n",
       "  </tbody>\n",
       "</table>\n",
       "</div>"
      ],
      "text/plain": [
       "             prices           \n",
       "               mean  min   max\n",
       "Region                        \n",
       "MidWest    7.792584  1.0  25.0\n",
       "Northeast  7.782409  1.0  25.0\n",
       "South      7.794918  1.0  25.0\n",
       "West       7.790356  1.0  25.0"
      ]
     },
     "execution_count": 22,
     "metadata": {},
     "output_type": "execute_result"
    }
   ],
   "source": [
    "#mean/min/max of product price by region\n",
    "df_all.groupby('Region').agg({'prices': ['mean', 'min', 'max']})"
   ]
  },
  {
   "cell_type": "code",
   "execution_count": 23,
   "id": "cf9f9e6b",
   "metadata": {
    "ExecuteTime": {
     "end_time": "2024-03-07T20:33:42.125808Z",
     "start_time": "2024-03-07T20:33:37.314549Z"
    }
   },
   "outputs": [
    {
     "name": "stderr",
     "output_type": "stream",
     "text": [
      "C:\\Users\\fa_an\\AppData\\Local\\Temp\\ipykernel_18680\\3972471917.py:2: FutureWarning: The default of observed=False is deprecated and will be changed to True in a future version of pandas. Pass observed=False to retain current behavior or observed=True to adopt the future default and silence this warning.\n",
      "  df_all.groupby(['Region', 'loyalty_flag'])['user_id'].nunique().unstack(fill_value=0)\n"
     ]
    },
    {
     "data": {
      "text/html": [
       "<div>\n",
       "<style scoped>\n",
       "    .dataframe tbody tr th:only-of-type {\n",
       "        vertical-align: middle;\n",
       "    }\n",
       "\n",
       "    .dataframe tbody tr th {\n",
       "        vertical-align: top;\n",
       "    }\n",
       "\n",
       "    .dataframe thead th {\n",
       "        text-align: right;\n",
       "    }\n",
       "</style>\n",
       "<table border=\"1\" class=\"dataframe\">\n",
       "  <thead>\n",
       "    <tr style=\"text-align: right;\">\n",
       "      <th>loyalty_flag</th>\n",
       "      <th>Loyal Customer</th>\n",
       "      <th>New Customer</th>\n",
       "      <th>Regular Customer</th>\n",
       "    </tr>\n",
       "    <tr>\n",
       "      <th>Region</th>\n",
       "      <th></th>\n",
       "      <th></th>\n",
       "      <th></th>\n",
       "    </tr>\n",
       "  </thead>\n",
       "  <tbody>\n",
       "    <tr>\n",
       "      <th>MidWest</th>\n",
       "      <td>3991</td>\n",
       "      <td>26333</td>\n",
       "      <td>18195</td>\n",
       "    </tr>\n",
       "    <tr>\n",
       "      <th>Northeast</th>\n",
       "      <td>3027</td>\n",
       "      <td>19869</td>\n",
       "      <td>13492</td>\n",
       "    </tr>\n",
       "    <tr>\n",
       "      <th>South</th>\n",
       "      <td>5637</td>\n",
       "      <td>37491</td>\n",
       "      <td>25609</td>\n",
       "    </tr>\n",
       "    <tr>\n",
       "      <th>West</th>\n",
       "      <td>4362</td>\n",
       "      <td>28635</td>\n",
       "      <td>19568</td>\n",
       "    </tr>\n",
       "  </tbody>\n",
       "</table>\n",
       "</div>"
      ],
      "text/plain": [
       "loyalty_flag  Loyal Customer  New Customer  Regular Customer\n",
       "Region                                                      \n",
       "MidWest                 3991         26333             18195\n",
       "Northeast               3027         19869             13492\n",
       "South                   5637         37491             25609\n",
       "West                    4362         28635             19568"
      ]
     },
     "execution_count": 23,
     "metadata": {},
     "output_type": "execute_result"
    }
   ],
   "source": [
    "#total loyalty_flag customers by region (adds up to 206,209)\n",
    "df_all.groupby(['Region', 'loyalty_flag'])['user_id'].nunique().unstack(fill_value=0)"
   ]
  },
  {
   "cell_type": "markdown",
   "id": "2bec6e6d",
   "metadata": {},
   "source": [
    "#### This shows that the most Loyal, Regular, and New customers are located in the South. The loyalty flag was set to show the number of orders a customer has placed, so just to prove that there's lots of orders placed from the South region."
   ]
  },
  {
   "cell_type": "code",
   "execution_count": 24,
   "id": "3f54981d",
   "metadata": {
    "ExecuteTime": {
     "end_time": "2024-03-07T20:33:46.793677Z",
     "start_time": "2024-03-07T20:33:42.127728Z"
    }
   },
   "outputs": [
    {
     "name": "stderr",
     "output_type": "stream",
     "text": [
      "C:\\Users\\fa_an\\AppData\\Local\\Temp\\ipykernel_18680\\2252682862.py:2: FutureWarning: The default of observed=False is deprecated and will be changed to True in a future version of pandas. Pass observed=False to retain current behavior or observed=True to adopt the future default and silence this warning.\n",
      "  df_all.groupby(['Region', 'spending_flag'])['user_id'].nunique().unstack(fill_value=0)\n"
     ]
    },
    {
     "data": {
      "text/html": [
       "<div>\n",
       "<style scoped>\n",
       "    .dataframe tbody tr th:only-of-type {\n",
       "        vertical-align: middle;\n",
       "    }\n",
       "\n",
       "    .dataframe tbody tr th {\n",
       "        vertical-align: top;\n",
       "    }\n",
       "\n",
       "    .dataframe thead th {\n",
       "        text-align: right;\n",
       "    }\n",
       "</style>\n",
       "<table border=\"1\" class=\"dataframe\">\n",
       "  <thead>\n",
       "    <tr style=\"text-align: right;\">\n",
       "      <th>spending_flag</th>\n",
       "      <th>High Spender</th>\n",
       "      <th>Low Spender</th>\n",
       "    </tr>\n",
       "    <tr>\n",
       "      <th>Region</th>\n",
       "      <th></th>\n",
       "      <th></th>\n",
       "    </tr>\n",
       "  </thead>\n",
       "  <tbody>\n",
       "    <tr>\n",
       "      <th>MidWest</th>\n",
       "      <td>1263</td>\n",
       "      <td>47256</td>\n",
       "    </tr>\n",
       "    <tr>\n",
       "      <th>Northeast</th>\n",
       "      <td>883</td>\n",
       "      <td>35505</td>\n",
       "    </tr>\n",
       "    <tr>\n",
       "      <th>South</th>\n",
       "      <td>1817</td>\n",
       "      <td>66920</td>\n",
       "    </tr>\n",
       "    <tr>\n",
       "      <th>West</th>\n",
       "      <td>1394</td>\n",
       "      <td>51171</td>\n",
       "    </tr>\n",
       "  </tbody>\n",
       "</table>\n",
       "</div>"
      ],
      "text/plain": [
       "spending_flag  High Spender  Low Spender\n",
       "Region                                  \n",
       "MidWest                1263        47256\n",
       "Northeast               883        35505\n",
       "South                  1817        66920\n",
       "West                   1394        51171"
      ]
     },
     "execution_count": 24,
     "metadata": {},
     "output_type": "execute_result"
    }
   ],
   "source": [
    "#spending_flag customers by user_id in each region (adds up to 206,209)\n",
    "df_all.groupby(['Region', 'spending_flag'])['user_id'].nunique().unstack(fill_value=0)"
   ]
  },
  {
   "cell_type": "markdown",
   "id": "3f2d6a38",
   "metadata": {},
   "source": [
    "#### This shows that the South has the most High Spenders (avg product price is >= to 10) as well as the most Low Spenders too! The Northeast region is the lowest in High Spenders."
   ]
  },
  {
   "cell_type": "code",
   "execution_count": 25,
   "id": "3625d59a",
   "metadata": {
    "ExecuteTime": {
     "end_time": "2024-03-07T20:33:47.075643Z",
     "start_time": "2024-03-07T20:33:46.796372Z"
    }
   },
   "outputs": [
    {
     "name": "stderr",
     "output_type": "stream",
     "text": [
      "C:\\Users\\fa_an\\AppData\\Local\\Temp\\ipykernel_18680\\3370463919.py:2: FutureWarning: The default of observed=False is deprecated and will be changed to True in a future version of pandas. Pass observed=False to retain current behavior or observed=True to adopt the future default and silence this warning.\n",
      "  df_all.groupby('Region')['prices'].sum().sort_values(ascending=False)\n"
     ]
    },
    {
     "data": {
      "text/plain": [
       "Region\n",
       "South        84107912.0\n",
       "West         64595128.0\n",
       "MidWest      59192976.0\n",
       "Northeast    44530104.0\n",
       "Name: prices, dtype: float32"
      ]
     },
     "execution_count": 25,
     "metadata": {},
     "output_type": "execute_result"
    }
   ],
   "source": [
    "#total sales by region using the 'prices' column\n",
    "df_all.groupby('Region')['prices'].sum().sort_values(ascending=False)"
   ]
  },
  {
   "cell_type": "markdown",
   "id": "acbd7bcf",
   "metadata": {},
   "source": [
    "#### The South region has spent the most compared to the rest of the US. The lowest sales are in the Northeast."
   ]
  },
  {
   "cell_type": "code",
   "execution_count": 26,
   "id": "506a1fbf",
   "metadata": {
    "ExecuteTime": {
     "end_time": "2024-03-07T20:33:47.195839Z",
     "start_time": "2024-03-07T20:33:47.076933Z"
    }
   },
   "outputs": [
    {
     "data": {
      "text/plain": [
       "252426240.0"
      ]
     },
     "execution_count": 26,
     "metadata": {},
     "output_type": "execute_result"
    }
   ],
   "source": [
    "#grand total of sales to use for calculated figures\n",
    "df_all['prices'].sum()"
   ]
  },
  {
   "cell_type": "code",
   "execution_count": 27,
   "id": "ab8f2983",
   "metadata": {
    "ExecuteTime": {
     "end_time": "2024-03-07T20:33:52.247888Z",
     "start_time": "2024-03-07T20:33:47.196849Z"
    }
   },
   "outputs": [
    {
     "name": "stderr",
     "output_type": "stream",
     "text": [
      "C:\\Users\\fa_an\\AppData\\Local\\Temp\\ipykernel_18680\\691950656.py:2: FutureWarning: The default of observed=False is deprecated and will be changed to True in a future version of pandas. Pass observed=False to retain current behavior or observed=True to adopt the future default and silence this warning.\n",
      "  df_all.groupby('Region')['order_id'].nunique().sort_values(ascending=False)\n"
     ]
    },
    {
     "data": {
      "text/plain": [
       "Region\n",
       "South        1071562\n",
       "West          821686\n",
       "MidWest       754275\n",
       "Northeast     567162\n",
       "Name: order_id, dtype: int64"
      ]
     },
     "execution_count": 27,
     "metadata": {},
     "output_type": "execute_result"
    }
   ],
   "source": [
    "#total # of orders by region\n",
    "df_all.groupby('Region')['order_id'].nunique().sort_values(ascending=False)"
   ]
  },
  {
   "cell_type": "markdown",
   "id": "371eb05e",
   "metadata": {},
   "source": [
    "#### Just to confirm that the South has the most # of orders by region with the Northeast with the least."
   ]
  },
  {
   "cell_type": "code",
   "execution_count": 28,
   "id": "3acad703",
   "metadata": {
    "ExecuteTime": {
     "end_time": "2024-03-07T20:33:52.856025Z",
     "start_time": "2024-03-07T20:33:52.253105Z"
    }
   },
   "outputs": [
    {
     "data": {
      "text/plain": [
       "3214685"
      ]
     },
     "execution_count": 28,
     "metadata": {},
     "output_type": "execute_result"
    }
   ],
   "source": [
    "#grand total of orders (count) to use for calculated figures\n",
    "df_all['order_id'].nunique()"
   ]
  },
  {
   "cell_type": "code",
   "execution_count": 29,
   "id": "9013315e",
   "metadata": {
    "ExecuteTime": {
     "end_time": "2024-03-07T20:33:52.861047Z",
     "start_time": "2024-03-07T20:33:52.858263Z"
    }
   },
   "outputs": [],
   "source": [
    "# Set the custom formatter for floating-point numbers\n",
    "pd.options.display.float_format = '{:,.0f}'.format"
   ]
  },
  {
   "cell_type": "code",
   "execution_count": 30,
   "id": "510d1c2a",
   "metadata": {
    "ExecuteTime": {
     "end_time": "2024-03-07T20:33:54.697386Z",
     "start_time": "2024-03-07T20:33:52.862542Z"
    }
   },
   "outputs": [
    {
     "name": "stderr",
     "output_type": "stream",
     "text": [
      "C:\\Users\\fa_an\\AppData\\Local\\Temp\\ipykernel_18680\\3579328031.py:2: FutureWarning: The default of observed=False is deprecated and will be changed to True in a future version of pandas. Pass observed=False to retain current behavior or observed=True to adopt the future default and silence this warning.\n",
      "  df_all.groupby(['Region', 'user_id'])['income'].mean().groupby('Region').mean()\n"
     ]
    },
    {
     "data": {
      "text/plain": [
       "Region\n",
       "MidWest     94,867\n",
       "Northeast   94,974\n",
       "South       94,439\n",
       "West        94,434\n",
       "Name: income, dtype: float64"
      ]
     },
     "execution_count": 30,
     "metadata": {},
     "output_type": "execute_result"
    }
   ],
   "source": [
    "#avg income per user_id in each Region (is this correct?) >test with crosstab\n",
    "df_all.groupby(['Region', 'user_id'])['income'].mean().groupby('Region').mean()"
   ]
  },
  {
   "cell_type": "code",
   "execution_count": 31,
   "id": "9cf3762a",
   "metadata": {
    "ExecuteTime": {
     "end_time": "2024-03-07T20:34:03.102292Z",
     "start_time": "2024-03-07T20:33:54.699176Z"
    },
    "scrolled": false
   },
   "outputs": [
    {
     "name": "stderr",
     "output_type": "stream",
     "text": [
      "C:\\Users\\fa_an\\AppData\\Local\\Temp\\ipykernel_18680\\1798651776.py:2: FutureWarning: The default of observed=False is deprecated and will be changed to True in a future version of pandas. Pass observed=False to retain current behavior or observed=True to adopt the future default and silence this warning.\n",
      "  df_all.groupby(['Region', 'orders_day_of_week'])['order_id'].nunique().unstack(fill_value=0)\n"
     ]
    },
    {
     "data": {
      "text/html": [
       "<div>\n",
       "<style scoped>\n",
       "    .dataframe tbody tr th:only-of-type {\n",
       "        vertical-align: middle;\n",
       "    }\n",
       "\n",
       "    .dataframe tbody tr th {\n",
       "        vertical-align: top;\n",
       "    }\n",
       "\n",
       "    .dataframe thead th {\n",
       "        text-align: right;\n",
       "    }\n",
       "</style>\n",
       "<table border=\"1\" class=\"dataframe\">\n",
       "  <thead>\n",
       "    <tr style=\"text-align: right;\">\n",
       "      <th>orders_day_of_week</th>\n",
       "      <th>Friday</th>\n",
       "      <th>Monday</th>\n",
       "      <th>Saturday</th>\n",
       "      <th>Sunday</th>\n",
       "      <th>Thursday</th>\n",
       "      <th>Tuesday</th>\n",
       "      <th>Wednesday</th>\n",
       "    </tr>\n",
       "    <tr>\n",
       "      <th>Region</th>\n",
       "      <th></th>\n",
       "      <th></th>\n",
       "      <th></th>\n",
       "      <th></th>\n",
       "      <th></th>\n",
       "      <th></th>\n",
       "      <th></th>\n",
       "    </tr>\n",
       "  </thead>\n",
       "  <tbody>\n",
       "    <tr>\n",
       "      <th>MidWest</th>\n",
       "      <td>98391</td>\n",
       "      <td>103910</td>\n",
       "      <td>131163</td>\n",
       "      <td>130433</td>\n",
       "      <td>100014</td>\n",
       "      <td>96657</td>\n",
       "      <td>93707</td>\n",
       "    </tr>\n",
       "    <tr>\n",
       "      <th>Northeast</th>\n",
       "      <td>73165</td>\n",
       "      <td>77975</td>\n",
       "      <td>98424</td>\n",
       "      <td>98515</td>\n",
       "      <td>75147</td>\n",
       "      <td>73042</td>\n",
       "      <td>70894</td>\n",
       "    </tr>\n",
       "    <tr>\n",
       "      <th>South</th>\n",
       "      <td>139811</td>\n",
       "      <td>147394</td>\n",
       "      <td>185044</td>\n",
       "      <td>186085</td>\n",
       "      <td>141844</td>\n",
       "      <td>137507</td>\n",
       "      <td>133877</td>\n",
       "    </tr>\n",
       "    <tr>\n",
       "      <th>West</th>\n",
       "      <td>107461</td>\n",
       "      <td>112650</td>\n",
       "      <td>143114</td>\n",
       "      <td>141646</td>\n",
       "      <td>108938</td>\n",
       "      <td>105165</td>\n",
       "      <td>102712</td>\n",
       "    </tr>\n",
       "  </tbody>\n",
       "</table>\n",
       "</div>"
      ],
      "text/plain": [
       "orders_day_of_week  Friday  Monday  Saturday  Sunday  Thursday  Tuesday  \\\n",
       "Region                                                                    \n",
       "MidWest              98391  103910    131163  130433    100014    96657   \n",
       "Northeast            73165   77975     98424   98515     75147    73042   \n",
       "South               139811  147394    185044  186085    141844   137507   \n",
       "West                107461  112650    143114  141646    108938   105165   \n",
       "\n",
       "orders_day_of_week  Wednesday  \n",
       "Region                         \n",
       "MidWest                 93707  \n",
       "Northeast               70894  \n",
       "South                  133877  \n",
       "West                   102712  "
      ]
     },
     "execution_count": 31,
     "metadata": {},
     "output_type": "execute_result"
    }
   ],
   "source": [
    "#orders grouped by region and day_of_week to show popular days for shopping\n",
    "df_all.groupby(['Region', 'orders_day_of_week'])['order_id'].nunique().unstack(fill_value=0)"
   ]
  },
  {
   "cell_type": "code",
   "execution_count": 32,
   "id": "7c6184e1",
   "metadata": {
    "ExecuteTime": {
     "end_time": "2024-03-07T20:34:09.809359Z",
     "start_time": "2024-03-07T20:34:03.102292Z"
    }
   },
   "outputs": [
    {
     "name": "stderr",
     "output_type": "stream",
     "text": [
      "C:\\Users\\fa_an\\AppData\\Local\\Temp\\ipykernel_18680\\3122092206.py:2: FutureWarning: The default of observed=False is deprecated and will be changed to True in a future version of pandas. Pass observed=False to retain current behavior or observed=True to adopt the future default and silence this warning.\n",
      "  df_all.groupby(['Region', 'order_hour_of_day'])['user_id'].nunique().unstack(fill_value=0)\n"
     ]
    },
    {
     "data": {
      "text/html": [
       "<div>\n",
       "<style scoped>\n",
       "    .dataframe tbody tr th:only-of-type {\n",
       "        vertical-align: middle;\n",
       "    }\n",
       "\n",
       "    .dataframe tbody tr th {\n",
       "        vertical-align: top;\n",
       "    }\n",
       "\n",
       "    .dataframe thead th {\n",
       "        text-align: right;\n",
       "    }\n",
       "</style>\n",
       "<table border=\"1\" class=\"dataframe\">\n",
       "  <thead>\n",
       "    <tr style=\"text-align: right;\">\n",
       "      <th>order_hour_of_day</th>\n",
       "      <th>0</th>\n",
       "      <th>1</th>\n",
       "      <th>2</th>\n",
       "      <th>3</th>\n",
       "      <th>4</th>\n",
       "      <th>5</th>\n",
       "      <th>6</th>\n",
       "      <th>7</th>\n",
       "      <th>8</th>\n",
       "      <th>9</th>\n",
       "      <th>10</th>\n",
       "      <th>11</th>\n",
       "      <th>12</th>\n",
       "      <th>13</th>\n",
       "      <th>14</th>\n",
       "      <th>15</th>\n",
       "      <th>16</th>\n",
       "      <th>17</th>\n",
       "      <th>18</th>\n",
       "      <th>19</th>\n",
       "      <th>20</th>\n",
       "      <th>21</th>\n",
       "      <th>22</th>\n",
       "      <th>23</th>\n",
       "    </tr>\n",
       "    <tr>\n",
       "      <th>Region</th>\n",
       "      <th></th>\n",
       "      <th></th>\n",
       "      <th></th>\n",
       "      <th></th>\n",
       "      <th></th>\n",
       "      <th></th>\n",
       "      <th></th>\n",
       "      <th></th>\n",
       "      <th></th>\n",
       "      <th></th>\n",
       "      <th></th>\n",
       "      <th></th>\n",
       "      <th></th>\n",
       "      <th></th>\n",
       "      <th></th>\n",
       "      <th></th>\n",
       "      <th></th>\n",
       "      <th></th>\n",
       "      <th></th>\n",
       "      <th></th>\n",
       "      <th></th>\n",
       "      <th></th>\n",
       "      <th></th>\n",
       "      <th></th>\n",
       "    </tr>\n",
       "  </thead>\n",
       "  <tbody>\n",
       "    <tr>\n",
       "      <th>MidWest</th>\n",
       "      <td>3638</td>\n",
       "      <td>2116</td>\n",
       "      <td>1320</td>\n",
       "      <td>952</td>\n",
       "      <td>1028</td>\n",
       "      <td>1562</td>\n",
       "      <td>4304</td>\n",
       "      <td>10429</td>\n",
       "      <td>17308</td>\n",
       "      <td>22719</td>\n",
       "      <td>25505</td>\n",
       "      <td>26650</td>\n",
       "      <td>26529</td>\n",
       "      <td>26951</td>\n",
       "      <td>26982</td>\n",
       "      <td>27174</td>\n",
       "      <td>26261</td>\n",
       "      <td>23540</td>\n",
       "      <td>20035</td>\n",
       "      <td>16505</td>\n",
       "      <td>13178</td>\n",
       "      <td>10290</td>\n",
       "      <td>8381</td>\n",
       "      <td>5756</td>\n",
       "    </tr>\n",
       "    <tr>\n",
       "      <th>Northeast</th>\n",
       "      <td>2671</td>\n",
       "      <td>1595</td>\n",
       "      <td>1000</td>\n",
       "      <td>752</td>\n",
       "      <td>753</td>\n",
       "      <td>1224</td>\n",
       "      <td>3198</td>\n",
       "      <td>7781</td>\n",
       "      <td>13063</td>\n",
       "      <td>16954</td>\n",
       "      <td>19099</td>\n",
       "      <td>19782</td>\n",
       "      <td>20075</td>\n",
       "      <td>20212</td>\n",
       "      <td>20349</td>\n",
       "      <td>20299</td>\n",
       "      <td>19766</td>\n",
       "      <td>17458</td>\n",
       "      <td>14959</td>\n",
       "      <td>12411</td>\n",
       "      <td>9876</td>\n",
       "      <td>7672</td>\n",
       "      <td>6270</td>\n",
       "      <td>4402</td>\n",
       "    </tr>\n",
       "    <tr>\n",
       "      <th>South</th>\n",
       "      <td>5133</td>\n",
       "      <td>2886</td>\n",
       "      <td>1862</td>\n",
       "      <td>1446</td>\n",
       "      <td>1423</td>\n",
       "      <td>2324</td>\n",
       "      <td>6098</td>\n",
       "      <td>14743</td>\n",
       "      <td>24704</td>\n",
       "      <td>32244</td>\n",
       "      <td>36135</td>\n",
       "      <td>37651</td>\n",
       "      <td>37690</td>\n",
       "      <td>37960</td>\n",
       "      <td>38200</td>\n",
       "      <td>38374</td>\n",
       "      <td>37367</td>\n",
       "      <td>33331</td>\n",
       "      <td>28284</td>\n",
       "      <td>23512</td>\n",
       "      <td>18644</td>\n",
       "      <td>14415</td>\n",
       "      <td>11795</td>\n",
       "      <td>8414</td>\n",
       "    </tr>\n",
       "    <tr>\n",
       "      <th>West</th>\n",
       "      <td>3943</td>\n",
       "      <td>2210</td>\n",
       "      <td>1423</td>\n",
       "      <td>1087</td>\n",
       "      <td>1085</td>\n",
       "      <td>1716</td>\n",
       "      <td>4623</td>\n",
       "      <td>11294</td>\n",
       "      <td>18842</td>\n",
       "      <td>24591</td>\n",
       "      <td>27805</td>\n",
       "      <td>28783</td>\n",
       "      <td>28847</td>\n",
       "      <td>29192</td>\n",
       "      <td>29417</td>\n",
       "      <td>29248</td>\n",
       "      <td>28346</td>\n",
       "      <td>25300</td>\n",
       "      <td>21753</td>\n",
       "      <td>17781</td>\n",
       "      <td>14302</td>\n",
       "      <td>11073</td>\n",
       "      <td>9044</td>\n",
       "      <td>6294</td>\n",
       "    </tr>\n",
       "  </tbody>\n",
       "</table>\n",
       "</div>"
      ],
      "text/plain": [
       "order_hour_of_day    0     1     2     3     4     5     6      7      8   \\\n",
       "Region                                                                      \n",
       "MidWest            3638  2116  1320   952  1028  1562  4304  10429  17308   \n",
       "Northeast          2671  1595  1000   752   753  1224  3198   7781  13063   \n",
       "South              5133  2886  1862  1446  1423  2324  6098  14743  24704   \n",
       "West               3943  2210  1423  1087  1085  1716  4623  11294  18842   \n",
       "\n",
       "order_hour_of_day     9      10     11     12     13     14     15     16  \\\n",
       "Region                                                                      \n",
       "MidWest            22719  25505  26650  26529  26951  26982  27174  26261   \n",
       "Northeast          16954  19099  19782  20075  20212  20349  20299  19766   \n",
       "South              32244  36135  37651  37690  37960  38200  38374  37367   \n",
       "West               24591  27805  28783  28847  29192  29417  29248  28346   \n",
       "\n",
       "order_hour_of_day     17     18     19     20     21     22    23  \n",
       "Region                                                             \n",
       "MidWest            23540  20035  16505  13178  10290   8381  5756  \n",
       "Northeast          17458  14959  12411   9876   7672   6270  4402  \n",
       "South              33331  28284  23512  18644  14415  11795  8414  \n",
       "West               25300  21753  17781  14302  11073   9044  6294  "
      ]
     },
     "execution_count": 32,
     "metadata": {},
     "output_type": "execute_result"
    }
   ],
   "source": [
    "#orders grouped by region and hour_of_day to show popular time of day for shopping\n",
    "df_all.groupby(['Region', 'order_hour_of_day'])['user_id'].nunique().unstack(fill_value=0)"
   ]
  },
  {
   "cell_type": "code",
   "execution_count": 33,
   "id": "c65c6ef1",
   "metadata": {
    "ExecuteTime": {
     "end_time": "2024-03-07T20:34:12.044022Z",
     "start_time": "2024-03-07T20:34:09.809359Z"
    }
   },
   "outputs": [
    {
     "name": "stderr",
     "output_type": "stream",
     "text": [
      "C:\\Users\\fa_an\\AppData\\Local\\Temp\\ipykernel_18680\\90421716.py:2: FutureWarning: The default of observed=False is deprecated and will be changed to True in a future version of pandas. Pass observed=False to retain current behavior or observed=True to adopt the future default and silence this warning.\n",
      "  df_all.groupby('Region').agg({'user_id': 'nunique'}).sort_values(by='user_id', ascending=False)\n"
     ]
    },
    {
     "data": {
      "text/html": [
       "<div>\n",
       "<style scoped>\n",
       "    .dataframe tbody tr th:only-of-type {\n",
       "        vertical-align: middle;\n",
       "    }\n",
       "\n",
       "    .dataframe tbody tr th {\n",
       "        vertical-align: top;\n",
       "    }\n",
       "\n",
       "    .dataframe thead th {\n",
       "        text-align: right;\n",
       "    }\n",
       "</style>\n",
       "<table border=\"1\" class=\"dataframe\">\n",
       "  <thead>\n",
       "    <tr style=\"text-align: right;\">\n",
       "      <th></th>\n",
       "      <th>user_id</th>\n",
       "    </tr>\n",
       "    <tr>\n",
       "      <th>Region</th>\n",
       "      <th></th>\n",
       "    </tr>\n",
       "  </thead>\n",
       "  <tbody>\n",
       "    <tr>\n",
       "      <th>South</th>\n",
       "      <td>68737</td>\n",
       "    </tr>\n",
       "    <tr>\n",
       "      <th>West</th>\n",
       "      <td>52565</td>\n",
       "    </tr>\n",
       "    <tr>\n",
       "      <th>MidWest</th>\n",
       "      <td>48519</td>\n",
       "    </tr>\n",
       "    <tr>\n",
       "      <th>Northeast</th>\n",
       "      <td>36388</td>\n",
       "    </tr>\n",
       "  </tbody>\n",
       "</table>\n",
       "</div>"
      ],
      "text/plain": [
       "           user_id\n",
       "Region            \n",
       "South        68737\n",
       "West         52565\n",
       "MidWest      48519\n",
       "Northeast    36388"
      ]
     },
     "execution_count": 33,
     "metadata": {},
     "output_type": "execute_result"
    }
   ],
   "source": [
    "#Customer totals by region: user_id grouped by region\n",
    "df_all.groupby('Region').agg({'user_id': 'nunique'}).sort_values(by='user_id', ascending=False)"
   ]
  },
  {
   "cell_type": "markdown",
   "id": "748196f4",
   "metadata": {},
   "source": [
    "# 04 Create Exclusion Flag\n",
    "#### for LOW ACTIVITY CUSTOMERS\n",
    "The Instacart CFO isn’t interested in customers who don’t generate much revenue for the app. Create an exclusion flag for low-activity customers (customers with less than 5 orders) and exclude them from the data. Make sure you export this sample."
   ]
  },
  {
   "cell_type": "code",
   "execution_count": 34,
   "id": "bbb3e51a",
   "metadata": {
    "ExecuteTime": {
     "end_time": "2024-03-07T20:34:12.185848Z",
     "start_time": "2024-03-07T20:34:12.045277Z"
    }
   },
   "outputs": [],
   "source": [
    "# Create exclusion flag and create column\n",
    "df_all.loc[df_all['max_order'] < 5, 'exclusion_flag'] = 1"
   ]
  },
  {
   "cell_type": "code",
   "execution_count": 35,
   "id": "83c46ef9",
   "metadata": {
    "ExecuteTime": {
     "end_time": "2024-03-07T20:34:12.259090Z",
     "start_time": "2024-03-07T20:34:12.185848Z"
    }
   },
   "outputs": [],
   "source": [
    "df_all.loc[df_all['max_order'] >= 5, 'exclusion_flag'] = 0"
   ]
  },
  {
   "cell_type": "code",
   "execution_count": 36,
   "id": "285262b6",
   "metadata": {
    "ExecuteTime": {
     "end_time": "2024-03-07T20:34:12.265690Z",
     "start_time": "2024-03-07T20:34:12.260963Z"
    }
   },
   "outputs": [],
   "source": [
    "# Set display option to suppress scientific notation\n",
    "pd.set_option('display.float_format', lambda x: '%.2f' % x)"
   ]
  },
  {
   "cell_type": "code",
   "execution_count": 37,
   "id": "ba1db35b",
   "metadata": {
    "ExecuteTime": {
     "end_time": "2024-03-07T20:34:12.363660Z",
     "start_time": "2024-03-07T20:34:12.267703Z"
    }
   },
   "outputs": [],
   "source": [
    "df_all['exclusion_flag'] = df_all['exclusion_flag'].astype('int8')"
   ]
  },
  {
   "cell_type": "code",
   "execution_count": 38,
   "id": "32592280",
   "metadata": {
    "ExecuteTime": {
     "end_time": "2024-03-07T20:34:12.599587Z",
     "start_time": "2024-03-07T20:34:12.364673Z"
    }
   },
   "outputs": [
    {
     "data": {
      "text/plain": [
       "exclusion_flag\n",
       "0    30964564\n",
       "1     1440295\n",
       "Name: count, dtype: int64"
      ]
     },
     "execution_count": 38,
     "metadata": {},
     "output_type": "execute_result"
    }
   ],
   "source": [
    "# check to see that all records were allocated\n",
    "df_all['exclusion_flag'].value_counts(dropna=False)"
   ]
  },
  {
   "cell_type": "code",
   "execution_count": 39,
   "id": "1a8147ed",
   "metadata": {
    "ExecuteTime": {
     "end_time": "2024-03-07T20:34:13.812398Z",
     "start_time": "2024-03-07T20:34:12.599587Z"
    }
   },
   "outputs": [],
   "source": [
    "#create low_activity df to export sample per Instacart CFO\n",
    "df_low_activity = df_all[df_all['exclusion_flag'] == 1]"
   ]
  },
  {
   "cell_type": "code",
   "execution_count": 40,
   "id": "67872385",
   "metadata": {
    "ExecuteTime": {
     "end_time": "2024-03-07T20:34:14.175340Z",
     "start_time": "2024-03-07T20:34:13.812398Z"
    }
   },
   "outputs": [
    {
     "name": "stdout",
     "output_type": "stream",
     "text": [
      "<class 'pandas.core.frame.DataFrame'>\n",
      "Index: 1440295 entries, 1510 to 32403040\n",
      "Data columns (total 30 columns):\n",
      " #   Column                      Non-Null Count    Dtype   \n",
      "---  ------                      --------------    -----   \n",
      " 0   order_id                    1440295 non-null  int32   \n",
      " 1   user_id                     1440295 non-null  int32   \n",
      " 2   order_number                1440295 non-null  int8    \n",
      " 3   orders_day_of_week          1440295 non-null  category\n",
      " 4   order_hour_of_day           1440295 non-null  int8    \n",
      " 5   days_since_prior_order      1025482 non-null  float16 \n",
      " 6   product_id                  1440295 non-null  int32   \n",
      " 7   add_to_cart_order           1440295 non-null  uint8   \n",
      " 8   reordered                   1440295 non-null  int8    \n",
      " 9   product_name                1440295 non-null  object  \n",
      " 10  department_id               1440295 non-null  int8    \n",
      " 11  prices                      1440045 non-null  float32 \n",
      " 12  price_label                 1440295 non-null  object  \n",
      " 13  busiest_days                1440295 non-null  object  \n",
      " 14  max_order                   1440295 non-null  int8    \n",
      " 15  loyalty_flag                1440295 non-null  object  \n",
      " 16  mean_product_price          1440295 non-null  float32 \n",
      " 17  spending_flag               1440295 non-null  object  \n",
      " 18  median_days_between_orders  1440290 non-null  float16 \n",
      " 19  order_frequency_flag        1440295 non-null  object  \n",
      " 20  Gender                      1440295 non-null  object  \n",
      " 21  State                       1440295 non-null  object  \n",
      " 22  Age                         1440295 non-null  int8    \n",
      " 23  total_dependants            1440295 non-null  int8    \n",
      " 24  family_status               1440295 non-null  object  \n",
      " 25  income                      1440295 non-null  int32   \n",
      " 26  sum_order                   1440295 non-null  float32 \n",
      " 27  department                  1440295 non-null  object  \n",
      " 28  Region                      1440295 non-null  category\n",
      " 29  exclusion_flag              1440295 non-null  int8    \n",
      "dtypes: category(2), float16(2), float32(3), int32(4), int8(8), object(10), uint8(1)\n",
      "memory usage: 179.9+ MB\n"
     ]
    }
   ],
   "source": [
    "df_low_activity.info()"
   ]
  },
  {
   "cell_type": "code",
   "execution_count": 41,
   "id": "3a4db045",
   "metadata": {
    "ExecuteTime": {
     "end_time": "2024-03-07T20:34:19.007716Z",
     "start_time": "2024-03-07T20:34:14.176718Z"
    }
   },
   "outputs": [],
   "source": [
    "#exclude low-activity customers in new df_excluded\n",
    "df_excluded = df_all[df_all['exclusion_flag'] == 0]"
   ]
  },
  {
   "cell_type": "code",
   "execution_count": 42,
   "id": "13fa8628",
   "metadata": {
    "ExecuteTime": {
     "end_time": "2024-03-07T20:34:19.014944Z",
     "start_time": "2024-03-07T20:34:19.007716Z"
    }
   },
   "outputs": [
    {
     "data": {
      "text/plain": [
       "(30964564, 30)"
      ]
     },
     "execution_count": 42,
     "metadata": {},
     "output_type": "execute_result"
    }
   ],
   "source": [
    "df_excluded.shape"
   ]
  },
  {
   "cell_type": "code",
   "execution_count": 43,
   "id": "bff8f1cb",
   "metadata": {
    "ExecuteTime": {
     "end_time": "2024-03-07T20:34:19.040534Z",
     "start_time": "2024-03-07T20:34:19.017527Z"
    }
   },
   "outputs": [
    {
     "data": {
      "text/html": [
       "<div>\n",
       "<style scoped>\n",
       "    .dataframe tbody tr th:only-of-type {\n",
       "        vertical-align: middle;\n",
       "    }\n",
       "\n",
       "    .dataframe tbody tr th {\n",
       "        vertical-align: top;\n",
       "    }\n",
       "\n",
       "    .dataframe thead th {\n",
       "        text-align: right;\n",
       "    }\n",
       "</style>\n",
       "<table border=\"1\" class=\"dataframe\">\n",
       "  <thead>\n",
       "    <tr style=\"text-align: right;\">\n",
       "      <th></th>\n",
       "      <th>order_id</th>\n",
       "      <th>user_id</th>\n",
       "      <th>order_number</th>\n",
       "      <th>orders_day_of_week</th>\n",
       "      <th>order_hour_of_day</th>\n",
       "      <th>days_since_prior_order</th>\n",
       "      <th>product_id</th>\n",
       "      <th>add_to_cart_order</th>\n",
       "      <th>reordered</th>\n",
       "      <th>product_name</th>\n",
       "      <th>department_id</th>\n",
       "      <th>prices</th>\n",
       "      <th>price_label</th>\n",
       "      <th>busiest_days</th>\n",
       "      <th>max_order</th>\n",
       "      <th>loyalty_flag</th>\n",
       "      <th>mean_product_price</th>\n",
       "      <th>spending_flag</th>\n",
       "      <th>median_days_between_orders</th>\n",
       "      <th>order_frequency_flag</th>\n",
       "      <th>Gender</th>\n",
       "      <th>State</th>\n",
       "      <th>Age</th>\n",
       "      <th>total_dependants</th>\n",
       "      <th>family_status</th>\n",
       "      <th>income</th>\n",
       "      <th>sum_order</th>\n",
       "      <th>department</th>\n",
       "      <th>Region</th>\n",
       "      <th>exclusion_flag</th>\n",
       "    </tr>\n",
       "  </thead>\n",
       "  <tbody>\n",
       "    <tr>\n",
       "      <th>0</th>\n",
       "      <td>2539329</td>\n",
       "      <td>1</td>\n",
       "      <td>1</td>\n",
       "      <td>Monday</td>\n",
       "      <td>8</td>\n",
       "      <td>NaN</td>\n",
       "      <td>196</td>\n",
       "      <td>1</td>\n",
       "      <td>0</td>\n",
       "      <td>Soda</td>\n",
       "      <td>7</td>\n",
       "      <td>9.00</td>\n",
       "      <td>Mid-range product</td>\n",
       "      <td>Regularly busy</td>\n",
       "      <td>10</td>\n",
       "      <td>New Customer</td>\n",
       "      <td>6.37</td>\n",
       "      <td>Low Spender</td>\n",
       "      <td>20.50</td>\n",
       "      <td>Non-frequent customer</td>\n",
       "      <td>Female</td>\n",
       "      <td>Alabama</td>\n",
       "      <td>31</td>\n",
       "      <td>3</td>\n",
       "      <td>married</td>\n",
       "      <td>40423</td>\n",
       "      <td>31.60</td>\n",
       "      <td>beverages</td>\n",
       "      <td>South</td>\n",
       "      <td>0</td>\n",
       "    </tr>\n",
       "    <tr>\n",
       "      <th>1</th>\n",
       "      <td>2398795</td>\n",
       "      <td>1</td>\n",
       "      <td>2</td>\n",
       "      <td>Tuesday</td>\n",
       "      <td>7</td>\n",
       "      <td>15.00</td>\n",
       "      <td>196</td>\n",
       "      <td>1</td>\n",
       "      <td>1</td>\n",
       "      <td>Soda</td>\n",
       "      <td>7</td>\n",
       "      <td>9.00</td>\n",
       "      <td>Mid-range product</td>\n",
       "      <td>Slowest days</td>\n",
       "      <td>10</td>\n",
       "      <td>New Customer</td>\n",
       "      <td>6.37</td>\n",
       "      <td>Low Spender</td>\n",
       "      <td>20.50</td>\n",
       "      <td>Non-frequent customer</td>\n",
       "      <td>Female</td>\n",
       "      <td>Alabama</td>\n",
       "      <td>31</td>\n",
       "      <td>3</td>\n",
       "      <td>married</td>\n",
       "      <td>40423</td>\n",
       "      <td>35.40</td>\n",
       "      <td>beverages</td>\n",
       "      <td>South</td>\n",
       "      <td>0</td>\n",
       "    </tr>\n",
       "    <tr>\n",
       "      <th>2</th>\n",
       "      <td>473747</td>\n",
       "      <td>1</td>\n",
       "      <td>3</td>\n",
       "      <td>Tuesday</td>\n",
       "      <td>12</td>\n",
       "      <td>21.00</td>\n",
       "      <td>196</td>\n",
       "      <td>1</td>\n",
       "      <td>1</td>\n",
       "      <td>Soda</td>\n",
       "      <td>7</td>\n",
       "      <td>9.00</td>\n",
       "      <td>Mid-range product</td>\n",
       "      <td>Slowest days</td>\n",
       "      <td>10</td>\n",
       "      <td>New Customer</td>\n",
       "      <td>6.37</td>\n",
       "      <td>Low Spender</td>\n",
       "      <td>20.50</td>\n",
       "      <td>Non-frequent customer</td>\n",
       "      <td>Female</td>\n",
       "      <td>Alabama</td>\n",
       "      <td>31</td>\n",
       "      <td>3</td>\n",
       "      <td>married</td>\n",
       "      <td>40423</td>\n",
       "      <td>28.20</td>\n",
       "      <td>beverages</td>\n",
       "      <td>South</td>\n",
       "      <td>0</td>\n",
       "    </tr>\n",
       "    <tr>\n",
       "      <th>3</th>\n",
       "      <td>2254736</td>\n",
       "      <td>1</td>\n",
       "      <td>4</td>\n",
       "      <td>Wednesday</td>\n",
       "      <td>7</td>\n",
       "      <td>29.00</td>\n",
       "      <td>196</td>\n",
       "      <td>1</td>\n",
       "      <td>1</td>\n",
       "      <td>Soda</td>\n",
       "      <td>7</td>\n",
       "      <td>9.00</td>\n",
       "      <td>Mid-range product</td>\n",
       "      <td>Slowest days</td>\n",
       "      <td>10</td>\n",
       "      <td>New Customer</td>\n",
       "      <td>6.37</td>\n",
       "      <td>Low Spender</td>\n",
       "      <td>20.50</td>\n",
       "      <td>Non-frequent customer</td>\n",
       "      <td>Female</td>\n",
       "      <td>Alabama</td>\n",
       "      <td>31</td>\n",
       "      <td>3</td>\n",
       "      <td>married</td>\n",
       "      <td>40423</td>\n",
       "      <td>26.00</td>\n",
       "      <td>beverages</td>\n",
       "      <td>South</td>\n",
       "      <td>0</td>\n",
       "    </tr>\n",
       "    <tr>\n",
       "      <th>4</th>\n",
       "      <td>431534</td>\n",
       "      <td>1</td>\n",
       "      <td>5</td>\n",
       "      <td>Wednesday</td>\n",
       "      <td>15</td>\n",
       "      <td>28.00</td>\n",
       "      <td>196</td>\n",
       "      <td>1</td>\n",
       "      <td>1</td>\n",
       "      <td>Soda</td>\n",
       "      <td>7</td>\n",
       "      <td>9.00</td>\n",
       "      <td>Mid-range product</td>\n",
       "      <td>Slowest days</td>\n",
       "      <td>10</td>\n",
       "      <td>New Customer</td>\n",
       "      <td>6.37</td>\n",
       "      <td>Low Spender</td>\n",
       "      <td>20.50</td>\n",
       "      <td>Non-frequent customer</td>\n",
       "      <td>Female</td>\n",
       "      <td>Alabama</td>\n",
       "      <td>31</td>\n",
       "      <td>3</td>\n",
       "      <td>married</td>\n",
       "      <td>40423</td>\n",
       "      <td>57.00</td>\n",
       "      <td>beverages</td>\n",
       "      <td>South</td>\n",
       "      <td>0</td>\n",
       "    </tr>\n",
       "  </tbody>\n",
       "</table>\n",
       "</div>"
      ],
      "text/plain": [
       "   order_id  user_id  order_number orders_day_of_week  order_hour_of_day  \\\n",
       "0   2539329        1             1             Monday                  8   \n",
       "1   2398795        1             2            Tuesday                  7   \n",
       "2    473747        1             3            Tuesday                 12   \n",
       "3   2254736        1             4          Wednesday                  7   \n",
       "4    431534        1             5          Wednesday                 15   \n",
       "\n",
       "   days_since_prior_order  product_id  add_to_cart_order  reordered  \\\n",
       "0                     NaN         196                  1          0   \n",
       "1                   15.00         196                  1          1   \n",
       "2                   21.00         196                  1          1   \n",
       "3                   29.00         196                  1          1   \n",
       "4                   28.00         196                  1          1   \n",
       "\n",
       "  product_name  department_id  prices        price_label    busiest_days  \\\n",
       "0         Soda              7    9.00  Mid-range product  Regularly busy   \n",
       "1         Soda              7    9.00  Mid-range product    Slowest days   \n",
       "2         Soda              7    9.00  Mid-range product    Slowest days   \n",
       "3         Soda              7    9.00  Mid-range product    Slowest days   \n",
       "4         Soda              7    9.00  Mid-range product    Slowest days   \n",
       "\n",
       "   max_order  loyalty_flag  mean_product_price spending_flag  \\\n",
       "0         10  New Customer                6.37   Low Spender   \n",
       "1         10  New Customer                6.37   Low Spender   \n",
       "2         10  New Customer                6.37   Low Spender   \n",
       "3         10  New Customer                6.37   Low Spender   \n",
       "4         10  New Customer                6.37   Low Spender   \n",
       "\n",
       "   median_days_between_orders   order_frequency_flag  Gender    State  Age  \\\n",
       "0                       20.50  Non-frequent customer  Female  Alabama   31   \n",
       "1                       20.50  Non-frequent customer  Female  Alabama   31   \n",
       "2                       20.50  Non-frequent customer  Female  Alabama   31   \n",
       "3                       20.50  Non-frequent customer  Female  Alabama   31   \n",
       "4                       20.50  Non-frequent customer  Female  Alabama   31   \n",
       "\n",
       "   total_dependants family_status  income  sum_order department Region  \\\n",
       "0                 3       married   40423      31.60  beverages  South   \n",
       "1                 3       married   40423      35.40  beverages  South   \n",
       "2                 3       married   40423      28.20  beverages  South   \n",
       "3                 3       married   40423      26.00  beverages  South   \n",
       "4                 3       married   40423      57.00  beverages  South   \n",
       "\n",
       "   exclusion_flag  \n",
       "0               0  \n",
       "1               0  \n",
       "2               0  \n",
       "3               0  \n",
       "4               0  "
      ]
     },
     "execution_count": 43,
     "metadata": {},
     "output_type": "execute_result"
    }
   ],
   "source": [
    "df_excluded.head()"
   ]
  },
  {
   "cell_type": "code",
   "execution_count": 44,
   "id": "a01a7f0e",
   "metadata": {
    "ExecuteTime": {
     "end_time": "2024-03-07T20:34:19.050427Z",
     "start_time": "2024-03-07T20:34:19.040534Z"
    }
   },
   "outputs": [
    {
     "name": "stdout",
     "output_type": "stream",
     "text": [
      "<class 'pandas.core.frame.DataFrame'>\n",
      "Index: 30964564 entries, 0 to 32380882\n",
      "Data columns (total 30 columns):\n",
      " #   Column                      Dtype   \n",
      "---  ------                      -----   \n",
      " 0   order_id                    int32   \n",
      " 1   user_id                     int32   \n",
      " 2   order_number                int8    \n",
      " 3   orders_day_of_week          category\n",
      " 4   order_hour_of_day           int8    \n",
      " 5   days_since_prior_order      float16 \n",
      " 6   product_id                  int32   \n",
      " 7   add_to_cart_order           uint8   \n",
      " 8   reordered                   int8    \n",
      " 9   product_name                object  \n",
      " 10  department_id               int8    \n",
      " 11  prices                      float32 \n",
      " 12  price_label                 object  \n",
      " 13  busiest_days                object  \n",
      " 14  max_order                   int8    \n",
      " 15  loyalty_flag                object  \n",
      " 16  mean_product_price          float32 \n",
      " 17  spending_flag               object  \n",
      " 18  median_days_between_orders  float16 \n",
      " 19  order_frequency_flag        object  \n",
      " 20  Gender                      object  \n",
      " 21  State                       object  \n",
      " 22  Age                         int8    \n",
      " 23  total_dependants            int8    \n",
      " 24  family_status               object  \n",
      " 25  income                      int32   \n",
      " 26  sum_order                   float32 \n",
      " 27  department                  object  \n",
      " 28  Region                      category\n",
      " 29  exclusion_flag              int8    \n",
      "dtypes: category(2), float16(2), float32(3), int32(4), int8(8), object(10), uint8(1)\n",
      "memory usage: 3.8+ GB\n"
     ]
    }
   ],
   "source": [
    "df_excluded.info()"
   ]
  },
  {
   "cell_type": "markdown",
   "id": "a4916f25",
   "metadata": {},
   "source": [
    "# 05 Create Customer Profiles/Flags\n",
    "The marketing and business strategy units at Instacart want to create more-relevant marketing strategies for different products and are, thus, curious about customer profiling in their database. Create a profiling variable based on age, income, certain goods in the “department_id” column, and number of dependents. You might also use the “orders_day_of_week” and “order_hour_of_day” columns if you can think of a way they would impact customer profiles. (Hint: As an example, try thinking of what characteristics would lead you to the profile “Single adult” or “Young parent.”)"
   ]
  },
  {
   "cell_type": "code",
   "execution_count": 45,
   "id": "5d64455e",
   "metadata": {
    "ExecuteTime": {
     "end_time": "2024-03-07T20:34:19.424107Z",
     "start_time": "2024-03-07T20:34:19.052685Z"
    }
   },
   "outputs": [
    {
     "data": {
      "text/plain": [
       "department\n",
       "produce            9079273\n",
       "dairy eggs         5177182\n",
       "snacks             2766406\n",
       "beverages          2571901\n",
       "frozen             2121731\n",
       "pantry             1782705\n",
       "bakery             1120828\n",
       "canned goods       1012074\n",
       "deli               1003834\n",
       "dry goods pasta     822136\n",
       "household           699857\n",
       "meat seafood        674781\n",
       "breakfast           670850\n",
       "personal care       424306\n",
       "babies              410392\n",
       "international       255991\n",
       "alcohol             144627\n",
       "pets                 93060\n",
       "missing              64768\n",
       "other                34411\n",
       "bulk                 33451\n",
       "Name: count, dtype: int64"
      ]
     },
     "execution_count": 45,
     "metadata": {},
     "output_type": "execute_result"
    }
   ],
   "source": [
    "df_excluded['department'].value_counts(dropna=False)"
   ]
  },
  {
   "cell_type": "code",
   "execution_count": 46,
   "id": "3f6f7002",
   "metadata": {
    "ExecuteTime": {
     "end_time": "2024-03-07T20:34:21.830724Z",
     "start_time": "2024-03-07T20:34:19.424107Z"
    }
   },
   "outputs": [
    {
     "name": "stderr",
     "output_type": "stream",
     "text": [
      "C:\\Users\\fa_an\\AppData\\Local\\Temp\\ipykernel_18680\\2804122596.py:2: FutureWarning: The default of observed=False is deprecated and will be changed to True in a future version of pandas. Pass observed=False to retain current behavior or observed=True to adopt the future default and silence this warning.\n",
      "  sum_prices_by_department_region = df_excluded.groupby(['department', 'Region'])['prices'].sum().reset_index()\n"
     ]
    }
   ],
   "source": [
    "# Group by 'department' and 'region', then aggregate the sum of prices\n",
    "sum_prices_by_department_region = df_excluded.groupby(['department', 'Region'])['prices'].sum().reset_index()\n",
    "\n",
    "# Sort the result by 'department' and 'region' in descending order\n",
    "sum_prices_by_department_region_sorted = sum_prices_by_department_region.sort_values(by=['department', 'Region'], ascending=False)"
   ]
  },
  {
   "cell_type": "code",
   "execution_count": 47,
   "id": "6d770bbe",
   "metadata": {
    "ExecuteTime": {
     "end_time": "2024-03-07T20:34:21.838772Z",
     "start_time": "2024-03-07T20:34:21.830724Z"
    }
   },
   "outputs": [],
   "source": [
    "# Set the display option to show all rows\n",
    "pd.set_option('display.max_rows', None)"
   ]
  },
  {
   "cell_type": "code",
   "execution_count": 48,
   "id": "0c5c1b3f",
   "metadata": {
    "ExecuteTime": {
     "end_time": "2024-03-07T20:34:21.861769Z",
     "start_time": "2024-03-07T20:34:21.840558Z"
    }
   },
   "outputs": [],
   "source": [
    "#use crosstabs in excel\n",
    "crosstab = pd.crosstab(index=sum_prices_by_department_region['department'], \n",
    "                        columns=sum_prices_by_department_region['Region'], \n",
    "                        values=sum_prices_by_department_region['prices'], \n",
    "                        aggfunc='sum')\n",
    "\n",
    "# Sort the crosstab by 'department' and 'region' in descending order\n",
    "crosstab_sorted = crosstab.sort_values(by=['department'], ascending=False)"
   ]
  },
  {
   "cell_type": "code",
   "execution_count": 49,
   "id": "90741f21",
   "metadata": {
    "ExecuteTime": {
     "end_time": "2024-03-07T20:34:21.871842Z",
     "start_time": "2024-03-07T20:34:21.864007Z"
    }
   },
   "outputs": [
    {
     "data": {
      "text/html": [
       "<div>\n",
       "<style scoped>\n",
       "    .dataframe tbody tr th:only-of-type {\n",
       "        vertical-align: middle;\n",
       "    }\n",
       "\n",
       "    .dataframe tbody tr th {\n",
       "        vertical-align: top;\n",
       "    }\n",
       "\n",
       "    .dataframe thead th {\n",
       "        text-align: right;\n",
       "    }\n",
       "</style>\n",
       "<table border=\"1\" class=\"dataframe\">\n",
       "  <thead>\n",
       "    <tr style=\"text-align: right;\">\n",
       "      <th>Region</th>\n",
       "      <th>MidWest</th>\n",
       "      <th>Northeast</th>\n",
       "      <th>South</th>\n",
       "      <th>West</th>\n",
       "    </tr>\n",
       "    <tr>\n",
       "      <th>department</th>\n",
       "      <th></th>\n",
       "      <th></th>\n",
       "      <th></th>\n",
       "      <th></th>\n",
       "    </tr>\n",
       "  </thead>\n",
       "  <tbody>\n",
       "    <tr>\n",
       "      <th>snacks</th>\n",
       "      <td>2758447.50</td>\n",
       "      <td>2105588.00</td>\n",
       "      <td>3918338.75</td>\n",
       "      <td>3045546.00</td>\n",
       "    </tr>\n",
       "    <tr>\n",
       "      <th>produce</th>\n",
       "      <td>17034110.00</td>\n",
       "      <td>12708319.00</td>\n",
       "      <td>24167140.00</td>\n",
       "      <td>18546192.00</td>\n",
       "    </tr>\n",
       "    <tr>\n",
       "      <th>pets</th>\n",
       "      <td>166938.80</td>\n",
       "      <td>140749.70</td>\n",
       "      <td>234712.59</td>\n",
       "      <td>191608.59</td>\n",
       "    </tr>\n",
       "    <tr>\n",
       "      <th>personal care</th>\n",
       "      <td>804340.69</td>\n",
       "      <td>597516.38</td>\n",
       "      <td>1138407.62</td>\n",
       "      <td>853650.31</td>\n",
       "    </tr>\n",
       "    <tr>\n",
       "      <th>pantry</th>\n",
       "      <td>3368091.25</td>\n",
       "      <td>2502665.00</td>\n",
       "      <td>4744687.50</td>\n",
       "      <td>3672012.50</td>\n",
       "    </tr>\n",
       "    <tr>\n",
       "      <th>other</th>\n",
       "      <td>57296.80</td>\n",
       "      <td>42957.20</td>\n",
       "      <td>78757.40</td>\n",
       "      <td>60557.80</td>\n",
       "    </tr>\n",
       "    <tr>\n",
       "      <th>missing</th>\n",
       "      <td>134758.70</td>\n",
       "      <td>99003.70</td>\n",
       "      <td>187790.70</td>\n",
       "      <td>139380.20</td>\n",
       "    </tr>\n",
       "    <tr>\n",
       "      <th>meat seafood</th>\n",
       "      <td>2574335.75</td>\n",
       "      <td>1930068.75</td>\n",
       "      <td>3657937.50</td>\n",
       "      <td>2836611.50</td>\n",
       "    </tr>\n",
       "    <tr>\n",
       "      <th>international</th>\n",
       "      <td>463167.19</td>\n",
       "      <td>342749.50</td>\n",
       "      <td>655481.12</td>\n",
       "      <td>504305.09</td>\n",
       "    </tr>\n",
       "    <tr>\n",
       "      <th>household</th>\n",
       "      <td>1230175.75</td>\n",
       "      <td>918227.19</td>\n",
       "      <td>1701468.62</td>\n",
       "      <td>1315038.75</td>\n",
       "    </tr>\n",
       "    <tr>\n",
       "      <th>frozen</th>\n",
       "      <td>3846657.75</td>\n",
       "      <td>2864669.00</td>\n",
       "      <td>5498142.50</td>\n",
       "      <td>4199414.50</td>\n",
       "    </tr>\n",
       "    <tr>\n",
       "      <th>dry goods pasta</th>\n",
       "      <td>1425234.75</td>\n",
       "      <td>1052662.88</td>\n",
       "      <td>2008330.50</td>\n",
       "      <td>1555953.25</td>\n",
       "    </tr>\n",
       "    <tr>\n",
       "      <th>deli</th>\n",
       "      <td>1830725.00</td>\n",
       "      <td>1386006.38</td>\n",
       "      <td>2596924.75</td>\n",
       "      <td>1999532.00</td>\n",
       "    </tr>\n",
       "    <tr>\n",
       "      <th>dairy eggs</th>\n",
       "      <td>10099573.00</td>\n",
       "      <td>7621323.00</td>\n",
       "      <td>14334257.00</td>\n",
       "      <td>11063107.00</td>\n",
       "    </tr>\n",
       "    <tr>\n",
       "      <th>canned goods</th>\n",
       "      <td>1794251.12</td>\n",
       "      <td>1330925.25</td>\n",
       "      <td>2550543.25</td>\n",
       "      <td>1962058.88</td>\n",
       "    </tr>\n",
       "    <tr>\n",
       "      <th>bulk</th>\n",
       "      <td>66951.10</td>\n",
       "      <td>46081.80</td>\n",
       "      <td>93819.00</td>\n",
       "      <td>72360.90</td>\n",
       "    </tr>\n",
       "    <tr>\n",
       "      <th>breakfast</th>\n",
       "      <td>1252947.25</td>\n",
       "      <td>945090.81</td>\n",
       "      <td>1794287.75</td>\n",
       "      <td>1395704.38</td>\n",
       "    </tr>\n",
       "    <tr>\n",
       "      <th>beverages</th>\n",
       "      <td>4603243.00</td>\n",
       "      <td>3557924.00</td>\n",
       "      <td>6609110.50</td>\n",
       "      <td>4988496.50</td>\n",
       "    </tr>\n",
       "    <tr>\n",
       "      <th>bakery</th>\n",
       "      <td>2058264.62</td>\n",
       "      <td>1567480.25</td>\n",
       "      <td>2917445.25</td>\n",
       "      <td>2263696.00</td>\n",
       "    </tr>\n",
       "    <tr>\n",
       "      <th>babies</th>\n",
       "      <td>728255.62</td>\n",
       "      <td>555544.38</td>\n",
       "      <td>1069512.50</td>\n",
       "      <td>779783.88</td>\n",
       "    </tr>\n",
       "    <tr>\n",
       "      <th>alcohol</th>\n",
       "      <td>276848.09</td>\n",
       "      <td>201322.41</td>\n",
       "      <td>399225.31</td>\n",
       "      <td>301415.31</td>\n",
       "    </tr>\n",
       "  </tbody>\n",
       "</table>\n",
       "</div>"
      ],
      "text/plain": [
       "Region              MidWest   Northeast       South        West\n",
       "department                                                     \n",
       "snacks           2758447.50  2105588.00  3918338.75  3045546.00\n",
       "produce         17034110.00 12708319.00 24167140.00 18546192.00\n",
       "pets              166938.80   140749.70   234712.59   191608.59\n",
       "personal care     804340.69   597516.38  1138407.62   853650.31\n",
       "pantry           3368091.25  2502665.00  4744687.50  3672012.50\n",
       "other              57296.80    42957.20    78757.40    60557.80\n",
       "missing           134758.70    99003.70   187790.70   139380.20\n",
       "meat seafood     2574335.75  1930068.75  3657937.50  2836611.50\n",
       "international     463167.19   342749.50   655481.12   504305.09\n",
       "household        1230175.75   918227.19  1701468.62  1315038.75\n",
       "frozen           3846657.75  2864669.00  5498142.50  4199414.50\n",
       "dry goods pasta  1425234.75  1052662.88  2008330.50  1555953.25\n",
       "deli             1830725.00  1386006.38  2596924.75  1999532.00\n",
       "dairy eggs      10099573.00  7621323.00 14334257.00 11063107.00\n",
       "canned goods     1794251.12  1330925.25  2550543.25  1962058.88\n",
       "bulk               66951.10    46081.80    93819.00    72360.90\n",
       "breakfast        1252947.25   945090.81  1794287.75  1395704.38\n",
       "beverages        4603243.00  3557924.00  6609110.50  4988496.50\n",
       "bakery           2058264.62  1567480.25  2917445.25  2263696.00\n",
       "babies            728255.62   555544.38  1069512.50   779783.88\n",
       "alcohol           276848.09   201322.41   399225.31   301415.31"
      ]
     },
     "execution_count": 49,
     "metadata": {},
     "output_type": "execute_result"
    }
   ],
   "source": [
    "crosstab_sorted"
   ]
  },
  {
   "cell_type": "code",
   "execution_count": 50,
   "id": "26db5a4b",
   "metadata": {
    "ExecuteTime": {
     "end_time": "2024-03-07T20:34:21.936590Z",
     "start_time": "2024-03-07T20:34:21.873279Z"
    }
   },
   "outputs": [],
   "source": [
    "#copy crosstab data and paste into excel\n",
    "crosstab.to_clipboard()"
   ]
  },
  {
   "cell_type": "code",
   "execution_count": 51,
   "id": "90b404db",
   "metadata": {
    "ExecuteTime": {
     "end_time": "2024-03-07T20:34:25.699424Z",
     "start_time": "2024-03-07T20:34:21.938601Z"
    }
   },
   "outputs": [],
   "source": [
    "# Create the crosstab\n",
    "crosstab = pd.crosstab(index=df_excluded['income'], \n",
    "                       columns='mean_sum_order', \n",
    "                       values=df_excluded['sum_order'], \n",
    "                       aggfunc='mean')"
   ]
  },
  {
   "cell_type": "code",
   "execution_count": 52,
   "id": "df32ee90",
   "metadata": {
    "ExecuteTime": {
     "end_time": "2024-03-07T20:34:25.897869Z",
     "start_time": "2024-03-07T20:34:25.699424Z"
    }
   },
   "outputs": [],
   "source": [
    "crosstab.to_clipboard()"
   ]
  },
  {
   "cell_type": "code",
   "execution_count": 53,
   "id": "6d4aebc6",
   "metadata": {
    "ExecuteTime": {
     "end_time": "2024-03-07T20:34:26.426301Z",
     "start_time": "2024-03-07T20:34:25.903110Z"
    }
   },
   "outputs": [
    {
     "data": {
      "text/plain": [
       "count   30964564.00\n",
       "mean          49.47\n",
       "std           18.49\n",
       "min           18.00\n",
       "25%           33.00\n",
       "50%           49.00\n",
       "75%           65.00\n",
       "max           81.00\n",
       "Name: Age, dtype: float64"
      ]
     },
     "execution_count": 53,
     "metadata": {},
     "output_type": "execute_result"
    }
   ],
   "source": [
    "#Review 'Age' and Create Age_Range column, might make categories to fit common categories, not just based on quartiles.\n",
    "df_excluded['Age'].describe()"
   ]
  },
  {
   "cell_type": "code",
   "execution_count": 55,
   "id": "419135a8",
   "metadata": {
    "ExecuteTime": {
     "end_time": "2024-03-07T20:41:13.212650Z",
     "start_time": "2024-03-07T20:41:12.654222Z"
    }
   },
   "outputs": [
    {
     "data": {
      "text/plain": [
       "Age_Range\n",
       "1.00    11624241\n",
       "2.00     9690051\n",
       "3.00     8195544\n",
       "0.00     1454728\n",
       "Name: count, dtype: int64"
      ]
     },
     "execution_count": 55,
     "metadata": {},
     "output_type": "execute_result"
    }
   ],
   "source": [
    "#Create Age_Range column (0=Young, 1=Adult, 2=Middle-Aged, 3=Senior)\n",
    "df_excluded.loc[df_excluded['Age'] <= 21, 'Age_Range'] = 0\n",
    "df_excluded.loc[(df_excluded['Age'] >= 21) & (df_excluded['Age'] <= 44), 'Age_Range'] = 1\n",
    "df_excluded.loc[(df_excluded['Age'] >= 45) & (df_excluded['Age'] <= 64), 'Age_Range'] = 2\n",
    "df_excluded.loc[df_excluded['Age'] >= 65, 'Age_Range'] = 3\n",
    "\n",
    "df_excluded['Age_Range'].value_counts(dropna = False)"
   ]
  },
  {
   "cell_type": "code",
   "execution_count": 56,
   "id": "5784dd43",
   "metadata": {
    "ExecuteTime": {
     "end_time": "2024-03-07T20:41:14.328527Z",
     "start_time": "2024-03-07T20:41:14.324327Z"
    }
   },
   "outputs": [],
   "source": [
    "#Adults are the largest part of the customer base, accounting for 11,135,125, approx 36%."
   ]
  },
  {
   "cell_type": "code",
   "execution_count": 57,
   "id": "a668b821",
   "metadata": {
    "ExecuteTime": {
     "end_time": "2024-03-07T20:41:15.587279Z",
     "start_time": "2024-03-07T20:41:15.204308Z"
    }
   },
   "outputs": [
    {
     "data": {
      "text/plain": [
       "count   30964564.00\n",
       "mean       99675.87\n",
       "std        43141.87\n",
       "min        25903.00\n",
       "25%        67292.00\n",
       "50%        96765.00\n",
       "75%       128102.00\n",
       "max       593901.00\n",
       "Name: income, dtype: float64"
      ]
     },
     "execution_count": 57,
     "metadata": {},
     "output_type": "execute_result"
    }
   ],
   "source": [
    "#Review 'income' and create income range\n",
    "df_excluded['income'].describe()"
   ]
  },
  {
   "cell_type": "code",
   "execution_count": 59,
   "id": "80dea30a",
   "metadata": {
    "ExecuteTime": {
     "end_time": "2024-03-07T20:41:20.538820Z",
     "start_time": "2024-03-07T20:41:20.206660Z"
    }
   },
   "outputs": [],
   "source": [
    "#income range parameters based on quartiles and create new column\n",
    "df_excluded.loc[df_excluded['income'] < 67292, 'Income_Range'] = 1\n",
    "df_excluded.loc[(df_excluded['income'] >= 67292) & (df_excluded['income'] <= 96764), 'Income_Range'] = 2\n",
    "df_excluded.loc[(df_excluded['income'] >= 96765) & (df_excluded['income'] <= 128101), 'Income_Range'] = 3\n",
    "df_excluded.loc[df_excluded['income'] >= 128102, 'Income_Range'] = 4"
   ]
  },
  {
   "cell_type": "code",
   "execution_count": 60,
   "id": "4b62b353",
   "metadata": {
    "ExecuteTime": {
     "end_time": "2024-03-07T20:41:21.822763Z",
     "start_time": "2024-03-07T20:41:21.572503Z"
    }
   },
   "outputs": [
    {
     "data": {
      "text/plain": [
       "Income_Range\n",
       "3.00    7742166\n",
       "4.00    7741261\n",
       "1.00    7741005\n",
       "2.00    7740132\n",
       "Name: count, dtype: int64"
      ]
     },
     "execution_count": 60,
     "metadata": {},
     "output_type": "execute_result"
    }
   ],
   "source": [
    "df_excluded['Income_Range'].value_counts(dropna=False)"
   ]
  },
  {
   "cell_type": "code",
   "execution_count": 62,
   "id": "6a78be33",
   "metadata": {
    "ExecuteTime": {
     "end_time": "2024-03-07T20:41:40.907318Z",
     "start_time": "2024-03-07T20:41:34.731796Z"
    }
   },
   "outputs": [],
   "source": [
    "#Set'pet_items' flag\n",
    "df_excluded.loc[:, 'pet_items'] = [1 if x == 'pets' else 0 for x in df_excluded['department']]"
   ]
  },
  {
   "cell_type": "code",
   "execution_count": 64,
   "id": "bfa325b8",
   "metadata": {
    "ExecuteTime": {
     "end_time": "2024-03-07T20:41:46.265818Z",
     "start_time": "2024-03-07T20:41:45.610644Z"
    }
   },
   "outputs": [],
   "source": [
    "#apply it based on user_id\n",
    "df_excluded.loc[:, 'pet_items'] = df_excluded.groupby(['user_id'])['pet_items'].transform('max')"
   ]
  },
  {
   "cell_type": "code",
   "execution_count": 66,
   "id": "e5ebd77f",
   "metadata": {
    "ExecuteTime": {
     "end_time": "2024-03-07T20:42:06.736482Z",
     "start_time": "2024-03-07T20:42:00.398031Z"
    }
   },
   "outputs": [],
   "source": [
    "#Set 'baby_items' flag\n",
    "df_excluded.loc[:, 'baby_items'] = [1 if x == 'babies' else 0 for x in df_excluded['department']]"
   ]
  },
  {
   "cell_type": "code",
   "execution_count": 67,
   "id": "a35d47d1",
   "metadata": {
    "ExecuteTime": {
     "end_time": "2024-03-07T20:42:09.216763Z",
     "start_time": "2024-03-07T20:42:08.564627Z"
    }
   },
   "outputs": [],
   "source": [
    "#apply it based on user_id\n",
    "df_excluded.loc[:, 'baby_items'] = df_excluded.groupby(['user_id'])['baby_items'].transform('max')"
   ]
  },
  {
   "cell_type": "code",
   "execution_count": 69,
   "id": "bd79ac6e",
   "metadata": {
    "ExecuteTime": {
     "end_time": "2024-03-07T20:43:19.621792Z",
     "start_time": "2024-03-07T20:43:12.828396Z"
    }
   },
   "outputs": [],
   "source": [
    "#Set 'snacks' flag\n",
    "df_excluded.loc[:, 'snacks'] = [1 if x == 'snacks' else 0 for x in df_excluded['department']]"
   ]
  },
  {
   "cell_type": "code",
   "execution_count": 70,
   "id": "ba635166",
   "metadata": {
    "ExecuteTime": {
     "end_time": "2024-03-07T20:43:22.606304Z",
     "start_time": "2024-03-07T20:43:21.939922Z"
    }
   },
   "outputs": [],
   "source": [
    "#apply it based on user_id\n",
    "df_excluded.loc[:, 'snacks'] = df_excluded.groupby(['user_id'])['snacks'].transform('max')"
   ]
  },
  {
   "cell_type": "code",
   "execution_count": 72,
   "id": "a26fe362",
   "metadata": {
    "ExecuteTime": {
     "end_time": "2024-03-07T20:43:42.500791Z",
     "start_time": "2024-03-07T20:43:35.571649Z"
    }
   },
   "outputs": [],
   "source": [
    "#Set 'frozen' flag\n",
    "df_excluded.loc[:, 'frozen'] = [1 if x == 'frozen' else 0 for x in df_excluded['department']]"
   ]
  },
  {
   "cell_type": "code",
   "execution_count": 73,
   "id": "3ff757cb",
   "metadata": {
    "ExecuteTime": {
     "end_time": "2024-03-07T20:43:44.321777Z",
     "start_time": "2024-03-07T20:43:43.605797Z"
    }
   },
   "outputs": [],
   "source": [
    "#apply it based on user_id\n",
    "df_excluded.loc[:, 'frozen'] = df_excluded.groupby(['user_id'])['frozen'].transform('max')"
   ]
  },
  {
   "cell_type": "code",
   "execution_count": 75,
   "id": "b62e7d17",
   "metadata": {
    "ExecuteTime": {
     "end_time": "2024-03-07T20:44:11.331873Z",
     "start_time": "2024-03-07T20:44:04.411762Z"
    }
   },
   "outputs": [],
   "source": [
    "#Set 'alcohol' flag\n",
    "df_excluded.loc[:, 'alcohol'] = [1 if x == 'alcohol' else 0 for x in df_excluded['department']]"
   ]
  },
  {
   "cell_type": "code",
   "execution_count": 76,
   "id": "e2734bf8",
   "metadata": {
    "ExecuteTime": {
     "end_time": "2024-03-07T20:44:12.981253Z",
     "start_time": "2024-03-07T20:44:12.326846Z"
    }
   },
   "outputs": [],
   "source": [
    "#apply it based on user_id\n",
    "df_excluded.loc[:, 'alcohol'] = df_excluded.groupby(['user_id'])['alcohol'].transform('max')"
   ]
  },
  {
   "cell_type": "code",
   "execution_count": 77,
   "id": "910d3f82",
   "metadata": {
    "ExecuteTime": {
     "end_time": "2024-03-07T20:44:14.213240Z",
     "start_time": "2024-03-07T20:44:13.988645Z"
    }
   },
   "outputs": [
    {
     "data": {
      "text/plain": [
       "pet_items\n",
       "0    27513213\n",
       "1     3451351\n",
       "Name: count, dtype: int64"
      ]
     },
     "execution_count": 77,
     "metadata": {},
     "output_type": "execute_result"
    }
   ],
   "source": [
    "df_excluded['pet_items'].value_counts(dropna=False)"
   ]
  },
  {
   "cell_type": "code",
   "execution_count": 78,
   "id": "11f6a68e",
   "metadata": {
    "ExecuteTime": {
     "end_time": "2024-03-07T20:44:16.884675Z",
     "start_time": "2024-03-07T20:44:16.724153Z"
    }
   },
   "outputs": [
    {
     "data": {
      "text/plain": [
       "baby_items\n",
       "0    21154311\n",
       "1     9810253\n",
       "Name: count, dtype: int64"
      ]
     },
     "execution_count": 78,
     "metadata": {},
     "output_type": "execute_result"
    }
   ],
   "source": [
    "df_excluded['baby_items'].value_counts(dropna=False)"
   ]
  },
  {
   "cell_type": "code",
   "execution_count": 79,
   "id": "b6fc4515",
   "metadata": {
    "ExecuteTime": {
     "end_time": "2024-03-07T20:44:19.338981Z",
     "start_time": "2024-03-07T20:44:19.167823Z"
    }
   },
   "outputs": [
    {
     "data": {
      "text/plain": [
       "snacks\n",
       "1    29852553\n",
       "0     1112011\n",
       "Name: count, dtype: int64"
      ]
     },
     "execution_count": 79,
     "metadata": {},
     "output_type": "execute_result"
    }
   ],
   "source": [
    "df_excluded['snacks'].value_counts(dropna=False)"
   ]
  },
  {
   "cell_type": "code",
   "execution_count": 80,
   "id": "3b4babc4",
   "metadata": {
    "ExecuteTime": {
     "end_time": "2024-03-07T20:44:20.470368Z",
     "start_time": "2024-03-07T20:44:20.301194Z"
    }
   },
   "outputs": [
    {
     "data": {
      "text/plain": [
       "frozen\n",
       "1    28887202\n",
       "0     2077362\n",
       "Name: count, dtype: int64"
      ]
     },
     "execution_count": 80,
     "metadata": {},
     "output_type": "execute_result"
    }
   ],
   "source": [
    "df_excluded['frozen'].value_counts(dropna=False)"
   ]
  },
  {
   "cell_type": "code",
   "execution_count": 81,
   "id": "6cdef225",
   "metadata": {
    "ExecuteTime": {
     "end_time": "2024-03-07T20:44:21.533857Z",
     "start_time": "2024-03-07T20:44:21.322524Z"
    }
   },
   "outputs": [
    {
     "data": {
      "text/plain": [
       "alcohol\n",
       "0    28634074\n",
       "1     2330490\n",
       "Name: count, dtype: int64"
      ]
     },
     "execution_count": 81,
     "metadata": {},
     "output_type": "execute_result"
    }
   ],
   "source": [
    "df_excluded['alcohol'].value_counts(dropna=False)"
   ]
  },
  {
   "cell_type": "code",
   "execution_count": 82,
   "id": "923396a2",
   "metadata": {
    "ExecuteTime": {
     "end_time": "2024-03-07T20:44:24.606763Z",
     "start_time": "2024-03-07T20:44:24.595434Z"
    }
   },
   "outputs": [
    {
     "name": "stdout",
     "output_type": "stream",
     "text": [
      "<class 'pandas.core.frame.DataFrame'>\n",
      "Index: 30964564 entries, 0 to 32380882\n",
      "Data columns (total 37 columns):\n",
      " #   Column                      Dtype   \n",
      "---  ------                      -----   \n",
      " 0   order_id                    int32   \n",
      " 1   user_id                     int32   \n",
      " 2   order_number                int8    \n",
      " 3   orders_day_of_week          category\n",
      " 4   order_hour_of_day           int8    \n",
      " 5   days_since_prior_order      float16 \n",
      " 6   product_id                  int32   \n",
      " 7   add_to_cart_order           uint8   \n",
      " 8   reordered                   int8    \n",
      " 9   product_name                object  \n",
      " 10  department_id               int8    \n",
      " 11  prices                      float32 \n",
      " 12  price_label                 object  \n",
      " 13  busiest_days                object  \n",
      " 14  max_order                   int8    \n",
      " 15  loyalty_flag                object  \n",
      " 16  mean_product_price          float32 \n",
      " 17  spending_flag               object  \n",
      " 18  median_days_between_orders  float16 \n",
      " 19  order_frequency_flag        object  \n",
      " 20  Gender                      object  \n",
      " 21  State                       object  \n",
      " 22  Age                         int8    \n",
      " 23  total_dependants            int8    \n",
      " 24  family_status               object  \n",
      " 25  income                      int32   \n",
      " 26  sum_order                   float32 \n",
      " 27  department                  object  \n",
      " 28  Region                      category\n",
      " 29  exclusion_flag              int8    \n",
      " 30  Age_Range                   float64 \n",
      " 31  Income_Range                float64 \n",
      " 32  pet_items                   int64   \n",
      " 33  baby_items                  int64   \n",
      " 34  snacks                      int64   \n",
      " 35  frozen                      int64   \n",
      " 36  alcohol                     int64   \n",
      "dtypes: category(2), float16(2), float32(3), float64(2), int32(4), int64(5), int8(8), object(10), uint8(1)\n",
      "memory usage: 5.4+ GB\n"
     ]
    }
   ],
   "source": [
    "df_excluded.info()"
   ]
  },
  {
   "cell_type": "code",
   "execution_count": 83,
   "id": "73545931",
   "metadata": {
    "ExecuteTime": {
     "end_time": "2024-03-07T20:44:27.551734Z",
     "start_time": "2024-03-07T20:44:27.547825Z"
    }
   },
   "outputs": [],
   "source": [
    "# I will create a few more additional customer profiles in 4.10 Part 2, need to save and downsample variables first."
   ]
  },
  {
   "cell_type": "markdown",
   "id": "4ed8893b",
   "metadata": {},
   "source": [
    "# 06 Export Data"
   ]
  },
  {
   "cell_type": "code",
   "execution_count": null,
   "id": "42a699f5",
   "metadata": {
    "ExecuteTime": {
     "end_time": "2024-03-06T23:09:35.825263Z",
     "start_time": "2024-03-06T23:09:06.461103Z"
    }
   },
   "outputs": [],
   "source": [
    "#export df_all as pkl\n",
    "#Export the updated df in pickle format as “ords_prods_customers_rev.pkl”. (incl sum_orders column)\n",
    "df_all.to_pickle(os.path.join(path, '02 Data','Prepared Data', 'instacart_ALL.pkl'))"
   ]
  },
  {
   "cell_type": "code",
   "execution_count": null,
   "id": "ce606b14",
   "metadata": {
    "ExecuteTime": {
     "end_time": "2024-03-07T20:45:02.337660Z",
     "start_time": "2024-03-07T20:44:47.860569Z"
    }
   },
   "outputs": [],
   "source": [
    "#export df_excluded as pkl\n",
    "df_excluded.to_pickle(os.path.join(path, '02 Data','Prepared Data', 'instacart_excluded.pkl'))"
   ]
  },
  {
   "cell_type": "code",
   "execution_count": null,
   "id": "84f93c42",
   "metadata": {
    "ExecuteTime": {
     "end_time": "2024-03-06T23:10:48.398511Z",
     "start_time": "2024-03-06T23:10:46.612016Z"
    }
   },
   "outputs": [],
   "source": [
    "#export df_low_activity customers sample as pkl\n",
    "df_low_activity.to_pickle(os.path.join(path, '02 Data','Prepared Data', 'instacart_low_activity_sample.pkl'))"
   ]
  },
  {
   "cell_type": "code",
   "execution_count": null,
   "id": "d8e4a706",
   "metadata": {},
   "outputs": [],
   "source": []
  }
 ],
 "metadata": {
  "kernelspec": {
   "display_name": "Python 3 (ipykernel)",
   "language": "python",
   "name": "python3"
  },
  "language_info": {
   "codemirror_mode": {
    "name": "ipython",
    "version": 3
   },
   "file_extension": ".py",
   "mimetype": "text/x-python",
   "name": "python",
   "nbconvert_exporter": "python",
   "pygments_lexer": "ipython3",
   "version": "3.11.5"
  }
 },
 "nbformat": 4,
 "nbformat_minor": 5
}
