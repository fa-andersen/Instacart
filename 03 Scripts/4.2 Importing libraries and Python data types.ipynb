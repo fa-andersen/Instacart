{
 "cells": [
  {
   "cell_type": "markdown",
   "id": "e03d57a8",
   "metadata": {},
   "source": [
    "# 4.2 Importing libraries and Python data types\n",
    "### This script contains the following points:\n",
    "#### 01 Import of libraries\n",
    "#### 02 Exploring data types\n",
    "#### 03 Procedures in data types\n",
    "#### 04 Task Questions (Q7 through Q10 and BONUS)"
   ]
  },
  {
   "cell_type": "markdown",
   "id": "4cd438c1",
   "metadata": {},
   "source": [
    "# 01 Importing Libraries"
   ]
  },
  {
   "cell_type": "code",
   "execution_count": 1,
   "id": "1f4587b3",
   "metadata": {},
   "outputs": [],
   "source": [
    "# Import Libraries\n",
    "import pandas as pd\n",
    "import numpy as np\n",
    "import os"
   ]
  },
  {
   "cell_type": "markdown",
   "id": "6d461d1d",
   "metadata": {},
   "source": [
    "# 02 Data Types"
   ]
  },
  {
   "cell_type": "markdown",
   "id": "ade6214a",
   "metadata": {},
   "source": [
    "### Integers"
   ]
  },
  {
   "cell_type": "code",
   "execution_count": 2,
   "id": "8acbc260",
   "metadata": {},
   "outputs": [],
   "source": [
    "x = 2"
   ]
  },
  {
   "cell_type": "code",
   "execution_count": 3,
   "id": "424062bc",
   "metadata": {},
   "outputs": [
    {
     "data": {
      "text/plain": [
       "2"
      ]
     },
     "execution_count": 3,
     "metadata": {},
     "output_type": "execute_result"
    }
   ],
   "source": [
    "x"
   ]
  },
  {
   "cell_type": "code",
   "execution_count": 4,
   "id": "f74a38e1",
   "metadata": {},
   "outputs": [
    {
     "name": "stdout",
     "output_type": "stream",
     "text": [
      "2\n"
     ]
    }
   ],
   "source": [
    "print(x)"
   ]
  },
  {
   "cell_type": "code",
   "execution_count": 5,
   "id": "25d24a19",
   "metadata": {},
   "outputs": [
    {
     "data": {
      "text/plain": [
       "int"
      ]
     },
     "execution_count": 5,
     "metadata": {},
     "output_type": "execute_result"
    }
   ],
   "source": [
    "type(x)"
   ]
  },
  {
   "cell_type": "markdown",
   "id": "b6813109",
   "metadata": {},
   "source": [
    "### Floating-Point Numbers"
   ]
  },
  {
   "cell_type": "code",
   "execution_count": 6,
   "id": "0172c571",
   "metadata": {},
   "outputs": [],
   "source": [
    "y = 5.678"
   ]
  },
  {
   "cell_type": "code",
   "execution_count": 7,
   "id": "ddd48a65",
   "metadata": {},
   "outputs": [
    {
     "data": {
      "text/plain": [
       "float"
      ]
     },
     "execution_count": 7,
     "metadata": {},
     "output_type": "execute_result"
    }
   ],
   "source": [
    "type(y)"
   ]
  },
  {
   "cell_type": "markdown",
   "id": "a7b8dd1b",
   "metadata": {},
   "source": [
    "### Strings"
   ]
  },
  {
   "cell_type": "code",
   "execution_count": 8,
   "id": "8ff691e4",
   "metadata": {},
   "outputs": [],
   "source": [
    "z = 'Brazil'"
   ]
  },
  {
   "cell_type": "code",
   "execution_count": 9,
   "id": "840984da",
   "metadata": {},
   "outputs": [
    {
     "data": {
      "text/plain": [
       "str"
      ]
     },
     "execution_count": 9,
     "metadata": {},
     "output_type": "execute_result"
    }
   ],
   "source": [
    "type(z)"
   ]
  },
  {
   "cell_type": "code",
   "execution_count": 10,
   "id": "cf0665b9",
   "metadata": {},
   "outputs": [
    {
     "data": {
      "text/plain": [
       "str"
      ]
     },
     "execution_count": 10,
     "metadata": {},
     "output_type": "execute_result"
    }
   ],
   "source": [
    "type('Mania')"
   ]
  },
  {
   "cell_type": "markdown",
   "id": "f28d520e",
   "metadata": {},
   "source": [
    "### Boolean"
   ]
  },
  {
   "cell_type": "code",
   "execution_count": 11,
   "id": "8e9f3228",
   "metadata": {},
   "outputs": [
    {
     "data": {
      "text/plain": [
       "bool"
      ]
     },
     "execution_count": 11,
     "metadata": {},
     "output_type": "execute_result"
    }
   ],
   "source": [
    "type(True)"
   ]
  },
  {
   "cell_type": "code",
   "execution_count": 12,
   "id": "dc0a6ba5",
   "metadata": {},
   "outputs": [
    {
     "data": {
      "text/plain": [
       "bool"
      ]
     },
     "execution_count": 12,
     "metadata": {},
     "output_type": "execute_result"
    }
   ],
   "source": [
    "type(False)"
   ]
  },
  {
   "cell_type": "markdown",
   "id": "e6bde051",
   "metadata": {},
   "source": [
    "# 03 Procedures in Data Types"
   ]
  },
  {
   "cell_type": "markdown",
   "id": "7aa72c99",
   "metadata": {},
   "source": [
    "### Integers and Floats"
   ]
  },
  {
   "cell_type": "code",
   "execution_count": 13,
   "id": "930afacd",
   "metadata": {},
   "outputs": [
    {
     "name": "stdout",
     "output_type": "stream",
     "text": [
      "2\n"
     ]
    }
   ],
   "source": [
    "print(x)"
   ]
  },
  {
   "cell_type": "code",
   "execution_count": 14,
   "id": "7ceed904",
   "metadata": {},
   "outputs": [
    {
     "data": {
      "text/plain": [
       "6"
      ]
     },
     "execution_count": 14,
     "metadata": {},
     "output_type": "execute_result"
    }
   ],
   "source": [
    "x + 4"
   ]
  },
  {
   "cell_type": "code",
   "execution_count": 15,
   "id": "58839a25",
   "metadata": {},
   "outputs": [
    {
     "data": {
      "text/plain": [
       "7.678"
      ]
     },
     "execution_count": 15,
     "metadata": {},
     "output_type": "execute_result"
    }
   ],
   "source": [
    "x + y"
   ]
  },
  {
   "cell_type": "code",
   "execution_count": 16,
   "id": "fd188584",
   "metadata": {},
   "outputs": [],
   "source": [
    "x = x + 4"
   ]
  },
  {
   "cell_type": "code",
   "execution_count": 17,
   "id": "b3716c0f",
   "metadata": {},
   "outputs": [
    {
     "name": "stdout",
     "output_type": "stream",
     "text": [
      "6\n"
     ]
    }
   ],
   "source": [
    "print(x)"
   ]
  },
  {
   "cell_type": "code",
   "execution_count": 18,
   "id": "935e9647",
   "metadata": {},
   "outputs": [
    {
     "data": {
      "text/plain": [
       "11.678"
      ]
     },
     "execution_count": 18,
     "metadata": {},
     "output_type": "execute_result"
    }
   ],
   "source": [
    "x + y"
   ]
  },
  {
   "cell_type": "markdown",
   "id": "0e77c91d",
   "metadata": {},
   "source": [
    "### Strings"
   ]
  },
  {
   "cell_type": "code",
   "execution_count": 19,
   "id": "e0c266d5",
   "metadata": {},
   "outputs": [],
   "source": [
    "a = 'Hello, '"
   ]
  },
  {
   "cell_type": "code",
   "execution_count": 20,
   "id": "51290144",
   "metadata": {},
   "outputs": [],
   "source": [
    "b = 'Marley'"
   ]
  },
  {
   "cell_type": "code",
   "execution_count": 21,
   "id": "74c12900",
   "metadata": {},
   "outputs": [
    {
     "data": {
      "text/plain": [
       "'Hello, Marley'"
      ]
     },
     "execution_count": 21,
     "metadata": {},
     "output_type": "execute_result"
    }
   ],
   "source": [
    "a + b"
   ]
  },
  {
   "cell_type": "code",
   "execution_count": 22,
   "id": "7c831990",
   "metadata": {},
   "outputs": [],
   "source": [
    "n = 'potato'"
   ]
  },
  {
   "cell_type": "code",
   "execution_count": 23,
   "id": "9995061a",
   "metadata": {},
   "outputs": [
    {
     "data": {
      "text/plain": [
       "'potatopotatopotatopotatopotatopotatopotatopotatopotatopotatopotatopotato'"
      ]
     },
     "execution_count": 23,
     "metadata": {},
     "output_type": "execute_result"
    }
   ],
   "source": [
    "n * 12"
   ]
  },
  {
   "cell_type": "markdown",
   "id": "4ef4dc4d",
   "metadata": {},
   "source": [
    "### Booleans"
   ]
  },
  {
   "cell_type": "code",
   "execution_count": 24,
   "id": "822c78f3",
   "metadata": {},
   "outputs": [
    {
     "data": {
      "text/plain": [
       "False"
      ]
     },
     "execution_count": 24,
     "metadata": {},
     "output_type": "execute_result"
    }
   ],
   "source": [
    "x == y"
   ]
  },
  {
   "cell_type": "code",
   "execution_count": 25,
   "id": "cd94e3a1",
   "metadata": {},
   "outputs": [
    {
     "data": {
      "text/plain": [
       "bool"
      ]
     },
     "execution_count": 25,
     "metadata": {},
     "output_type": "execute_result"
    }
   ],
   "source": [
    "type(x == y)"
   ]
  },
  {
   "cell_type": "markdown",
   "id": "162fe0c1",
   "metadata": {},
   "source": [
    "# 04 Task Questions"
   ]
  },
  {
   "cell_type": "markdown",
   "id": "b3d02694",
   "metadata": {},
   "source": [
    "### Q.7"
   ]
  },
  {
   "cell_type": "code",
   "execution_count": 29,
   "id": "04fad45b",
   "metadata": {},
   "outputs": [],
   "source": [
    "w = 50"
   ]
  },
  {
   "cell_type": "code",
   "execution_count": 28,
   "id": "a57f10b6",
   "metadata": {},
   "outputs": [],
   "source": [
    "x = 100"
   ]
  },
  {
   "cell_type": "code",
   "execution_count": 27,
   "id": "bb777001",
   "metadata": {},
   "outputs": [],
   "source": [
    "y = 150"
   ]
  },
  {
   "cell_type": "code",
   "execution_count": 26,
   "id": "f47e6ec8",
   "metadata": {},
   "outputs": [],
   "source": [
    "z = 200"
   ]
  },
  {
   "cell_type": "code",
   "execution_count": 30,
   "id": "644e0525",
   "metadata": {},
   "outputs": [
    {
     "data": {
      "text/plain": [
       "100"
      ]
     },
     "execution_count": 30,
     "metadata": {},
     "output_type": "execute_result"
    }
   ],
   "source": [
    "w + w"
   ]
  },
  {
   "cell_type": "code",
   "execution_count": 32,
   "id": "9a23f824",
   "metadata": {},
   "outputs": [
    {
     "data": {
      "text/plain": [
       "100"
      ]
     },
     "execution_count": 32,
     "metadata": {},
     "output_type": "execute_result"
    }
   ],
   "source": [
    "z - x"
   ]
  },
  {
   "cell_type": "code",
   "execution_count": 33,
   "id": "a36fabac",
   "metadata": {},
   "outputs": [
    {
     "data": {
      "text/plain": [
       "100"
      ]
     },
     "execution_count": 33,
     "metadata": {},
     "output_type": "execute_result"
    }
   ],
   "source": [
    "z - (w*2)"
   ]
  },
  {
   "cell_type": "code",
   "execution_count": 34,
   "id": "0a0bc942",
   "metadata": {},
   "outputs": [
    {
     "data": {
      "text/plain": [
       "100"
      ]
     },
     "execution_count": 34,
     "metadata": {},
     "output_type": "execute_result"
    }
   ],
   "source": [
    "y - w"
   ]
  },
  {
   "cell_type": "markdown",
   "id": "bcac9a0d",
   "metadata": {},
   "source": [
    "### Q.8"
   ]
  },
  {
   "cell_type": "code",
   "execution_count": 35,
   "id": "ce212b41",
   "metadata": {},
   "outputs": [],
   "source": [
    "x = 3.75"
   ]
  },
  {
   "cell_type": "code",
   "execution_count": 36,
   "id": "c134e101",
   "metadata": {},
   "outputs": [],
   "source": [
    "y = 18.75"
   ]
  },
  {
   "cell_type": "code",
   "execution_count": 37,
   "id": "fd6a4ab8",
   "metadata": {},
   "outputs": [
    {
     "data": {
      "text/plain": [
       "5.0"
      ]
     },
     "execution_count": 37,
     "metadata": {},
     "output_type": "execute_result"
    }
   ],
   "source": [
    "y / x"
   ]
  },
  {
   "cell_type": "markdown",
   "id": "1309751c",
   "metadata": {},
   "source": [
    "### Q.9"
   ]
  },
  {
   "cell_type": "code",
   "execution_count": 38,
   "id": "3e304b89",
   "metadata": {},
   "outputs": [],
   "source": [
    "a = 'Jup'"
   ]
  },
  {
   "cell_type": "code",
   "execution_count": 39,
   "id": "7d19f46c",
   "metadata": {},
   "outputs": [],
   "source": [
    "b = 'yter'"
   ]
  },
  {
   "cell_type": "code",
   "execution_count": 40,
   "id": "2716d19d",
   "metadata": {},
   "outputs": [
    {
     "data": {
      "text/plain": [
       "'Jupyter'"
      ]
     },
     "execution_count": 40,
     "metadata": {},
     "output_type": "execute_result"
    }
   ],
   "source": [
    "a + b"
   ]
  },
  {
   "cell_type": "markdown",
   "id": "6af9a189",
   "metadata": {},
   "source": [
    "### Q.10"
   ]
  },
  {
   "cell_type": "code",
   "execution_count": 48,
   "id": "9c0d9dc5",
   "metadata": {},
   "outputs": [],
   "source": [
    "a = 'A quick fox jumps over '"
   ]
  },
  {
   "cell_type": "code",
   "execution_count": 52,
   "id": "a19b4126",
   "metadata": {},
   "outputs": [],
   "source": [
    "b = 'the lazy dog. '"
   ]
  },
  {
   "cell_type": "code",
   "execution_count": 50,
   "id": "02583bc6",
   "metadata": {},
   "outputs": [],
   "source": [
    "c = 'A mad boxer shot a quick, '"
   ]
  },
  {
   "cell_type": "code",
   "execution_count": 51,
   "id": "c2ab6680",
   "metadata": {},
   "outputs": [],
   "source": [
    "d = 'gloved jab to the jaw of his dizzy opponent.'"
   ]
  },
  {
   "cell_type": "code",
   "execution_count": 53,
   "id": "3b1877ef",
   "metadata": {},
   "outputs": [
    {
     "data": {
      "text/plain": [
       "'A quick fox jumps over the lazy dog. A mad boxer shot a quick, gloved jab to the jaw of his dizzy opponent.'"
      ]
     },
     "execution_count": 53,
     "metadata": {},
     "output_type": "execute_result"
    }
   ],
   "source": [
    "a + b + c + d"
   ]
  },
  {
   "cell_type": "markdown",
   "id": "535010a3",
   "metadata": {},
   "source": [
    "### BONUS"
   ]
  },
  {
   "cell_type": "code",
   "execution_count": 56,
   "id": "89357f21",
   "metadata": {},
   "outputs": [],
   "source": [
    "a = 'hip'"
   ]
  },
  {
   "cell_type": "code",
   "execution_count": 57,
   "id": "c0a70705",
   "metadata": {},
   "outputs": [
    {
     "data": {
      "text/plain": [
       "'hiphiphiphiphiphiphiphiphiphiphiphiphiphiphiphiphiphiphiphiphiphiphiphiphiphiphiphiphiphiphiphiphiphiphiphiphiphiphiphiphiphiphiphiphiphiphiphiphiphiphiphiphiphiphiphiphiphiphiphiphiphiphiphiphiphiphiphiphiphiphiphiphiphiphiphiphiphiphiphiphiphiphiphiphiphiphiphiphiphiphiphiphiphiphiphiphiphiphiphip'"
      ]
     },
     "execution_count": 57,
     "metadata": {},
     "output_type": "execute_result"
    }
   ],
   "source": [
    "a * 100"
   ]
  }
 ],
 "metadata": {
  "kernelspec": {
   "display_name": "Python 3 (ipykernel)",
   "language": "python",
   "name": "python3"
  },
  "language_info": {
   "codemirror_mode": {
    "name": "ipython",
    "version": 3
   },
   "file_extension": ".py",
   "mimetype": "text/x-python",
   "name": "python",
   "nbconvert_exporter": "python",
   "pygments_lexer": "ipython3",
   "version": "3.11.5"
  }
 },
 "nbformat": 4,
 "nbformat_minor": 5
}
