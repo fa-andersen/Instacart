{
 "cells": [
  {
   "cell_type": "code",
   "execution_count": 1,
   "id": "8d739ab2",
   "metadata": {
    "ExecuteTime": {
     "end_time": "2024-03-06T08:41:14.665819Z",
     "start_time": "2024-03-06T08:41:10.070356Z"
    }
   },
   "outputs": [],
   "source": [
    "#import libraries\n",
    "import pandas as pd\n",
    "import numpy as np\n",
    "import os\n",
    "import matplotlib.pyplot as plt\n",
    "import seaborn as sns\n",
    "import scipy"
   ]
  },
  {
   "cell_type": "code",
   "execution_count": 2,
   "id": "2519f389",
   "metadata": {
    "ExecuteTime": {
     "end_time": "2024-03-06T08:41:14.674172Z",
     "start_time": "2024-03-06T08:41:14.668845Z"
    }
   },
   "outputs": [],
   "source": [
    "#create data path\n",
    "path = r'C:\\Users\\fa_an\\OneDrive\\CareerFoundry\\Tasks\\Data Analytics Immersion\\Tasks 4.1-4.10\\02_2024 Instacart Basket Analysis'"
   ]
  },
  {
   "cell_type": "code",
   "execution_count": 3,
   "id": "0bff11b8",
   "metadata": {
    "ExecuteTime": {
     "end_time": "2024-03-06T08:42:06.375988Z",
     "start_time": "2024-03-06T08:41:14.678179Z"
    }
   },
   "outputs": [],
   "source": [
    "#import df\n",
    "df = pd.read_pickle(os.path.join(path, '02 Data', 'Prepared Data', 'ords_prods_customers_rev.pkl'))"
   ]
  },
  {
   "cell_type": "code",
   "execution_count": 6,
   "id": "42c9027f",
   "metadata": {
    "ExecuteTime": {
     "end_time": "2024-03-06T08:44:28.048519Z",
     "start_time": "2024-03-06T08:44:28.041513Z"
    }
   },
   "outputs": [],
   "source": [
    "#select only the columns needed\n",
    "columns_needed = ['order_id', 'user_id', 'order_number', 'orders_day_of_week', 'order_hour_of_day', 'days_since_prior_order', 'product_id', 'add_to_cart_order', 'reordered', 'product_name', 'department_id', 'prices', 'price_label', 'busiest_days', 'max_order', 'loyalty_flag', 'mean_product_price', 'spending_flag', 'median_days_between_orders', 'order_frequency_flag', 'Gender', 'State', 'Age', 'total_dependants', 'family_status', 'income', 'sum_order']"
   ]
  },
  {
   "cell_type": "code",
   "execution_count": 7,
   "id": "6b3d8332",
   "metadata": {
    "ExecuteTime": {
     "end_time": "2024-03-06T08:44:43.917517Z",
     "start_time": "2024-03-06T08:44:35.994462Z"
    }
   },
   "outputs": [],
   "source": [
    "df = df[columns_needed]"
   ]
  },
  {
   "cell_type": "code",
   "execution_count": 8,
   "id": "fa9a8498",
   "metadata": {
    "ExecuteTime": {
     "end_time": "2024-03-06T08:44:46.460848Z",
     "start_time": "2024-03-06T08:44:46.423993Z"
    }
   },
   "outputs": [
    {
     "name": "stdout",
     "output_type": "stream",
     "text": [
      "<class 'pandas.core.frame.DataFrame'>\n",
      "RangeIndex: 32404859 entries, 0 to 32404858\n",
      "Data columns (total 27 columns):\n",
      " #   Column                      Dtype  \n",
      "---  ------                      -----  \n",
      " 0   order_id                    int32  \n",
      " 1   user_id                     int32  \n",
      " 2   order_number                int8   \n",
      " 3   orders_day_of_week          int8   \n",
      " 4   order_hour_of_day           int8   \n",
      " 5   days_since_prior_order      float16\n",
      " 6   product_id                  int32  \n",
      " 7   add_to_cart_order           uint8  \n",
      " 8   reordered                   int8   \n",
      " 9   product_name                object \n",
      " 10  department_id               int8   \n",
      " 11  prices                      float32\n",
      " 12  price_label                 object \n",
      " 13  busiest_days                object \n",
      " 14  max_order                   int8   \n",
      " 15  loyalty_flag                object \n",
      " 16  mean_product_price          float32\n",
      " 17  spending_flag               object \n",
      " 18  median_days_between_orders  float16\n",
      " 19  order_frequency_flag        object \n",
      " 20  Gender                      object \n",
      " 21  State                       object \n",
      " 22  Age                         int8   \n",
      " 23  total_dependants            int8   \n",
      " 24  family_status               object \n",
      " 25  income                      int32  \n",
      " 26  sum_order                   float32\n",
      "dtypes: float16(2), float32(3), int32(4), int8(8), object(9), uint8(1)\n",
      "memory usage: 3.4+ GB\n"
     ]
    }
   ],
   "source": [
    "df.info()"
   ]
  },
  {
   "cell_type": "code",
   "execution_count": 9,
   "id": "9fb3ca23",
   "metadata": {
    "ExecuteTime": {
     "end_time": "2024-03-06T08:45:30.872001Z",
     "start_time": "2024-03-06T08:45:05.991922Z"
    }
   },
   "outputs": [],
   "source": [
    "#Export the updated df in pickle format as “ords_prods_customers_rev2.pkl”. (incl sum_orders column)\n",
    "df.to_pickle(os.path.join(path, '02 Data','Prepared Data', 'ords_prods_customers_rev2.pkl'))"
   ]
  },
  {
   "cell_type": "code",
   "execution_count": null,
   "id": "998a79d2",
   "metadata": {},
   "outputs": [],
   "source": []
  }
 ],
 "metadata": {
  "kernelspec": {
   "display_name": "Python 3 (ipykernel)",
   "language": "python",
   "name": "python3"
  },
  "language_info": {
   "codemirror_mode": {
    "name": "ipython",
    "version": 3
   },
   "file_extension": ".py",
   "mimetype": "text/x-python",
   "name": "python",
   "nbconvert_exporter": "python",
   "pygments_lexer": "ipython3",
   "version": "3.11.5"
  }
 },
 "nbformat": 4,
 "nbformat_minor": 5
}
