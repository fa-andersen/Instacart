{
 "cells": [
  {
   "cell_type": "markdown",
   "id": "08dc79ad",
   "metadata": {},
   "source": [
    "## 4.8 Grouping Data & Aggregating Variables"
   ]
  },
  {
   "cell_type": "markdown",
   "id": "62b099de",
   "metadata": {},
   "source": [
    "### This script contains the following points:\n",
    "#### Q1. Import libraries and data\n"
   ]
  },
  {
   "cell_type": "markdown",
   "id": "6aa2a81e",
   "metadata": {},
   "source": [
    "# Q1. Import Libraries & Data"
   ]
  },
  {
   "cell_type": "code",
   "execution_count": 1,
   "id": "eb8ab0ab",
   "metadata": {
    "ExecuteTime": {
     "end_time": "2024-02-19T00:42:02.795413Z",
     "start_time": "2024-02-19T00:42:01.662758Z"
    }
   },
   "outputs": [],
   "source": [
    "#import libraries\n",
    "import pandas as pd\n",
    "import numpy as np\n",
    "import os\n",
    "import matplotlib.pyplot as plt\n",
    "import seaborn as sns\n",
    "import scipy"
   ]
  },
  {
   "cell_type": "code",
   "execution_count": 2,
   "id": "8b9cdd9a",
   "metadata": {
    "ExecuteTime": {
     "end_time": "2024-02-19T00:42:07.659295Z",
     "start_time": "2024-02-19T00:42:07.653894Z"
    }
   },
   "outputs": [],
   "source": [
    "#create data path\n",
    "path = r'C:\\Users\\fa_an\\OneDrive\\CareerFoundry\\Tasks\\Data Analytics Immersion\\Tasks 4.1-4.10\\02_2024 Instacart Basket Analysis'"
   ]
  },
  {
   "cell_type": "code",
   "execution_count": 24,
   "id": "ed2ba2da",
   "metadata": {
    "ExecuteTime": {
     "end_time": "2024-02-19T01:31:20.647107Z",
     "start_time": "2024-02-19T01:31:08.405064Z"
    }
   },
   "outputs": [],
   "source": [
    "#import data - ords_prods_merge.pkl as df_ords_prods_merge\n",
    "ords_prods_merge = pd.read_pickle(os.path.join(path, '02 Data', 'Prepared Data', 'ords_prods_grouped.pkl'))"
   ]
  },
  {
   "cell_type": "code",
   "execution_count": 5,
   "id": "cc8ad019",
   "metadata": {
    "ExecuteTime": {
     "end_time": "2024-02-19T00:46:01.037592Z",
     "start_time": "2024-02-19T00:46:01.028454Z"
    }
   },
   "outputs": [
    {
     "data": {
      "text/plain": [
       "(32404859, 25)"
      ]
     },
     "execution_count": 5,
     "metadata": {},
     "output_type": "execute_result"
    }
   ],
   "source": [
    "#check shape\n",
    "ords_prods_merge.shape"
   ]
  },
  {
   "cell_type": "code",
   "execution_count": 7,
   "id": "74bc809f",
   "metadata": {
    "ExecuteTime": {
     "end_time": "2024-02-19T00:49:28.156122Z",
     "start_time": "2024-02-19T00:49:28.151867Z"
    }
   },
   "outputs": [],
   "source": [
    "# Set the maximum number of columns to display\n",
    "pd.set_option('display.max_columns', None)"
   ]
  },
  {
   "cell_type": "code",
   "execution_count": 8,
   "id": "dd154a28",
   "metadata": {
    "ExecuteTime": {
     "end_time": "2024-02-19T00:49:30.286544Z",
     "start_time": "2024-02-19T00:49:30.271823Z"
    }
   },
   "outputs": [
    {
     "data": {
      "text/html": [
       "<div>\n",
       "<style scoped>\n",
       "    .dataframe tbody tr th:only-of-type {\n",
       "        vertical-align: middle;\n",
       "    }\n",
       "\n",
       "    .dataframe tbody tr th {\n",
       "        vertical-align: top;\n",
       "    }\n",
       "\n",
       "    .dataframe thead th {\n",
       "        text-align: right;\n",
       "    }\n",
       "</style>\n",
       "<table border=\"1\" class=\"dataframe\">\n",
       "  <thead>\n",
       "    <tr style=\"text-align: right;\">\n",
       "      <th></th>\n",
       "      <th>order_id</th>\n",
       "      <th>user_id</th>\n",
       "      <th>eval_set</th>\n",
       "      <th>order_number</th>\n",
       "      <th>orders_day_of_week</th>\n",
       "      <th>order_hour_of_day</th>\n",
       "      <th>days_since_prior_order</th>\n",
       "      <th>first_or_repeat_order</th>\n",
       "      <th>product_id</th>\n",
       "      <th>add_to_cart_order</th>\n",
       "      <th>reordered</th>\n",
       "      <th>product_name</th>\n",
       "      <th>aisle_id</th>\n",
       "      <th>department_id</th>\n",
       "      <th>prices</th>\n",
       "      <th>price_label</th>\n",
       "      <th>busiest_day</th>\n",
       "      <th>busiest_days</th>\n",
       "      <th>busiest_period_of_day</th>\n",
       "      <th>max_order</th>\n",
       "      <th>loyalty_flag</th>\n",
       "      <th>mean_product_price</th>\n",
       "      <th>spending_flag</th>\n",
       "      <th>median_days_between_orders</th>\n",
       "      <th>order_frequency_flag</th>\n",
       "    </tr>\n",
       "  </thead>\n",
       "  <tbody>\n",
       "    <tr>\n",
       "      <th>0</th>\n",
       "      <td>2539329</td>\n",
       "      <td>1</td>\n",
       "      <td>prior</td>\n",
       "      <td>1</td>\n",
       "      <td>2</td>\n",
       "      <td>8</td>\n",
       "      <td>NaN</td>\n",
       "      <td>First Order</td>\n",
       "      <td>196</td>\n",
       "      <td>1</td>\n",
       "      <td>0</td>\n",
       "      <td>Soda</td>\n",
       "      <td>77</td>\n",
       "      <td>7</td>\n",
       "      <td>9.0</td>\n",
       "      <td>Mid-range product</td>\n",
       "      <td>Regularly busy</td>\n",
       "      <td>Regularly busy</td>\n",
       "      <td>Average Orders</td>\n",
       "      <td>10</td>\n",
       "      <td>New Customer</td>\n",
       "      <td>6.367797</td>\n",
       "      <td>Low Spender</td>\n",
       "      <td>20.5</td>\n",
       "      <td>Non-frequent customer</td>\n",
       "    </tr>\n",
       "    <tr>\n",
       "      <th>1</th>\n",
       "      <td>2398795</td>\n",
       "      <td>1</td>\n",
       "      <td>prior</td>\n",
       "      <td>2</td>\n",
       "      <td>3</td>\n",
       "      <td>7</td>\n",
       "      <td>15.0</td>\n",
       "      <td>Repeat Order</td>\n",
       "      <td>196</td>\n",
       "      <td>1</td>\n",
       "      <td>1</td>\n",
       "      <td>Soda</td>\n",
       "      <td>77</td>\n",
       "      <td>7</td>\n",
       "      <td>9.0</td>\n",
       "      <td>Mid-range product</td>\n",
       "      <td>Regularly busy</td>\n",
       "      <td>Slowest days</td>\n",
       "      <td>Average Orders</td>\n",
       "      <td>10</td>\n",
       "      <td>New Customer</td>\n",
       "      <td>6.367797</td>\n",
       "      <td>Low Spender</td>\n",
       "      <td>20.5</td>\n",
       "      <td>Non-frequent customer</td>\n",
       "    </tr>\n",
       "    <tr>\n",
       "      <th>2</th>\n",
       "      <td>473747</td>\n",
       "      <td>1</td>\n",
       "      <td>prior</td>\n",
       "      <td>3</td>\n",
       "      <td>3</td>\n",
       "      <td>12</td>\n",
       "      <td>21.0</td>\n",
       "      <td>Repeat Order</td>\n",
       "      <td>196</td>\n",
       "      <td>1</td>\n",
       "      <td>1</td>\n",
       "      <td>Soda</td>\n",
       "      <td>77</td>\n",
       "      <td>7</td>\n",
       "      <td>9.0</td>\n",
       "      <td>Mid-range product</td>\n",
       "      <td>Regularly busy</td>\n",
       "      <td>Slowest days</td>\n",
       "      <td>Most Orders</td>\n",
       "      <td>10</td>\n",
       "      <td>New Customer</td>\n",
       "      <td>6.367797</td>\n",
       "      <td>Low Spender</td>\n",
       "      <td>20.5</td>\n",
       "      <td>Non-frequent customer</td>\n",
       "    </tr>\n",
       "    <tr>\n",
       "      <th>3</th>\n",
       "      <td>2254736</td>\n",
       "      <td>1</td>\n",
       "      <td>prior</td>\n",
       "      <td>4</td>\n",
       "      <td>4</td>\n",
       "      <td>7</td>\n",
       "      <td>29.0</td>\n",
       "      <td>Repeat Order</td>\n",
       "      <td>196</td>\n",
       "      <td>1</td>\n",
       "      <td>1</td>\n",
       "      <td>Soda</td>\n",
       "      <td>77</td>\n",
       "      <td>7</td>\n",
       "      <td>9.0</td>\n",
       "      <td>Mid-range product</td>\n",
       "      <td>Least busy</td>\n",
       "      <td>Slowest days</td>\n",
       "      <td>Average Orders</td>\n",
       "      <td>10</td>\n",
       "      <td>New Customer</td>\n",
       "      <td>6.367797</td>\n",
       "      <td>Low Spender</td>\n",
       "      <td>20.5</td>\n",
       "      <td>Non-frequent customer</td>\n",
       "    </tr>\n",
       "    <tr>\n",
       "      <th>4</th>\n",
       "      <td>431534</td>\n",
       "      <td>1</td>\n",
       "      <td>prior</td>\n",
       "      <td>5</td>\n",
       "      <td>4</td>\n",
       "      <td>15</td>\n",
       "      <td>28.0</td>\n",
       "      <td>Repeat Order</td>\n",
       "      <td>196</td>\n",
       "      <td>1</td>\n",
       "      <td>1</td>\n",
       "      <td>Soda</td>\n",
       "      <td>77</td>\n",
       "      <td>7</td>\n",
       "      <td>9.0</td>\n",
       "      <td>Mid-range product</td>\n",
       "      <td>Least busy</td>\n",
       "      <td>Slowest days</td>\n",
       "      <td>Most Orders</td>\n",
       "      <td>10</td>\n",
       "      <td>New Customer</td>\n",
       "      <td>6.367797</td>\n",
       "      <td>Low Spender</td>\n",
       "      <td>20.5</td>\n",
       "      <td>Non-frequent customer</td>\n",
       "    </tr>\n",
       "  </tbody>\n",
       "</table>\n",
       "</div>"
      ],
      "text/plain": [
       "   order_id  user_id eval_set  order_number  orders_day_of_week  \\\n",
       "0   2539329        1    prior             1                   2   \n",
       "1   2398795        1    prior             2                   3   \n",
       "2    473747        1    prior             3                   3   \n",
       "3   2254736        1    prior             4                   4   \n",
       "4    431534        1    prior             5                   4   \n",
       "\n",
       "   order_hour_of_day  days_since_prior_order first_or_repeat_order  \\\n",
       "0                  8                     NaN           First Order   \n",
       "1                  7                    15.0          Repeat Order   \n",
       "2                 12                    21.0          Repeat Order   \n",
       "3                  7                    29.0          Repeat Order   \n",
       "4                 15                    28.0          Repeat Order   \n",
       "\n",
       "   product_id  add_to_cart_order  reordered product_name  aisle_id  \\\n",
       "0         196                  1          0         Soda        77   \n",
       "1         196                  1          1         Soda        77   \n",
       "2         196                  1          1         Soda        77   \n",
       "3         196                  1          1         Soda        77   \n",
       "4         196                  1          1         Soda        77   \n",
       "\n",
       "   department_id  prices        price_label     busiest_day    busiest_days  \\\n",
       "0              7     9.0  Mid-range product  Regularly busy  Regularly busy   \n",
       "1              7     9.0  Mid-range product  Regularly busy    Slowest days   \n",
       "2              7     9.0  Mid-range product  Regularly busy    Slowest days   \n",
       "3              7     9.0  Mid-range product      Least busy    Slowest days   \n",
       "4              7     9.0  Mid-range product      Least busy    Slowest days   \n",
       "\n",
       "  busiest_period_of_day  max_order  loyalty_flag  mean_product_price  \\\n",
       "0        Average Orders         10  New Customer            6.367797   \n",
       "1        Average Orders         10  New Customer            6.367797   \n",
       "2           Most Orders         10  New Customer            6.367797   \n",
       "3        Average Orders         10  New Customer            6.367797   \n",
       "4           Most Orders         10  New Customer            6.367797   \n",
       "\n",
       "  spending_flag  median_days_between_orders   order_frequency_flag  \n",
       "0   Low Spender                        20.5  Non-frequent customer  \n",
       "1   Low Spender                        20.5  Non-frequent customer  \n",
       "2   Low Spender                        20.5  Non-frequent customer  \n",
       "3   Low Spender                        20.5  Non-frequent customer  \n",
       "4   Low Spender                        20.5  Non-frequent customer  "
      ]
     },
     "execution_count": 8,
     "metadata": {},
     "output_type": "execute_result"
    }
   ],
   "source": [
    "ords_prods_merge.head()"
   ]
  },
  {
   "cell_type": "markdown",
   "id": "d59fd3d6",
   "metadata": {},
   "source": [
    "# 02 Creating Bar Charts"
   ]
  },
  {
   "cell_type": "code",
   "execution_count": 9,
   "id": "5b21a7a8",
   "metadata": {
    "ExecuteTime": {
     "end_time": "2024-02-19T00:51:38.899014Z",
     "start_time": "2024-02-19T00:51:38.581412Z"
    }
   },
   "outputs": [
    {
     "data": {
      "text/plain": [
       "<Axes: xlabel='orders_day_of_week'>"
      ]
     },
     "execution_count": 9,
     "metadata": {},
     "output_type": "execute_result"
    },
    {
     "data": {
      "image/png": "[encoded data removed]",
      "text/plain": [
       "<Figure size 640x480 with 1 Axes>"
      ]
     },
     "metadata": {},
     "output_type": "display_data"
    }
   ],
   "source": [
    "#create a bar chart\n",
    "ords_prods_merge['orders_day_of_week'].value_counts().plot.bar()"
   ]
  },
  {
   "cell_type": "code",
   "execution_count": 10,
   "id": "f5599ab8",
   "metadata": {
    "ExecuteTime": {
     "end_time": "2024-02-19T00:56:09.390800Z",
     "start_time": "2024-02-19T00:56:09.143078Z"
    }
   },
   "outputs": [
    {
     "data": {
      "text/plain": [
       "<Axes: xlabel='orders_day_of_week'>"
      ]
     },
     "execution_count": 10,
     "metadata": {},
     "output_type": "execute_result"
    },
    {
     "data": {
      "image/png": "[encoded data removed]",
      "text/plain": [
       "<Figure size 640x480 with 1 Axes>"
      ]
     },
     "metadata": {},
     "output_type": "display_data"
    }
   ],
   "source": [
    "#create a bar chart appearing in indexed order\n",
    "ords_prods_merge['orders_day_of_week'].value_counts().sort_index().plot.bar()"
   ]
  },
  {
   "cell_type": "code",
   "execution_count": 11,
   "id": "f67a082c",
   "metadata": {
    "ExecuteTime": {
     "end_time": "2024-02-19T00:59:09.903678Z",
     "start_time": "2024-02-19T00:59:09.686162Z"
    }
   },
   "outputs": [
    {
     "data": {
      "image/png": "[encoded data removed]",
      "text/plain": [
       "<Figure size 640x480 with 1 Axes>"
      ]
     },
     "metadata": {},
     "output_type": "display_data"
    }
   ],
   "source": [
    "#create/update bar chart with color\n",
    "bar = ords_prods_merge['orders_day_of_week'].value_counts().plot.bar(color = ['purple', 'red', 'pink', 'orange', 'yellow', 'green', 'blue'])"
   ]
  },
  {
   "cell_type": "markdown",
   "id": "81a0010d",
   "metadata": {},
   "source": []
  },
  {
   "cell_type": "code",
   "execution_count": 13,
   "id": "43725023",
   "metadata": {
    "ExecuteTime": {
     "end_time": "2024-02-19T01:06:09.116711Z",
     "start_time": "2024-02-19T01:06:09.086618Z"
    }
   },
   "outputs": [],
   "source": [
    "#Expoting the color bar chart\n",
    "bar.figure.savefig(os.path.join(path, '04 Analysis','Visualizations', 'bar_orders_dow.png'))"
   ]
  },
  {
   "cell_type": "code",
   "execution_count": 14,
   "id": "a2a5cc66",
   "metadata": {
    "ExecuteTime": {
     "end_time": "2024-02-19T01:07:30.657928Z",
     "start_time": "2024-02-19T01:07:29.349819Z"
    }
   },
   "outputs": [
    {
     "data": {
      "text/plain": [
       "<Axes: ylabel='Frequency'>"
      ]
     },
     "execution_count": 14,
     "metadata": {},
     "output_type": "execute_result"
    },
    {
     "data": {
      "image/png": "[encoded data removed]",
      "text/plain": [
       "<Figure size 640x480 with 1 Axes>"
      ]
     },
     "metadata": {},
     "output_type": "display_data"
    }
   ],
   "source": [
    "#create a histogram of prices column\n",
    "ords_prods_merge['prices'].plot.hist(bins = 25)"
   ]
  },
  {
   "cell_type": "code",
   "execution_count": 16,
   "id": "229907c8",
   "metadata": {
    "ExecuteTime": {
     "end_time": "2024-02-19T01:10:41.652597Z",
     "start_time": "2024-02-19T01:10:41.272793Z"
    }
   },
   "outputs": [
    {
     "data": {
      "text/plain": [
       "count    3.240486e+07\n",
       "mean     1.198023e+01\n",
       "std      4.956554e+02\n",
       "min      1.000000e+00\n",
       "25%      4.200000e+00\n",
       "50%      7.400000e+00\n",
       "75%      1.130000e+01\n",
       "max      9.999900e+04\n",
       "Name: prices, dtype: float64"
      ]
     },
     "execution_count": 16,
     "metadata": {},
     "output_type": "execute_result"
    }
   ],
   "source": [
    "#check data consistency\n",
    "ords_prods_merge['prices'].describe()"
   ]
  },
  {
   "cell_type": "code",
   "execution_count": 17,
   "id": "96ab4f94",
   "metadata": {
    "ExecuteTime": {
     "end_time": "2024-02-19T01:11:12.424942Z",
     "start_time": "2024-02-19T01:11:12.366388Z"
    }
   },
   "outputs": [
    {
     "data": {
      "text/plain": [
       "11.980225638383454"
      ]
     },
     "execution_count": 17,
     "metadata": {},
     "output_type": "execute_result"
    }
   ],
   "source": [
    "ords_prods_merge['prices'].mean()"
   ]
  },
  {
   "cell_type": "code",
   "execution_count": 18,
   "id": "fca17c5e",
   "metadata": {
    "ExecuteTime": {
     "end_time": "2024-02-19T01:11:22.241267Z",
     "start_time": "2024-02-19T01:11:22.124418Z"
    }
   },
   "outputs": [
    {
     "data": {
      "text/plain": [
       "7.4"
      ]
     },
     "execution_count": 18,
     "metadata": {},
     "output_type": "execute_result"
    }
   ],
   "source": [
    "ords_prods_merge['prices'].median()"
   ]
  },
  {
   "cell_type": "code",
   "execution_count": 19,
   "id": "63400f02",
   "metadata": {
    "ExecuteTime": {
     "end_time": "2024-02-19T01:11:35.256066Z",
     "start_time": "2024-02-19T01:11:35.219138Z"
    }
   },
   "outputs": [
    {
     "data": {
      "text/plain": [
       "99999.0"
      ]
     },
     "execution_count": 19,
     "metadata": {},
     "output_type": "execute_result"
    }
   ],
   "source": [
    "ords_prods_merge['prices'].max()"
   ]
  },
  {
   "cell_type": "code",
   "execution_count": 20,
   "id": "90febb7c",
   "metadata": {
    "ExecuteTime": {
     "end_time": "2024-02-19T01:13:38.753445Z",
     "start_time": "2024-02-19T01:12:12.925533Z"
    }
   },
   "outputs": [
    {
     "data": {
      "text/plain": [
       "<Axes: xlabel='prices', ylabel='prices'>"
      ]
     },
     "execution_count": 20,
     "metadata": {},
     "output_type": "execute_result"
    },
    {
     "data": {
      "image/png": "[encoded data removed]",
      "text/plain": [
       "<Figure size 640x480 with 1 Axes>"
      ]
     },
     "metadata": {},
     "output_type": "display_data"
    }
   ],
   "source": [
    "#create a scatterplot\n",
    "sns.scatterplot(x = 'prices', y = 'prices',data = ords_prods_merge)"
   ]
  },
  {
   "cell_type": "code",
   "execution_count": 21,
   "id": "ef81dce8",
   "metadata": {
    "ExecuteTime": {
     "end_time": "2024-02-19T01:14:47.030025Z",
     "start_time": "2024-02-19T01:14:46.972756Z"
    }
   },
   "outputs": [
    {
     "data": {
      "text/html": [
       "<div>\n",
       "<style scoped>\n",
       "    .dataframe tbody tr th:only-of-type {\n",
       "        vertical-align: middle;\n",
       "    }\n",
       "\n",
       "    .dataframe tbody tr th {\n",
       "        vertical-align: top;\n",
       "    }\n",
       "\n",
       "    .dataframe thead th {\n",
       "        text-align: right;\n",
       "    }\n",
       "</style>\n",
       "<table border=\"1\" class=\"dataframe\">\n",
       "  <thead>\n",
       "    <tr style=\"text-align: right;\">\n",
       "      <th></th>\n",
       "      <th>order_id</th>\n",
       "      <th>user_id</th>\n",
       "      <th>eval_set</th>\n",
       "      <th>order_number</th>\n",
       "      <th>orders_day_of_week</th>\n",
       "      <th>order_hour_of_day</th>\n",
       "      <th>days_since_prior_order</th>\n",
       "      <th>first_or_repeat_order</th>\n",
       "      <th>product_id</th>\n",
       "      <th>add_to_cart_order</th>\n",
       "      <th>reordered</th>\n",
       "      <th>product_name</th>\n",
       "      <th>aisle_id</th>\n",
       "      <th>department_id</th>\n",
       "      <th>prices</th>\n",
       "      <th>price_label</th>\n",
       "      <th>busiest_day</th>\n",
       "      <th>busiest_days</th>\n",
       "      <th>busiest_period_of_day</th>\n",
       "      <th>max_order</th>\n",
       "      <th>loyalty_flag</th>\n",
       "      <th>mean_product_price</th>\n",
       "      <th>spending_flag</th>\n",
       "      <th>median_days_between_orders</th>\n",
       "      <th>order_frequency_flag</th>\n",
       "    </tr>\n",
       "  </thead>\n",
       "  <tbody>\n",
       "    <tr>\n",
       "      <th>10030345</th>\n",
       "      <td>912404</td>\n",
       "      <td>17</td>\n",
       "      <td>prior</td>\n",
       "      <td>12</td>\n",
       "      <td>2</td>\n",
       "      <td>14</td>\n",
       "      <td>5.0</td>\n",
       "      <td>Repeat Order</td>\n",
       "      <td>21553</td>\n",
       "      <td>5</td>\n",
       "      <td>0</td>\n",
       "      <td>Lowfat 2% Milkfat Cottage Cheese</td>\n",
       "      <td>108</td>\n",
       "      <td>16</td>\n",
       "      <td>14900.0</td>\n",
       "      <td>High Range Product</td>\n",
       "      <td>Regularly busy</td>\n",
       "      <td>Regularly busy</td>\n",
       "      <td>Most Orders</td>\n",
       "      <td>40</td>\n",
       "      <td>Regular Customer</td>\n",
       "      <td>108.648299</td>\n",
       "      <td>High Spender</td>\n",
       "      <td>5.0</td>\n",
       "      <td>Frequent customer</td>\n",
       "    </tr>\n",
       "    <tr>\n",
       "      <th>10030346</th>\n",
       "      <td>603376</td>\n",
       "      <td>17</td>\n",
       "      <td>prior</td>\n",
       "      <td>22</td>\n",
       "      <td>6</td>\n",
       "      <td>16</td>\n",
       "      <td>4.0</td>\n",
       "      <td>Repeat Order</td>\n",
       "      <td>21553</td>\n",
       "      <td>3</td>\n",
       "      <td>1</td>\n",
       "      <td>Lowfat 2% Milkfat Cottage Cheese</td>\n",
       "      <td>108</td>\n",
       "      <td>16</td>\n",
       "      <td>14900.0</td>\n",
       "      <td>High Range Product</td>\n",
       "      <td>Regularly busy</td>\n",
       "      <td>Regularly busy</td>\n",
       "      <td>Most Orders</td>\n",
       "      <td>40</td>\n",
       "      <td>Regular Customer</td>\n",
       "      <td>108.648299</td>\n",
       "      <td>High Spender</td>\n",
       "      <td>5.0</td>\n",
       "      <td>Frequent customer</td>\n",
       "    </tr>\n",
       "    <tr>\n",
       "      <th>10030347</th>\n",
       "      <td>3264360</td>\n",
       "      <td>135</td>\n",
       "      <td>prior</td>\n",
       "      <td>2</td>\n",
       "      <td>2</td>\n",
       "      <td>21</td>\n",
       "      <td>13.0</td>\n",
       "      <td>Repeat Order</td>\n",
       "      <td>21553</td>\n",
       "      <td>6</td>\n",
       "      <td>0</td>\n",
       "      <td>Lowfat 2% Milkfat Cottage Cheese</td>\n",
       "      <td>108</td>\n",
       "      <td>16</td>\n",
       "      <td>14900.0</td>\n",
       "      <td>High Range Product</td>\n",
       "      <td>Regularly busy</td>\n",
       "      <td>Regularly busy</td>\n",
       "      <td>Average Orders</td>\n",
       "      <td>4</td>\n",
       "      <td>New Customer</td>\n",
       "      <td>1154.792308</td>\n",
       "      <td>High Spender</td>\n",
       "      <td>12.0</td>\n",
       "      <td>Regular customer</td>\n",
       "    </tr>\n",
       "    <tr>\n",
       "      <th>10030348</th>\n",
       "      <td>892534</td>\n",
       "      <td>135</td>\n",
       "      <td>prior</td>\n",
       "      <td>3</td>\n",
       "      <td>0</td>\n",
       "      <td>8</td>\n",
       "      <td>12.0</td>\n",
       "      <td>Repeat Order</td>\n",
       "      <td>21553</td>\n",
       "      <td>3</td>\n",
       "      <td>1</td>\n",
       "      <td>Lowfat 2% Milkfat Cottage Cheese</td>\n",
       "      <td>108</td>\n",
       "      <td>16</td>\n",
       "      <td>14900.0</td>\n",
       "      <td>High Range Product</td>\n",
       "      <td>Busiest day</td>\n",
       "      <td>Busiest days</td>\n",
       "      <td>Average Orders</td>\n",
       "      <td>4</td>\n",
       "      <td>New Customer</td>\n",
       "      <td>1154.792308</td>\n",
       "      <td>High Spender</td>\n",
       "      <td>12.0</td>\n",
       "      <td>Regular customer</td>\n",
       "    </tr>\n",
       "    <tr>\n",
       "      <th>10030349</th>\n",
       "      <td>229704</td>\n",
       "      <td>342</td>\n",
       "      <td>prior</td>\n",
       "      <td>8</td>\n",
       "      <td>1</td>\n",
       "      <td>19</td>\n",
       "      <td>30.0</td>\n",
       "      <td>Repeat Order</td>\n",
       "      <td>21553</td>\n",
       "      <td>9</td>\n",
       "      <td>0</td>\n",
       "      <td>Lowfat 2% Milkfat Cottage Cheese</td>\n",
       "      <td>108</td>\n",
       "      <td>16</td>\n",
       "      <td>14900.0</td>\n",
       "      <td>High Range Product</td>\n",
       "      <td>Regularly busy</td>\n",
       "      <td>Busiest days</td>\n",
       "      <td>Average Orders</td>\n",
       "      <td>16</td>\n",
       "      <td>Regular Customer</td>\n",
       "      <td>114.426619</td>\n",
       "      <td>High Spender</td>\n",
       "      <td>23.0</td>\n",
       "      <td>Non-frequent customer</td>\n",
       "    </tr>\n",
       "    <tr>\n",
       "      <th>...</th>\n",
       "      <td>...</td>\n",
       "      <td>...</td>\n",
       "      <td>...</td>\n",
       "      <td>...</td>\n",
       "      <td>...</td>\n",
       "      <td>...</td>\n",
       "      <td>...</td>\n",
       "      <td>...</td>\n",
       "      <td>...</td>\n",
       "      <td>...</td>\n",
       "      <td>...</td>\n",
       "      <td>...</td>\n",
       "      <td>...</td>\n",
       "      <td>...</td>\n",
       "      <td>...</td>\n",
       "      <td>...</td>\n",
       "      <td>...</td>\n",
       "      <td>...</td>\n",
       "      <td>...</td>\n",
       "      <td>...</td>\n",
       "      <td>...</td>\n",
       "      <td>...</td>\n",
       "      <td>...</td>\n",
       "      <td>...</td>\n",
       "      <td>...</td>\n",
       "    </tr>\n",
       "    <tr>\n",
       "      <th>29166209</th>\n",
       "      <td>2249946</td>\n",
       "      <td>204099</td>\n",
       "      <td>prior</td>\n",
       "      <td>29</td>\n",
       "      <td>0</td>\n",
       "      <td>8</td>\n",
       "      <td>4.0</td>\n",
       "      <td>Repeat Order</td>\n",
       "      <td>33664</td>\n",
       "      <td>1</td>\n",
       "      <td>0</td>\n",
       "      <td>2 % Reduced Fat  Milk</td>\n",
       "      <td>84</td>\n",
       "      <td>16</td>\n",
       "      <td>99999.0</td>\n",
       "      <td>High Range Product</td>\n",
       "      <td>Busiest day</td>\n",
       "      <td>Busiest days</td>\n",
       "      <td>Average Orders</td>\n",
       "      <td>39</td>\n",
       "      <td>Regular Customer</td>\n",
       "      <td>1106.743956</td>\n",
       "      <td>High Spender</td>\n",
       "      <td>4.0</td>\n",
       "      <td>Frequent customer</td>\n",
       "    </tr>\n",
       "    <tr>\n",
       "      <th>29166210</th>\n",
       "      <td>2363282</td>\n",
       "      <td>204099</td>\n",
       "      <td>prior</td>\n",
       "      <td>31</td>\n",
       "      <td>0</td>\n",
       "      <td>9</td>\n",
       "      <td>2.0</td>\n",
       "      <td>Repeat Order</td>\n",
       "      <td>33664</td>\n",
       "      <td>1</td>\n",
       "      <td>1</td>\n",
       "      <td>2 % Reduced Fat  Milk</td>\n",
       "      <td>84</td>\n",
       "      <td>16</td>\n",
       "      <td>99999.0</td>\n",
       "      <td>High Range Product</td>\n",
       "      <td>Busiest day</td>\n",
       "      <td>Busiest days</td>\n",
       "      <td>Most Orders</td>\n",
       "      <td>39</td>\n",
       "      <td>Regular Customer</td>\n",
       "      <td>1106.743956</td>\n",
       "      <td>High Spender</td>\n",
       "      <td>4.0</td>\n",
       "      <td>Frequent customer</td>\n",
       "    </tr>\n",
       "    <tr>\n",
       "      <th>29166211</th>\n",
       "      <td>3181945</td>\n",
       "      <td>204395</td>\n",
       "      <td>prior</td>\n",
       "      <td>13</td>\n",
       "      <td>3</td>\n",
       "      <td>15</td>\n",
       "      <td>8.0</td>\n",
       "      <td>Repeat Order</td>\n",
       "      <td>33664</td>\n",
       "      <td>25</td>\n",
       "      <td>0</td>\n",
       "      <td>2 % Reduced Fat  Milk</td>\n",
       "      <td>84</td>\n",
       "      <td>16</td>\n",
       "      <td>99999.0</td>\n",
       "      <td>High Range Product</td>\n",
       "      <td>Regularly busy</td>\n",
       "      <td>Slowest days</td>\n",
       "      <td>Most Orders</td>\n",
       "      <td>15</td>\n",
       "      <td>Regular Customer</td>\n",
       "      <td>451.153540</td>\n",
       "      <td>High Spender</td>\n",
       "      <td>5.0</td>\n",
       "      <td>Frequent customer</td>\n",
       "    </tr>\n",
       "    <tr>\n",
       "      <th>29166212</th>\n",
       "      <td>2486215</td>\n",
       "      <td>205227</td>\n",
       "      <td>prior</td>\n",
       "      <td>7</td>\n",
       "      <td>3</td>\n",
       "      <td>20</td>\n",
       "      <td>4.0</td>\n",
       "      <td>Repeat Order</td>\n",
       "      <td>33664</td>\n",
       "      <td>8</td>\n",
       "      <td>0</td>\n",
       "      <td>2 % Reduced Fat  Milk</td>\n",
       "      <td>84</td>\n",
       "      <td>16</td>\n",
       "      <td>99999.0</td>\n",
       "      <td>High Range Product</td>\n",
       "      <td>Regularly busy</td>\n",
       "      <td>Slowest days</td>\n",
       "      <td>Average Orders</td>\n",
       "      <td>12</td>\n",
       "      <td>Regular Customer</td>\n",
       "      <td>1178.381871</td>\n",
       "      <td>High Spender</td>\n",
       "      <td>12.0</td>\n",
       "      <td>Regular customer</td>\n",
       "    </tr>\n",
       "    <tr>\n",
       "      <th>29166213</th>\n",
       "      <td>2232716</td>\n",
       "      <td>205227</td>\n",
       "      <td>prior</td>\n",
       "      <td>10</td>\n",
       "      <td>0</td>\n",
       "      <td>11</td>\n",
       "      <td>4.0</td>\n",
       "      <td>Repeat Order</td>\n",
       "      <td>33664</td>\n",
       "      <td>23</td>\n",
       "      <td>1</td>\n",
       "      <td>2 % Reduced Fat  Milk</td>\n",
       "      <td>84</td>\n",
       "      <td>16</td>\n",
       "      <td>99999.0</td>\n",
       "      <td>High Range Product</td>\n",
       "      <td>Busiest day</td>\n",
       "      <td>Busiest days</td>\n",
       "      <td>Most Orders</td>\n",
       "      <td>12</td>\n",
       "      <td>Regular Customer</td>\n",
       "      <td>1178.381871</td>\n",
       "      <td>High Spender</td>\n",
       "      <td>12.0</td>\n",
       "      <td>Regular customer</td>\n",
       "    </tr>\n",
       "  </tbody>\n",
       "</table>\n",
       "<p>5127 rows × 25 columns</p>\n",
       "</div>"
      ],
      "text/plain": [
       "          order_id  user_id eval_set  order_number  orders_day_of_week  \\\n",
       "10030345    912404       17    prior            12                   2   \n",
       "10030346    603376       17    prior            22                   6   \n",
       "10030347   3264360      135    prior             2                   2   \n",
       "10030348    892534      135    prior             3                   0   \n",
       "10030349    229704      342    prior             8                   1   \n",
       "...            ...      ...      ...           ...                 ...   \n",
       "29166209   2249946   204099    prior            29                   0   \n",
       "29166210   2363282   204099    prior            31                   0   \n",
       "29166211   3181945   204395    prior            13                   3   \n",
       "29166212   2486215   205227    prior             7                   3   \n",
       "29166213   2232716   205227    prior            10                   0   \n",
       "\n",
       "          order_hour_of_day  days_since_prior_order first_or_repeat_order  \\\n",
       "10030345                 14                     5.0          Repeat Order   \n",
       "10030346                 16                     4.0          Repeat Order   \n",
       "10030347                 21                    13.0          Repeat Order   \n",
       "10030348                  8                    12.0          Repeat Order   \n",
       "10030349                 19                    30.0          Repeat Order   \n",
       "...                     ...                     ...                   ...   \n",
       "29166209                  8                     4.0          Repeat Order   \n",
       "29166210                  9                     2.0          Repeat Order   \n",
       "29166211                 15                     8.0          Repeat Order   \n",
       "29166212                 20                     4.0          Repeat Order   \n",
       "29166213                 11                     4.0          Repeat Order   \n",
       "\n",
       "          product_id  add_to_cart_order  reordered  \\\n",
       "10030345       21553                  5          0   \n",
       "10030346       21553                  3          1   \n",
       "10030347       21553                  6          0   \n",
       "10030348       21553                  3          1   \n",
       "10030349       21553                  9          0   \n",
       "...              ...                ...        ...   \n",
       "29166209       33664                  1          0   \n",
       "29166210       33664                  1          1   \n",
       "29166211       33664                 25          0   \n",
       "29166212       33664                  8          0   \n",
       "29166213       33664                 23          1   \n",
       "\n",
       "                              product_name  aisle_id  department_id   prices  \\\n",
       "10030345  Lowfat 2% Milkfat Cottage Cheese       108             16  14900.0   \n",
       "10030346  Lowfat 2% Milkfat Cottage Cheese       108             16  14900.0   \n",
       "10030347  Lowfat 2% Milkfat Cottage Cheese       108             16  14900.0   \n",
       "10030348  Lowfat 2% Milkfat Cottage Cheese       108             16  14900.0   \n",
       "10030349  Lowfat 2% Milkfat Cottage Cheese       108             16  14900.0   \n",
       "...                                    ...       ...            ...      ...   \n",
       "29166209             2 % Reduced Fat  Milk        84             16  99999.0   \n",
       "29166210             2 % Reduced Fat  Milk        84             16  99999.0   \n",
       "29166211             2 % Reduced Fat  Milk        84             16  99999.0   \n",
       "29166212             2 % Reduced Fat  Milk        84             16  99999.0   \n",
       "29166213             2 % Reduced Fat  Milk        84             16  99999.0   \n",
       "\n",
       "                 price_label     busiest_day    busiest_days  \\\n",
       "10030345  High Range Product  Regularly busy  Regularly busy   \n",
       "10030346  High Range Product  Regularly busy  Regularly busy   \n",
       "10030347  High Range Product  Regularly busy  Regularly busy   \n",
       "10030348  High Range Product     Busiest day    Busiest days   \n",
       "10030349  High Range Product  Regularly busy    Busiest days   \n",
       "...                      ...             ...             ...   \n",
       "29166209  High Range Product     Busiest day    Busiest days   \n",
       "29166210  High Range Product     Busiest day    Busiest days   \n",
       "29166211  High Range Product  Regularly busy    Slowest days   \n",
       "29166212  High Range Product  Regularly busy    Slowest days   \n",
       "29166213  High Range Product     Busiest day    Busiest days   \n",
       "\n",
       "         busiest_period_of_day  max_order      loyalty_flag  \\\n",
       "10030345           Most Orders         40  Regular Customer   \n",
       "10030346           Most Orders         40  Regular Customer   \n",
       "10030347        Average Orders          4      New Customer   \n",
       "10030348        Average Orders          4      New Customer   \n",
       "10030349        Average Orders         16  Regular Customer   \n",
       "...                        ...        ...               ...   \n",
       "29166209        Average Orders         39  Regular Customer   \n",
       "29166210           Most Orders         39  Regular Customer   \n",
       "29166211           Most Orders         15  Regular Customer   \n",
       "29166212        Average Orders         12  Regular Customer   \n",
       "29166213           Most Orders         12  Regular Customer   \n",
       "\n",
       "          mean_product_price spending_flag  median_days_between_orders  \\\n",
       "10030345          108.648299  High Spender                         5.0   \n",
       "10030346          108.648299  High Spender                         5.0   \n",
       "10030347         1154.792308  High Spender                        12.0   \n",
       "10030348         1154.792308  High Spender                        12.0   \n",
       "10030349          114.426619  High Spender                        23.0   \n",
       "...                      ...           ...                         ...   \n",
       "29166209         1106.743956  High Spender                         4.0   \n",
       "29166210         1106.743956  High Spender                         4.0   \n",
       "29166211          451.153540  High Spender                         5.0   \n",
       "29166212         1178.381871  High Spender                        12.0   \n",
       "29166213         1178.381871  High Spender                        12.0   \n",
       "\n",
       "           order_frequency_flag  \n",
       "10030345      Frequent customer  \n",
       "10030346      Frequent customer  \n",
       "10030347       Regular customer  \n",
       "10030348       Regular customer  \n",
       "10030349  Non-frequent customer  \n",
       "...                         ...  \n",
       "29166209      Frequent customer  \n",
       "29166210      Frequent customer  \n",
       "29166211      Frequent customer  \n",
       "29166212       Regular customer  \n",
       "29166213       Regular customer  \n",
       "\n",
       "[5127 rows x 25 columns]"
      ]
     },
     "execution_count": 21,
     "metadata": {},
     "output_type": "execute_result"
    }
   ],
   "source": [
    "#determine and check for outliers\n",
    "ords_prods_merge.loc[ords_prods_merge['prices'] > 100]"
   ]
  },
  {
   "cell_type": "code",
   "execution_count": 22,
   "id": "04702828",
   "metadata": {
    "ExecuteTime": {
     "end_time": "2024-02-19T01:17:51.256817Z",
     "start_time": "2024-02-19T01:17:51.203528Z"
    }
   },
   "outputs": [],
   "source": [
    "#turn outliers into NaNs (missing values)\n",
    "ords_prods_merge.loc[ords_prods_merge['prices'] >100, 'prices'] = np.nan"
   ]
  },
  {
   "cell_type": "code",
   "execution_count": 23,
   "id": "a253b7af",
   "metadata": {
    "ExecuteTime": {
     "end_time": "2024-02-19T01:18:11.737753Z",
     "start_time": "2024-02-19T01:18:11.701878Z"
    }
   },
   "outputs": [
    {
     "data": {
      "text/plain": [
       "25.0"
      ]
     },
     "execution_count": 23,
     "metadata": {},
     "output_type": "execute_result"
    }
   ],
   "source": [
    "ords_prods_merge['prices'].max()"
   ]
  },
  {
   "cell_type": "code",
   "execution_count": 28,
   "id": "d964ea61",
   "metadata": {
    "ExecuteTime": {
     "end_time": "2024-02-19T01:35:56.523390Z",
     "start_time": "2024-02-19T01:35:55.435030Z"
    }
   },
   "outputs": [
    {
     "data": {
      "image/png": "[encoded data removed]",
      "text/plain": [
       "<Figure size 640x480 with 1 Axes>"
      ]
     },
     "metadata": {},
     "output_type": "display_data"
    }
   ],
   "source": [
    "#create a histogram of prices column w/updated data -cleaned outliers\n",
    "hist = ords_prods_merge['prices'].plot.hist(bins = 25)"
   ]
  },
  {
   "cell_type": "code",
   "execution_count": 29,
   "id": "9173991d",
   "metadata": {
    "ExecuteTime": {
     "end_time": "2024-02-19T01:36:01.832959Z",
     "start_time": "2024-02-19T01:36:00.690232Z"
    }
   },
   "outputs": [
    {
     "data": {
      "image/png": "[encoded data removed]",
      "text/plain": [
       "<Figure size 640x480 with 1 Axes>"
      ]
     },
     "metadata": {},
     "output_type": "display_data"
    }
   ],
   "source": [
    "#increase level of granularity in histogram by increasing bins\n",
    "hist_2 = ords_prods_merge['prices'].plot.hist(bins = 70)"
   ]
  },
  {
   "cell_type": "code",
   "execution_count": 30,
   "id": "ac87e5b5",
   "metadata": {
    "ExecuteTime": {
     "end_time": "2024-02-19T01:36:39.151117Z",
     "start_time": "2024-02-19T01:36:39.117974Z"
    }
   },
   "outputs": [],
   "source": [
    "hist.figure.savefig(os.path.join(path, '04 Analysis','Visualizations', 'hist_prices.png'))"
   ]
  },
  {
   "cell_type": "code",
   "execution_count": 31,
   "id": "5c9e1118",
   "metadata": {
    "ExecuteTime": {
     "end_time": "2024-02-19T01:37:49.563290Z",
     "start_time": "2024-02-19T01:37:49.521918Z"
    }
   },
   "outputs": [],
   "source": [
    "hist_2.figure.savefig(os.path.join(path, '04 Analysis','Visualizations', 'hist_2_prices.png'))"
   ]
  },
  {
   "cell_type": "markdown",
   "id": "92269605",
   "metadata": {},
   "source": [
    "# 4. Creating Line Charts"
   ]
  },
  {
   "cell_type": "code",
   "execution_count": 32,
   "id": "c61218ac",
   "metadata": {
    "ExecuteTime": {
     "end_time": "2024-02-19T01:46:14.910032Z",
     "start_time": "2024-02-19T01:46:14.662905Z"
    }
   },
   "outputs": [],
   "source": [
    "#Sampling Data\n",
    "#create a list holiding true/false values to the test np.random.rant() <= 0.7\n",
    "dev = np.random.rand(len(ords_prods_merge)) <= 0.7"
   ]
  },
  {
   "cell_type": "code",
   "execution_count": 33,
   "id": "e019ecbc",
   "metadata": {
    "ExecuteTime": {
     "end_time": "2024-02-19T01:47:03.767490Z",
     "start_time": "2024-02-19T01:46:49.810851Z"
    }
   },
   "outputs": [],
   "source": [
    "#store 70% of the sample in the dataframe big\n",
    "big = ords_prods_merge[dev]"
   ]
  },
  {
   "cell_type": "code",
   "execution_count": 34,
   "id": "811afd4d",
   "metadata": {
    "ExecuteTime": {
     "end_time": "2024-02-19T01:47:27.909532Z",
     "start_time": "2024-02-19T01:47:21.809303Z"
    }
   },
   "outputs": [],
   "source": [
    "#store 30% of the sample in the dataframe small\n",
    "small = ords_prods_merge[~dev]"
   ]
  },
  {
   "cell_type": "code",
   "execution_count": 35,
   "id": "3b6aef9c",
   "metadata": {
    "ExecuteTime": {
     "end_time": "2024-02-19T01:49:21.003947Z",
     "start_time": "2024-02-19T01:49:20.981105Z"
    }
   },
   "outputs": [
    {
     "data": {
      "text/plain": [
       "32404859"
      ]
     },
     "execution_count": 35,
     "metadata": {},
     "output_type": "execute_result"
    }
   ],
   "source": [
    "#use len to check sample data/subsetting steps\n",
    "len (ords_prods_merge)"
   ]
  },
  {
   "cell_type": "code",
   "execution_count": 36,
   "id": "f2a235e4",
   "metadata": {
    "ExecuteTime": {
     "end_time": "2024-02-19T01:49:34.662305Z",
     "start_time": "2024-02-19T01:49:34.638060Z"
    }
   },
   "outputs": [
    {
     "data": {
      "text/plain": [
       "32404859"
      ]
     },
     "execution_count": 36,
     "metadata": {},
     "output_type": "execute_result"
    }
   ],
   "source": [
    "len(big) + len(small)"
   ]
  },
  {
   "cell_type": "code",
   "execution_count": 42,
   "id": "20bffc9b",
   "metadata": {
    "ExecuteTime": {
     "end_time": "2024-02-19T01:57:17.163380Z",
     "start_time": "2024-02-19T01:57:17.108551Z"
    }
   },
   "outputs": [],
   "source": [
    "#reducing sample based on neccessary columns to pull data from\n",
    "df_2 = small[['orders_day_of_week', 'prices']]"
   ]
  },
  {
   "cell_type": "code",
   "execution_count": 43,
   "id": "9b4e3fa8",
   "metadata": {
    "ExecuteTime": {
     "end_time": "2024-02-19T01:59:13.185486Z",
     "start_time": "2024-02-19T01:57:19.101487Z"
    }
   },
   "outputs": [
    {
     "name": "stderr",
     "output_type": "stream",
     "text": [
      "C:\\Users\\fa_an\\anaconda3\\Lib\\site-packages\\seaborn\\_oldcore.py:1119: FutureWarning: use_inf_as_na option is deprecated and will be removed in a future version. Convert inf values to NaN before operating instead.\n",
      "  with pd.option_context('mode.use_inf_as_na', True):\n",
      "C:\\Users\\fa_an\\anaconda3\\Lib\\site-packages\\seaborn\\_oldcore.py:1119: FutureWarning: use_inf_as_na option is deprecated and will be removed in a future version. Convert inf values to NaN before operating instead.\n",
      "  with pd.option_context('mode.use_inf_as_na', True):\n"
     ]
    },
    {
     "data": {
      "image/png": "[encoded data removed]",
      "text/plain": [
       "<Figure size 640x480 with 1 Axes>"
      ]
     },
     "metadata": {},
     "output_type": "display_data"
    }
   ],
   "source": [
    "#create line chart\n",
    "line = sns.lineplot(data = df_2, x = 'orders_day_of_week', y = 'prices')"
   ]
  },
  {
   "cell_type": "code",
   "execution_count": 44,
   "id": "beadbbf2",
   "metadata": {
    "ExecuteTime": {
     "end_time": "2024-02-19T02:21:00.126931Z",
     "start_time": "2024-02-19T02:21:00.037408Z"
    }
   },
   "outputs": [],
   "source": [
    "line.figure.savefig(os.path.join(path, '04 Analysis','Visualizations', 'line_prices.png'))"
   ]
  },
  {
   "cell_type": "code",
   "execution_count": null,
   "id": "b5c7089d",
   "metadata": {},
   "outputs": [],
   "source": []
  }
 ],
 "metadata": {
  "kernelspec": {
   "display_name": "Python 3 (ipykernel)",
   "language": "python",
   "name": "python3"
  },
  "language_info": {
   "codemirror_mode": {
    "name": "ipython",
    "version": 3
   },
   "file_extension": ".py",
   "mimetype": "text/x-python",
   "name": "python",
   "nbconvert_exporter": "python",
   "pygments_lexer": "ipython3",
   "version": "3.11.5"
  },
  "varInspector": {
   "cols": {
    "lenName": 16,
    "lenType": 16,
    "lenVar": 40
   },
   "kernels_config": {
    "python": {
     "delete_cmd_postfix": "",
     "delete_cmd_prefix": "del ",
     "library": "var_list.py",
     "varRefreshCmd": "print(var_dic_list())"
    },
    "r": {
     "delete_cmd_postfix": ") ",
     "delete_cmd_prefix": "rm(",
     "library": "var_list.r",
     "varRefreshCmd": "cat(var_dic_list()) "
    }
   },
   "oldHeight": 122.85466599999998,
   "position": {
    "height": "144.188px",
    "left": "1500px",
    "right": "20px",
    "top": "431px",
    "width": "350px"
   },
   "types_to_exclude": [
    "module",
    "function",
    "builtin_function_or_method",
    "instance",
    "_Feature"
   ],
   "varInspector_section_display": "block",
   "window_display": false
  }
 },
 "nbformat": 4,
 "nbformat_minor": 5
}
